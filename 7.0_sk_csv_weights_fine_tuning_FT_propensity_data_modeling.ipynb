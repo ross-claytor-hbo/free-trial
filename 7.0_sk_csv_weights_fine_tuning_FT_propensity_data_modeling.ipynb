{
 "cells": [
  {
   "cell_type": "markdown",
   "metadata": {},
   "source": [
    "This notebook has code for data modeling and evaluation to create different training sets with an additional feature __WEIGHT__ as compared to test and validation sets for 7 Day Free trial propensity model. The  feature __WEIGHT__  represents weight of a particular training instance. The objective of this notebook is to train different models with variations in the weight of training instances for both active and dormant users. The only difference between the models is the input data.  The whole process has been divided into 2 notebooks:\n",
    "\n",
    "- Part 1: Data Preprocessing: 7.0_sk_csv_weights_fine_tuning_FT_propensity_data_preprocessing.ipynb.\n",
    "- part 2: Data Modeling and Evaluation: 7.0_sk_csv_weights_fine_tuning_FT_propensity_data_modeling.ipynb (this notebook)."
   ]
  },
  {
   "cell_type": "code",
   "execution_count": 8,
   "metadata": {},
   "outputs": [
    {
     "name": "stdout",
     "output_type": "stream",
     "text": [
      "             total       used       free     shared    buffers     cached\n",
      "Mem:         70342      66981       3361          0       1019      13057\n",
      "-/+ buffers/cache:      52904      17438\n",
      "Swap:            0          0          0\n"
     ]
    }
   ],
   "source": [
    "!free -m"
   ]
  },
  {
   "cell_type": "code",
   "execution_count": 9,
   "metadata": {},
   "outputs": [
    {
     "data": {
      "text/plain": [
       "0"
      ]
     },
     "execution_count": 9,
     "metadata": {},
     "output_type": "execute_result"
    }
   ],
   "source": [
    "import gc\n",
    "gc.collect()"
   ]
  },
  {
   "cell_type": "code",
   "execution_count": 10,
   "metadata": {},
   "outputs": [],
   "source": [
    "import time\n",
    "TIME_STR = time.strftime(\"%Y%m%d-%H%M%S\")"
   ]
  },
  {
   "cell_type": "code",
   "execution_count": 11,
   "metadata": {},
   "outputs": [],
   "source": [
    "import warnings\n",
    "warnings.filterwarnings('ignore')"
   ]
  },
  {
   "cell_type": "code",
   "execution_count": 12,
   "metadata": {},
   "outputs": [],
   "source": [
    "import os\n",
    "import json\n",
    "import numpy as np\n",
    "import pandas as pd"
   ]
  },
  {
   "cell_type": "code",
   "execution_count": 13,
   "metadata": {},
   "outputs": [],
   "source": [
    "from sklearn.metrics import accuracy_score, auc, classification_report, confusion_matrix, roc_auc_score, roc_curve\n",
    "from sklearn.model_selection import train_test_split\n",
    "from sklearn.preprocessing import OneHotEncoder"
   ]
  },
  {
   "cell_type": "code",
   "execution_count": 14,
   "metadata": {},
   "outputs": [],
   "source": [
    "import matplotlib.pyplot as plt\n",
    "import seaborn as sn"
   ]
  },
  {
   "cell_type": "code",
   "execution_count": 15,
   "metadata": {},
   "outputs": [],
   "source": [
    "import boto3\n",
    "import sagemaker\n",
    "from sagemaker.amazon.amazon_estimator import get_image_uri\n",
    "from sagemaker.predictor import csv_serializer\n",
    "from sagemaker.tuner import IntegerParameter, CategoricalParameter, ContinuousParameter, HyperparameterTuner\n",
    "import sagemaker.xgboost as xgboost"
   ]
  },
  {
   "cell_type": "code",
   "execution_count": 16,
   "metadata": {},
   "outputs": [],
   "source": [
    "RANDOM_STATE=101\n",
    "SMALL_DATASET=False"
   ]
  },
  {
   "cell_type": "code",
   "execution_count": 17,
   "metadata": {},
   "outputs": [],
   "source": [
    "TARGET_COL=\"FLG_TARGET\"\n",
    "SEGMENT_COL=\"FT_SEGMENT\""
   ]
  },
  {
   "cell_type": "code",
   "execution_count": 18,
   "metadata": {},
   "outputs": [],
   "source": [
    "BUCKET = \"datascience-hbo-users\"\n",
    "PREFIX = \"users/sk/FT_propensity/7_day\"\n",
    "DATA_PREFIX=PREFIX+\"/model_input_data\"\n",
    "MODEL_PREFIX=PREFIX+\"/model_artifacts\"\n",
    "INFERENCE_PREFIX=PREFIX+\"/inference\""
   ]
  },
  {
   "cell_type": "code",
   "execution_count": 19,
   "metadata": {},
   "outputs": [],
   "source": [
    "TRAIN_DATA_PREFIX=DATA_PREFIX+\"/csv_weights\""
   ]
  },
  {
   "cell_type": "markdown",
   "metadata": {},
   "source": [
    "# 1. Data Ingestion"
   ]
  },
  {
   "cell_type": "code",
   "execution_count": 20,
   "metadata": {},
   "outputs": [],
   "source": [
    "train_01_file_name=\"train_01.csv\"\n",
    "train_10_file_name=\"train_10.csv\"\n",
    "train_99_file_name=\"train_99.csv\""
   ]
  },
  {
   "cell_type": "code",
   "execution_count": 21,
   "metadata": {},
   "outputs": [],
   "source": [
    "train_25_file_name=\"train_25.csv\"\n",
    "train_50_file_name=\"train_50.csv\"\n",
    "train_75_file_name=\"train_75.csv\"\n",
    "\n",
    "test_file_name=\"test.csv\"\n",
    "val_file_name=\"val.csv\""
   ]
  },
  {
   "cell_type": "code",
   "execution_count": 22,
   "metadata": {},
   "outputs": [],
   "source": [
    "train_file_name_s3_dormant_weight_01_perc='s3://{}/{}/{}'.format(BUCKET, TRAIN_DATA_PREFIX, train_01_file_name)\n",
    "train_file_name_s3_dormant_weight_10_perc='s3://{}/{}/{}'.format(BUCKET, TRAIN_DATA_PREFIX, train_10_file_name)\n",
    "train_file_name_s3_dormant_weight_99_perc='s3://{}/{}/{}'.format(BUCKET, TRAIN_DATA_PREFIX, train_99_file_name)"
   ]
  },
  {
   "cell_type": "code",
   "execution_count": 23,
   "metadata": {},
   "outputs": [],
   "source": [
    "train_file_name_s3_dormant_weight_25_perc='s3://{}/{}/{}'.format(BUCKET, TRAIN_DATA_PREFIX, train_25_file_name)\n",
    "train_file_name_s3_dormant_weight_50_perc='s3://{}/{}/{}'.format(BUCKET, TRAIN_DATA_PREFIX, train_50_file_name)\n",
    "train_file_name_s3_dormant_weight_75_perc='s3://{}/{}/{}'.format(BUCKET, TRAIN_DATA_PREFIX, train_75_file_name)"
   ]
  },
  {
   "cell_type": "code",
   "execution_count": 24,
   "metadata": {},
   "outputs": [
    {
     "name": "stderr",
     "output_type": "stream",
     "text": [
      "'s3_input' class will be renamed to 'TrainingInput' in SageMaker Python SDK v2.\n",
      "'s3_input' class will be renamed to 'TrainingInput' in SageMaker Python SDK v2.\n",
      "'s3_input' class will be renamed to 'TrainingInput' in SageMaker Python SDK v2.\n"
     ]
    }
   ],
   "source": [
    "s3_input_train_01 = sagemaker.s3_input(s3_data=train_file_name_s3_dormant_weight_01_perc, content_type='csv')\n",
    "s3_input_train_10 = sagemaker.s3_input(s3_data=train_file_name_s3_dormant_weight_10_perc, content_type='csv')\n",
    "s3_input_train_99 = sagemaker.s3_input(s3_data=train_file_name_s3_dormant_weight_99_perc, content_type='csv')"
   ]
  },
  {
   "cell_type": "code",
   "execution_count": 25,
   "metadata": {},
   "outputs": [
    {
     "name": "stderr",
     "output_type": "stream",
     "text": [
      "'s3_input' class will be renamed to 'TrainingInput' in SageMaker Python SDK v2.\n",
      "'s3_input' class will be renamed to 'TrainingInput' in SageMaker Python SDK v2.\n",
      "'s3_input' class will be renamed to 'TrainingInput' in SageMaker Python SDK v2.\n"
     ]
    }
   ],
   "source": [
    "s3_input_train_25 = sagemaker.s3_input(s3_data=train_file_name_s3_dormant_weight_25_perc, content_type='csv')\n",
    "s3_input_train_50 = sagemaker.s3_input(s3_data=train_file_name_s3_dormant_weight_50_perc, content_type='csv')\n",
    "s3_input_train_75 = sagemaker.s3_input(s3_data=train_file_name_s3_dormant_weight_75_perc, content_type='csv')"
   ]
  },
  {
   "cell_type": "code",
   "execution_count": 27,
   "metadata": {},
   "outputs": [
    {
     "name": "stderr",
     "output_type": "stream",
     "text": [
      "'s3_input' class will be renamed to 'TrainingInput' in SageMaker Python SDK v2.\n",
      "'s3_input' class will be renamed to 'TrainingInput' in SageMaker Python SDK v2.\n"
     ]
    }
   ],
   "source": [
    "s3_input_test = sagemaker.s3_input(s3_data='s3://{}/{}/{}'.format(BUCKET, DATA_PREFIX, test_file_name), content_type='csv')\n",
    "s3_input_val = sagemaker.s3_input(s3_data='s3://{}/{}/{}'.format(BUCKET, DATA_PREFIX, val_file_name), content_type='csv')"
   ]
  },
  {
   "cell_type": "code",
   "execution_count": 28,
   "metadata": {},
   "outputs": [],
   "source": [
    "TEST_DATA_URL=s3_input_test.config[\"DataSource\"][\"S3DataSource\"][\"S3Uri\"]\n",
    "VAL_DATA_URL=s3_input_val.config[\"DataSource\"][\"S3DataSource\"][\"S3Uri\"]"
   ]
  },
  {
   "cell_type": "code",
   "execution_count": 29,
   "metadata": {},
   "outputs": [
    {
     "name": "stderr",
     "output_type": "stream",
     "text": [
      "'s3_input' class will be renamed to 'TrainingInput' in SageMaker Python SDK v2.\n"
     ]
    }
   ],
   "source": [
    "s3_input_test_side_info = sagemaker.s3_input(s3_data='s3://{}/{}/{}'.format(BUCKET, DATA_PREFIX, \"val_side_info.csv\"), content_type='csv')"
   ]
  },
  {
   "cell_type": "code",
   "execution_count": 30,
   "metadata": {},
   "outputs": [],
   "source": [
    "TEST_DATA_SIDE_INFO_URL=s3_input_test_side_info.config[\"DataSource\"][\"S3DataSource\"][\"S3Uri\"]\n",
    "side_info_cols=[\"UNIQUE_ID\", \"HBO_UUID\", \"PERIOD_RANK\", \"FT_SEGMENT\"]\n",
    "df_test_side_info_s3=pd.read_csv(TEST_DATA_SIDE_INFO_URL, names=side_info_cols)"
   ]
  },
  {
   "cell_type": "code",
   "execution_count": 31,
   "metadata": {},
   "outputs": [
    {
     "data": {
      "text/plain": [
       "(616006, 4)"
      ]
     },
     "execution_count": 31,
     "metadata": {},
     "output_type": "execute_result"
    }
   ],
   "source": [
    "df_test_side_info_s3.shape"
   ]
  },
  {
   "cell_type": "markdown",
   "metadata": {},
   "source": [
    "# 5. Model Training"
   ]
  },
  {
   "cell_type": "code",
   "execution_count": 61,
   "metadata": {},
   "outputs": [
    {
     "name": "stderr",
     "output_type": "stream",
     "text": [
      "WARNING:sagemaker.amazon.amazon_estimator:'get_image_uri' method will be deprecated in favor of 'ImageURIProvider' class in SageMaker Python SDK v2.\n",
      "WARNING:root:There is a more up to date SageMaker XGBoost image. To use the newer image, please set 'repo_version'='1.0-1'. For example:\n",
      "\tget_image_uri(region, 'xgboost', '1.0-1').\n"
     ]
    }
   ],
   "source": [
    "region = boto3.Session().region_name\n",
    "smclient = boto3.Session().client('sagemaker')\n",
    "role = sagemaker.get_execution_role()\n",
    "sess = sagemaker.Session()\n",
    "container = get_image_uri(region, 'xgboost', repo_version='latest')"
   ]
  },
  {
   "cell_type": "markdown",
   "metadata": {},
   "source": [
    "## 5.1 Model 1"
   ]
  },
  {
   "cell_type": "code",
   "execution_count": 200,
   "metadata": {},
   "outputs": [],
   "source": [
    "def fit_model(job_name, s3_train_path, s3_val_path):\n",
    "    model = sagemaker.estimator.Estimator(container,\n",
    "                                    role, \n",
    "                                    train_instance_count=5, \n",
    "                                    train_instance_type='ml.m4.4xlarge',\n",
    "                                    output_path='s3://{}/{}/{}'.format(BUCKET, MODEL_PREFIX, job_name),\n",
    "                                    sagemaker_session=sess)\n",
    "    model.set_hyperparameters(\n",
    "                            eval_metric='auc'\n",
    "                            , alpha=1.218487609\n",
    "                            , eta=0.225242353\n",
    "                            , max_depth=10\n",
    "                            , min_child_weight=2.284773815\n",
    "                            , num_round=100\n",
    "                            , objective='binary:logistic'\n",
    "                            , rate_drop=0.3\n",
    "                            , tweedie_variance_power=1.4\n",
    "                            , csv_weights=1\n",
    "                            , seed=RANDOM_STATE\n",
    "                            )\n",
    "\n",
    "    model.fit({'train': s3_train_path, 'validation': s3_val_path}, wait=False)\n",
    "    return model"
   ]
  },
  {
   "cell_type": "code",
   "execution_count": 203,
   "metadata": {},
   "outputs": [
    {
     "name": "stderr",
     "output_type": "stream",
     "text": [
      "WARNING:root:Parameter image_name will be renamed to image_uri in SageMaker Python SDK v2.\n"
     ]
    }
   ],
   "source": [
    "model_01=fit_model(job_name=\"csv-weights-01\",s3_train_path=s3_input_train_01, s3_val_path=s3_input_val)"
   ]
  },
  {
   "cell_type": "code",
   "execution_count": 202,
   "metadata": {},
   "outputs": [
    {
     "name": "stderr",
     "output_type": "stream",
     "text": [
      "WARNING:root:Parameter image_name will be renamed to image_uri in SageMaker Python SDK v2.\n"
     ]
    }
   ],
   "source": [
    "model_10=fit_model(job_name=\"csv-weights-10\",s3_train_path=s3_input_train_10, s3_val_path=s3_input_val)"
   ]
  },
  {
   "cell_type": "code",
   "execution_count": 204,
   "metadata": {},
   "outputs": [
    {
     "name": "stderr",
     "output_type": "stream",
     "text": [
      "WARNING:root:Parameter image_name will be renamed to image_uri in SageMaker Python SDK v2.\n"
     ]
    }
   ],
   "source": [
    "model_99=fit_model(job_name=\"csv-weights-99\",s3_train_path=s3_input_train_99, s3_val_path=s3_input_val)"
   ]
  },
  {
   "cell_type": "code",
   "execution_count": 76,
   "metadata": {},
   "outputs": [
    {
     "name": "stderr",
     "output_type": "stream",
     "text": [
      "WARNING:root:Parameter image_name will be renamed to image_uri in SageMaker Python SDK v2.\n"
     ]
    },
    {
     "name": "stdout",
     "output_type": "stream",
     "text": [
      "2020-07-16 05:20:00 Starting - Starting the training job...\n",
      "2020-07-16 05:20:02 Starting - Launching requested ML instances.........\n",
      "2020-07-16 05:21:51 Starting - Preparing the instances for training.........\n",
      "2020-07-16 05:23:17 Downloading - Downloading input data............\n",
      "2020-07-16 05:25:16 Training - Downloading the training image.\u001b[34mArguments: train\u001b[0m\n",
      "\u001b[34m[2020-07-16:05:25:32:INFO] Running distributed xgboost training.\u001b[0m\n",
      "\u001b[34mArguments: train\u001b[0m\n",
      "\u001b[34m[2020-07-16:05:25:35:INFO] Running distributed xgboost training.\u001b[0m\n",
      "\u001b[35mArguments: train\u001b[0m\n",
      "\u001b[35m[2020-07-16:05:25:37:INFO] Running distributed xgboost training.\u001b[0m\n",
      "\u001b[32mArguments: train\u001b[0m\n",
      "\u001b[32m[2020-07-16:05:25:38:INFO] Running distributed xgboost training.\u001b[0m\n",
      "\u001b[36mArguments: train\u001b[0m\n",
      "\u001b[36m[2020-07-16:05:25:38:INFO] Running distributed xgboost training.\u001b[0m\n",
      "\u001b[35m[2020-07-16:05:25:41:INFO] Number of hosts: 5, master IP address: 10.2.113.137, host IP address: 10.2.86.40.\u001b[0m\n",
      "\u001b[35m[2020-07-16:05:25:41:INFO] Finished Yarn configuration files setup.\n",
      "\u001b[0m\n",
      "\u001b[35mstarting datanode, logging to /opt/amazon/hadoop/logs/hadoop--datanode-ip-10-2-86-40.ec2.internal.out\u001b[0m\n",
      "\u001b[33m[2020-07-16:05:25:42:INFO] Number of hosts: 5, master IP address: 10.2.113.137, host IP address: 10.2.81.255.\u001b[0m\n",
      "\u001b[33m[2020-07-16:05:25:42:INFO] Finished Yarn configuration files setup.\n",
      "\u001b[0m\n",
      "\u001b[33mstarting datanode, logging to /opt/amazon/hadoop/logs/hadoop--datanode-ip-10-2-81-255.ec2.internal.out\u001b[0m\n",
      "\u001b[34m[2020-07-16:05:25:42:INFO] Number of hosts: 5, master IP address: 10.2.113.137, host IP address: 10.2.113.137.\u001b[0m\n",
      "\u001b[34m[2020-07-16:05:25:42:INFO] Finished Yarn configuration files setup.\n",
      "\u001b[0m\n",
      "\u001b[32m[2020-07-16:05:25:42:INFO] Number of hosts: 5, master IP address: 10.2.113.137, host IP address: 10.2.97.35.\u001b[0m\n",
      "\u001b[32m[2020-07-16:05:25:42:INFO] Finished Yarn configuration files setup.\n",
      "\u001b[0m\n",
      "\u001b[32mstarting datanode, logging to /opt/amazon/hadoop/logs/hadoop--datanode-ip-10-2-97-35.ec2.internal.out\u001b[0m\n",
      "\u001b[36m[2020-07-16:05:25:42:INFO] Number of hosts: 5, master IP address: 10.2.113.137, host IP address: 10.2.123.129.\u001b[0m\n",
      "\u001b[36m[2020-07-16:05:25:42:INFO] Finished Yarn configuration files setup.\n",
      "\u001b[0m\n",
      "\u001b[36mstarting datanode, logging to /opt/amazon/hadoop/logs/hadoop--datanode-ip-10-2-123-129.ec2.internal.out\u001b[0m\n",
      "\u001b[34mstarting namenode, logging to /opt/amazon/hadoop/logs/hadoop--namenode-ip-10-2-113-137.ec2.internal.out\u001b[0m\n",
      "\u001b[35mstarting nodemanager, logging to /opt/amazon/hadoop/logs/yarn--nodemanager-ip-10-2-86-40.ec2.internal.out\u001b[0m\n",
      "\u001b[33mstarting nodemanager, logging to /opt/amazon/hadoop/logs/yarn--nodemanager-ip-10-2-81-255.ec2.internal.out\u001b[0m\n",
      "\u001b[32mstarting nodemanager, logging to /opt/amazon/hadoop/logs/yarn--nodemanager-ip-10-2-97-35.ec2.internal.out\u001b[0m\n",
      "\u001b[32m[2020-07-16:05:25:47:INFO] File size need to be processed in the node: 1041.31mb. Available memory size in the node: 55914.46mb\u001b[0m\n",
      "\n",
      "2020-07-16 05:25:37 Training - Training image download completed. Training in progress.\u001b[36mstarting nodemanager, logging to /opt/amazon/hadoop/logs/yarn--nodemanager-ip-10-2-123-129.ec2.internal.out\u001b[0m\n",
      "\u001b[35m[2020-07-16:05:25:46:INFO] File size need to be processed in the node: 1041.31mb. Available memory size in the node: 55924.3mb\u001b[0m\n",
      "\u001b[33m[2020-07-16:05:25:47:INFO] File size need to be processed in the node: 1041.31mb. Available memory size in the node: 55925.82mb\u001b[0m\n",
      "\u001b[36m[2020-07-16:05:25:47:INFO] File size need to be processed in the node: 1041.31mb. Available memory size in the node: 55927.82mb\u001b[0m\n",
      "\u001b[34mstarting resourcemanager, logging to /opt/amazon/hadoop/logs/yarn--resourcemanager-ip-10-2-113-137.ec2.internal.out\u001b[0m\n",
      "\u001b[34mstarting datanode, logging to /opt/amazon/hadoop/logs/hadoop--datanode-ip-10-2-113-137.ec2.internal.out\u001b[0m\n",
      "\u001b[34mstarting nodemanager, logging to /opt/amazon/hadoop/logs/yarn--nodemanager-ip-10-2-113-137.ec2.internal.out\u001b[0m\n",
      "\u001b[34m[2020-07-16:05:25:55:INFO] File size need to be processed in the node: 1041.31mb. Available memory size in the node: 55162.66mb\u001b[0m\n",
      "\u001b[34m[2020-07-16:05:25:55:INFO] HTTP server started....\u001b[0m\n",
      "\u001b[34m[2020-07-16:05:25:55:INFO] Memory/core ratio is 7.86\u001b[0m\n",
      "\u001b[34m[2020-07-16:05:25:55:INFO] Yarn setup: number of workers: 5, physical cores per worker: 8, physical memory per worker: 62.9g.\u001b[0m\n",
      "\u001b[34m[2020-07-16:05:25:55:INFO] Yarn job submitted successfully.\u001b[0m\n",
      "\u001b[34m2020-07-16 05:25:55,223 INFO start listen on 10.2.113.137:9091\u001b[0m\n",
      "\u001b[34m/xgboost/dmlc-core/tracker/dmlc_tracker/yarn.py:37: UserWarning: cannot find \"/xgboost/dmlc-core/tracker/dmlc_tracker/../yarn/dmlc-yarn.jar\", I will try to run build\n",
      "  warnings.warn(\"cannot find \\\"%s\\\", I will try to run build\" % YARN_JAR_PATH)\u001b[0m\n",
      "\u001b[34msrc/main/java/org/apache/hadoop/yarn/dmlc/Client.java:37: warning: Signal is internal proprietary API and may be removed in a future release\u001b[0m\n",
      "\u001b[34mimport sun.misc.Signal;\n",
      "               ^\u001b[0m\n",
      "\u001b[34msrc/main/java/org/apache/hadoop/yarn/dmlc/Client.java:38: warning: SignalHandler is internal proprietary API and may be removed in a future release\u001b[0m\n",
      "\u001b[34mimport sun.misc.SignalHandler;\n",
      "               ^\u001b[0m\n",
      "\u001b[34msrc/main/java/org/apache/hadoop/yarn/dmlc/Client.java:276: warning: Signal is internal proprietary API and may be removed in a future release\n",
      "        Signal intSignal = new Signal(\"INT\");\n",
      "        ^\u001b[0m\n",
      "\u001b[34msrc/main/java/org/apache/hadoop/yarn/dmlc/Client.java:276: warning: Signal is internal proprietary API and may be removed in a future release\n",
      "        Signal intSignal = new Signal(\"INT\");\n",
      "                               ^\u001b[0m\n",
      "\u001b[34msrc/main/java/org/apache/hadoop/yarn/dmlc/Client.java:277: warning: Signal is internal proprietary API and may be removed in a future release\n",
      "        Signal.handle(intSignal, handler);\n",
      "        ^\u001b[0m\n",
      "\u001b[34msrc/main/java/org/apache/hadoop/yarn/dmlc/Client.java:332: warning: SignalHandler is internal proprietary API and may be removed in a future release\n",
      "    class CtrlCHandler implements SignalHandler{\n",
      "                                  ^\u001b[0m\n",
      "\u001b[34msrc/main/java/org/apache/hadoop/yarn/dmlc/Client.java:339: warning: Signal is internal proprietary API and may be removed in a future release\n",
      "        public void handle(Signal signal){\n",
      "                           ^\u001b[0m\n",
      "\u001b[34mNote: src/main/java/org/apache/hadoop/yarn/dmlc/ApplicationMaster.java uses unchecked or unsafe operations.\u001b[0m\n",
      "\u001b[34mNote: Recompile with -Xlint:unchecked for details.\u001b[0m\n",
      "\u001b[34m7 warnings\u001b[0m\n",
      "\u001b[34m20/07/16 05:25:58 INFO client.RMProxy: Connecting to ResourceManager at algo-1/10.2.113.137:8032\u001b[0m\n",
      "\u001b[34m20/07/16 05:25:58 INFO dmlc.Client: HDFS temp directory do not exist, creating.. /tmp\u001b[0m\n",
      "\u001b[34m20/07/16 05:25:59 INFO dmlc.Client: jobname=DMLC[nworker=5]:python,username=root\u001b[0m\n",
      "\u001b[34m20/07/16 05:25:59 INFO dmlc.Client: Submitting application application_1594877150478_0001\u001b[0m\n",
      "\u001b[34m20/07/16 05:25:59 INFO impl.YarnClientImpl: Submitted application application_1594877150478_0001\u001b[0m\n",
      "\u001b[34m2020-07-16 05:26:06,696 INFO @tracker All of 5 nodes getting started\u001b[0m\n",
      "\u001b[34m2020-07-16 05:26:31,866 INFO [0]#011train-auc:0.87995#011validation-auc:0.880264\u001b[0m\n",
      "\u001b[34m2020-07-16 05:26:37,146 INFO [1]#011train-auc:0.882382#011validation-auc:0.882129\u001b[0m\n",
      "\u001b[34m2020-07-16 05:26:42,229 INFO [2]#011train-auc:0.884516#011validation-auc:0.883848\u001b[0m\n",
      "\u001b[34m2020-07-16 05:26:47,406 INFO [3]#011train-auc:0.886248#011validation-auc:0.885411\u001b[0m\n",
      "\u001b[34m2020-07-16 05:26:52,833 INFO [4]#011train-auc:0.887561#011validation-auc:0.88657\u001b[0m\n",
      "\u001b[34m2020-07-16 05:26:58,273 INFO [5]#011train-auc:0.888898#011validation-auc:0.887664\u001b[0m\n",
      "\u001b[34m2020-07-16 05:27:03,779 INFO [6]#011train-auc:0.890091#011validation-auc:0.888516\u001b[0m\n",
      "\u001b[34m2020-07-16 05:27:09,116 INFO [7]#011train-auc:0.891125#011validation-auc:0.889299\u001b[0m\n",
      "\u001b[34m2020-07-16 05:27:14,448 INFO [8]#011train-auc:0.892069#011validation-auc:0.889995\u001b[0m\n",
      "\u001b[34m2020-07-16 05:27:19,634 INFO [9]#011train-auc:0.892962#011validation-auc:0.890728\u001b[0m\n",
      "\u001b[34m2020-07-16 05:27:24,936 INFO [10]#011train-auc:0.894008#011validation-auc:0.891545\u001b[0m\n",
      "\u001b[34m2020-07-16 05:27:30,114 INFO [11]#011train-auc:0.894961#011validation-auc:0.892174\u001b[0m\n",
      "\u001b[34m2020-07-16 05:27:35,369 INFO [12]#011train-auc:0.89599#011validation-auc:0.892856\u001b[0m\n",
      "\u001b[34m2020-07-16 05:27:40,478 INFO [13]#011train-auc:0.896883#011validation-auc:0.893418\u001b[0m\n",
      "\u001b[34m2020-07-16 05:27:45,755 INFO [14]#011train-auc:0.897662#011validation-auc:0.893909\u001b[0m\n",
      "\u001b[34m2020-07-16 05:27:50,983 INFO [15]#011train-auc:0.898285#011validation-auc:0.89436\u001b[0m\n",
      "\u001b[34m2020-07-16 05:27:56,040 INFO [16]#011train-auc:0.898829#011validation-auc:0.894744\u001b[0m\n",
      "\u001b[34m2020-07-16 05:28:01,172 INFO [17]#011train-auc:0.899398#011validation-auc:0.895152\u001b[0m\n",
      "\u001b[34m2020-07-16 05:28:06,368 INFO [18]#011train-auc:0.899997#011validation-auc:0.895539\u001b[0m\n",
      "\u001b[34m2020-07-16 05:28:11,494 INFO [19]#011train-auc:0.900509#011validation-auc:0.895889\u001b[0m\n",
      "\u001b[34m2020-07-16 05:28:16,789 INFO [20]#011train-auc:0.901033#011validation-auc:0.896229\u001b[0m\n",
      "\u001b[34m2020-07-16 05:28:22,238 INFO [21]#011train-auc:0.901747#011validation-auc:0.89666\u001b[0m\n",
      "\u001b[34m2020-07-16 05:28:27,222 INFO [22]#011train-auc:0.902194#011validation-auc:0.896944\u001b[0m\n",
      "\u001b[34m2020-07-16 05:28:32,165 INFO [23]#011train-auc:0.902704#011validation-auc:0.897274\u001b[0m\n",
      "\u001b[34m2020-07-16 05:28:37,308 INFO [24]#011train-auc:0.903215#011validation-auc:0.897621\u001b[0m\n",
      "\u001b[34m2020-07-16 05:28:42,563 INFO [25]#011train-auc:0.903756#011validation-auc:0.897926\u001b[0m\n",
      "\u001b[34m2020-07-16 05:28:47,578 INFO [26]#011train-auc:0.904122#011validation-auc:0.898189\u001b[0m\n",
      "\u001b[34m2020-07-16 05:28:52,585 INFO [27]#011train-auc:0.904588#011validation-auc:0.898471\u001b[0m\n",
      "\u001b[34m2020-07-16 05:28:57,632 INFO [28]#011train-auc:0.90504#011validation-auc:0.898754\u001b[0m\n",
      "\u001b[34m2020-07-16 05:29:02,608 INFO [29]#011train-auc:0.905487#011validation-auc:0.899103\u001b[0m\n",
      "\u001b[34m2020-07-16 05:29:07,958 INFO [30]#011train-auc:0.905922#011validation-auc:0.899404\u001b[0m\n",
      "\u001b[34m2020-07-16 05:29:13,043 INFO [31]#011train-auc:0.90641#011validation-auc:0.899695\u001b[0m\n",
      "\u001b[34m2020-07-16 05:29:18,274 INFO [32]#011train-auc:0.906775#011validation-auc:0.899893\u001b[0m\n",
      "\u001b[34m2020-07-16 05:29:23,268 INFO [33]#011train-auc:0.907289#011validation-auc:0.900209\u001b[0m\n",
      "\u001b[34m2020-07-16 05:29:28,160 INFO [34]#011train-auc:0.907676#011validation-auc:0.900449\u001b[0m\n",
      "\u001b[34m2020-07-16 05:29:33,164 INFO [35]#011train-auc:0.908021#011validation-auc:0.900699\u001b[0m\n",
      "\u001b[34m2020-07-16 05:29:38,064 INFO [36]#011train-auc:0.908411#011validation-auc:0.900972\u001b[0m\n",
      "\u001b[34m2020-07-16 05:29:43,127 INFO [37]#011train-auc:0.908822#011validation-auc:0.901228\u001b[0m\n",
      "\u001b[34m2020-07-16 05:29:48,294 INFO [38]#011train-auc:0.909151#011validation-auc:0.901388\u001b[0m\n",
      "\u001b[34m2020-07-16 05:29:53,213 INFO [39]#011train-auc:0.909423#011validation-auc:0.901584\u001b[0m\n",
      "\u001b[34m2020-07-16 05:29:58,159 INFO [40]#011train-auc:0.909772#011validation-auc:0.90178\u001b[0m\n",
      "\u001b[34m2020-07-16 05:30:03,228 INFO [41]#011train-auc:0.910124#011validation-auc:0.902002\u001b[0m\n",
      "\u001b[34m2020-07-16 05:30:08,475 INFO [42]#011train-auc:0.910442#011validation-auc:0.902179\u001b[0m\n",
      "\u001b[34m2020-07-16 05:30:13,500 INFO [43]#011train-auc:0.910657#011validation-auc:0.902285\u001b[0m\n",
      "\u001b[34m2020-07-16 05:30:18,562 INFO [44]#011train-auc:0.911019#011validation-auc:0.902508\u001b[0m\n",
      "\u001b[34m2020-07-16 05:30:23,671 INFO [45]#011train-auc:0.911377#011validation-auc:0.902717\u001b[0m\n",
      "\u001b[34m2020-07-16 05:30:28,662 INFO [46]#011train-auc:0.911637#011validation-auc:0.902891\u001b[0m\n",
      "\u001b[34m2020-07-16 05:30:33,723 INFO [47]#011train-auc:0.912073#011validation-auc:0.903199\u001b[0m\n",
      "\u001b[34m2020-07-16 05:30:38,915 INFO [48]#011train-auc:0.912627#011validation-auc:0.903537\u001b[0m\n",
      "\u001b[34m2020-07-16 05:30:43,861 INFO [49]#011train-auc:0.912862#011validation-auc:0.903653\u001b[0m\n",
      "\u001b[34m2020-07-16 05:30:48,850 INFO [50]#011train-auc:0.913068#011validation-auc:0.90379\u001b[0m\n",
      "\u001b[34m2020-07-16 05:30:53,497 INFO [51]#011train-auc:0.913261#011validation-auc:0.903919\u001b[0m\n",
      "\u001b[34m2020-07-16 05:30:58,268 INFO [52]#011train-auc:0.913393#011validation-auc:0.904001\u001b[0m\n",
      "\u001b[34m2020-07-16 05:31:03,423 INFO [53]#011train-auc:0.913884#011validation-auc:0.90427\u001b[0m\n",
      "\u001b[34m2020-07-16 05:31:08,294 INFO [54]#011train-auc:0.914118#011validation-auc:0.90442\u001b[0m\n",
      "\u001b[34m2020-07-16 05:31:13,461 INFO [55]#011train-auc:0.914425#011validation-auc:0.904544\u001b[0m\n",
      "\u001b[34m2020-07-16 05:31:18,228 INFO [56]#011train-auc:0.914671#011validation-auc:0.904713\u001b[0m\n",
      "\u001b[34m2020-07-16 05:31:23,021 INFO [57]#011train-auc:0.914883#011validation-auc:0.904841\u001b[0m\n",
      "\u001b[34m2020-07-16 05:31:27,867 INFO [58]#011train-auc:0.915056#011validation-auc:0.904951\u001b[0m\n",
      "\u001b[34m2020-07-16 05:31:32,913 INFO [59]#011train-auc:0.915471#011validation-auc:0.905181\u001b[0m\n",
      "\u001b[34m2020-07-16 05:31:38,054 INFO [60]#011train-auc:0.915752#011validation-auc:0.905354\u001b[0m\n",
      "\u001b[34m2020-07-16 05:31:43,048 INFO [61]#011train-auc:0.916006#011validation-auc:0.905478\u001b[0m\n",
      "\u001b[34m2020-07-16 05:31:48,340 INFO [62]#011train-auc:0.916333#011validation-auc:0.905663\u001b[0m\n",
      "\u001b[34m2020-07-16 05:31:53,630 INFO [63]#011train-auc:0.916568#011validation-auc:0.905797\u001b[0m\n",
      "\u001b[34m2020-07-16 05:31:59,082 INFO [64]#011train-auc:0.916947#011validation-auc:0.906021\u001b[0m\n",
      "\u001b[34m2020-07-16 05:32:03,829 INFO [65]#011train-auc:0.917027#011validation-auc:0.906079\u001b[0m\n",
      "\u001b[34m2020-07-16 05:32:08,217 INFO [66]#011train-auc:0.917066#011validation-auc:0.906109\u001b[0m\n",
      "\u001b[34m2020-07-16 05:32:12,977 INFO [67]#011train-auc:0.917242#011validation-auc:0.906204\u001b[0m\n",
      "\u001b[34m2020-07-16 05:32:17,853 INFO [68]#011train-auc:0.917413#011validation-auc:0.906315\u001b[0m\n",
      "\u001b[34m2020-07-16 05:32:22,515 INFO [69]#011train-auc:0.917558#011validation-auc:0.906375\u001b[0m\n",
      "\u001b[34m2020-07-16 05:32:27,616 INFO [70]#011train-auc:0.917879#011validation-auc:0.906516\u001b[0m\n",
      "\u001b[34m2020-07-16 05:32:32,554 INFO [71]#011train-auc:0.918113#011validation-auc:0.906654\u001b[0m\n",
      "\u001b[34m2020-07-16 05:32:37,527 INFO [72]#011train-auc:0.918344#011validation-auc:0.906741\u001b[0m\n",
      "\u001b[34m2020-07-16 05:32:42,183 INFO [73]#011train-auc:0.918521#011validation-auc:0.90687\u001b[0m\n",
      "\u001b[34m2020-07-16 05:32:47,022 INFO [74]#011train-auc:0.918729#011validation-auc:0.907002\u001b[0m\n",
      "\u001b[34m2020-07-16 05:32:52,047 INFO [75]#011train-auc:0.919072#011validation-auc:0.907207\u001b[0m\n",
      "\u001b[34m2020-07-16 05:32:56,998 INFO [76]#011train-auc:0.919387#011validation-auc:0.90737\u001b[0m\n",
      "\u001b[34m2020-07-16 05:33:01,457 INFO [77]#011train-auc:0.919446#011validation-auc:0.907405\u001b[0m\n",
      "\u001b[34m2020-07-16 05:33:06,374 INFO [78]#011train-auc:0.9197#011validation-auc:0.907552\u001b[0m\n",
      "\u001b[34m2020-07-16 05:33:11,346 INFO [79]#011train-auc:0.919937#011validation-auc:0.907706\u001b[0m\n",
      "\u001b[34m2020-07-16 05:33:16,563 INFO [80]#011train-auc:0.920248#011validation-auc:0.90787\u001b[0m\n",
      "\u001b[34m2020-07-16 05:33:21,466 INFO [81]#011train-auc:0.92046#011validation-auc:0.908007\u001b[0m\n",
      "\u001b[34m2020-07-16 05:33:26,350 INFO [82]#011train-auc:0.920675#011validation-auc:0.908126\u001b[0m\n",
      "\u001b[34m2020-07-16 05:33:30,748 INFO [83]#011train-auc:0.920701#011validation-auc:0.908149\u001b[0m\n",
      "\u001b[34m2020-07-16 05:33:35,403 INFO [84]#011train-auc:0.920903#011validation-auc:0.908249\u001b[0m\n",
      "\u001b[34m2020-07-16 05:33:40,596 INFO [85]#011train-auc:0.921214#011validation-auc:0.90844\u001b[0m\n",
      "\u001b[34m2020-07-16 05:33:45,357 INFO [86]#011train-auc:0.921443#011validation-auc:0.908582\u001b[0m\n",
      "\u001b[34m2020-07-16 05:33:50,196 INFO [87]#011train-auc:0.921595#011validation-auc:0.908707\u001b[0m\n",
      "\u001b[34m2020-07-16 05:33:55,191 INFO [88]#011train-auc:0.921872#011validation-auc:0.908842\u001b[0m\n",
      "\u001b[34m2020-07-16 05:34:00,216 INFO [89]#011train-auc:0.922041#011validation-auc:0.908918\u001b[0m\n",
      "\u001b[34m2020-07-16 05:34:05,148 INFO [90]#011train-auc:0.922239#011validation-auc:0.909054\u001b[0m\n",
      "\u001b[34m2020-07-16 05:34:09,813 INFO [91]#011train-auc:0.922359#011validation-auc:0.909117\u001b[0m\n",
      "\u001b[34m2020-07-16 05:34:14,988 INFO [92]#011train-auc:0.92264#011validation-auc:0.909276\u001b[0m\n",
      "\u001b[34m2020-07-16 05:34:19,736 INFO [93]#011train-auc:0.922769#011validation-auc:0.909357\u001b[0m\n",
      "\u001b[34m2020-07-16 05:34:24,454 INFO [94]#011train-auc:0.922852#011validation-auc:0.909397\u001b[0m\n",
      "\u001b[34m2020-07-16 05:34:29,370 INFO [95]#011train-auc:0.923161#011validation-auc:0.909566\u001b[0m\n",
      "\u001b[34m2020-07-16 05:34:34,182 INFO [96]#011train-auc:0.923367#011validation-auc:0.909673\u001b[0m\n",
      "\u001b[34m2020-07-16 05:34:39,221 INFO [97]#011train-auc:0.923603#011validation-auc:0.909789\u001b[0m\n",
      "\u001b[34m2020-07-16 05:34:44,240 INFO [98]#011train-auc:0.923937#011validation-auc:0.909973\u001b[0m\n",
      "\u001b[34m2020-07-16 05:34:48,979 INFO [99]#011train-auc:0.924063#011validation-auc:0.910042\u001b[0m\n",
      "\u001b[34m2020-07-16 05:34:49,176 INFO Finished training\u001b[0m\n",
      "\u001b[34m2020-07-16 05:34:49,176 INFO Finished training\u001b[0m\n",
      "\u001b[34m2020-07-16 05:34:49,176 INFO Finished training\u001b[0m\n",
      "\u001b[34m2020-07-16 05:34:49,179 INFO Finished training\u001b[0m\n",
      "\u001b[34m2020-07-16 05:34:49,193 INFO Finished training\u001b[0m\n",
      "\u001b[34m2020-07-16 05:34:49,196 INFO @tracker All nodes finishes job\u001b[0m\n",
      "\u001b[34m2020-07-16 05:34:49,196 INFO @tracker 522.499666929 secs between node start and job finish\u001b[0m\n",
      "\u001b[33m[2020-07-16:05:35:52:INFO] Master host is not alive. Training might have finished. Shutting down.... Check the logs for algo-1 machine.\u001b[0m\n",
      "\u001b[32m[2020-07-16:05:35:52:INFO] Master host is not alive. Training might have finished. Shutting down.... Check the logs for algo-1 machine.\u001b[0m\n",
      "\n",
      "2020-07-16 05:36:23 Uploading - Uploading generated training model\u001b[36m[2020-07-16:05:36:22:INFO] Master host is not alive. Training might have finished. Shutting down.... Check the logs for algo-1 machine.\u001b[0m\n",
      "\u001b[35m[2020-07-16:05:36:22:INFO] Master host is not alive. Training might have finished. Shutting down.... Check the logs for algo-1 machine.\u001b[0m\n",
      "\n",
      "2020-07-16 05:36:37 Completed - Training job completed\n",
      "Training seconds: 4000\n",
      "Billable seconds: 4000\n"
     ]
    }
   ],
   "source": [
    "model_25=fit_model(job_name=\"csv-weights-25\",s3_train_path=s3_input_train_25, s3_val_path=s3_input_val)"
   ]
  },
  {
   "cell_type": "code",
   "execution_count": null,
   "metadata": {},
   "outputs": [],
   "source": []
  },
  {
   "cell_type": "code",
   "execution_count": 85,
   "metadata": {},
   "outputs": [
    {
     "name": "stderr",
     "output_type": "stream",
     "text": [
      "WARNING:root:Parameter image_name will be renamed to image_uri in SageMaker Python SDK v2.\n"
     ]
    },
    {
     "name": "stdout",
     "output_type": "stream",
     "text": [
      "2020-07-16 05:44:23 Starting - Starting the training job...\n",
      "2020-07-16 05:44:25 Starting - Launching requested ML instances......\n",
      "2020-07-16 05:45:44 Starting - Preparing the instances for training.........\n",
      "2020-07-16 05:47:15 Downloading - Downloading input data...............\n",
      "2020-07-16 05:49:47 Training - Training image download completed. Training in progress.\u001b[32mArguments: train\u001b[0m\n",
      "\u001b[32m[2020-07-16:05:49:42:INFO] Running distributed xgboost training.\u001b[0m\n",
      "\u001b[34mArguments: train\u001b[0m\n",
      "\u001b[36mArguments: train\u001b[0m\n",
      "\u001b[34m[2020-07-16:05:49:47:INFO] Running distributed xgboost training.\u001b[0m\n",
      "\u001b[32m[2020-07-16:05:49:48:INFO] Number of hosts: 5, master IP address: 10.0.210.248, host IP address: 10.0.247.228.\u001b[0m\n",
      "\u001b[32m[2020-07-16:05:49:48:INFO] Finished Yarn configuration files setup.\n",
      "\u001b[0m\n",
      "\u001b[32mstarting datanode, logging to /opt/amazon/hadoop/logs/hadoop--datanode-ip-10-0-247-228.ec2.internal.out\u001b[0m\n",
      "\u001b[36m[2020-07-16:05:49:48:INFO] Running distributed xgboost training.\u001b[0m\n",
      "\u001b[34m[2020-07-16:05:49:49:INFO] Number of hosts: 5, master IP address: 10.0.210.248, host IP address: 10.0.233.141.\u001b[0m\n",
      "\u001b[34m[2020-07-16:05:49:49:INFO] Finished Yarn configuration files setup.\n",
      "\u001b[0m\n",
      "\u001b[34mstarting datanode, logging to /opt/amazon/hadoop/logs/hadoop--datanode-ip-10-0-233-141.ec2.internal.out\u001b[0m\n",
      "\u001b[36m[2020-07-16:05:49:49:INFO] Number of hosts: 5, master IP address: 10.0.210.248, host IP address: 10.0.199.231.\u001b[0m\n",
      "\u001b[36m[2020-07-16:05:49:49:INFO] Finished Yarn configuration files setup.\n",
      "\u001b[0m\n",
      "\u001b[36mstarting datanode, logging to /opt/amazon/hadoop/logs/hadoop--datanode-ip-10-0-199-231.ec2.internal.out\u001b[0m\n",
      "\u001b[32mArguments: train\u001b[0m\n",
      "\u001b[32m[2020-07-16:05:49:48:INFO] Running distributed xgboost training.\u001b[0m\n",
      "\u001b[32m[2020-07-16:05:49:49:INFO] Number of hosts: 5, master IP address: 10.0.210.248, host IP address: 10.0.233.159.\u001b[0m\n",
      "\u001b[32m[2020-07-16:05:49:49:INFO] Finished Yarn configuration files setup.\n",
      "\u001b[0m\n",
      "\u001b[32mstarting datanode, logging to /opt/amazon/hadoop/logs/hadoop--datanode-ip-10-0-233-159.ec2.internal.out\u001b[0m\n",
      "\u001b[34mArguments: train\u001b[0m\n",
      "\u001b[34m[2020-07-16:05:49:48:INFO] Running distributed xgboost training.\u001b[0m\n",
      "\u001b[34m[2020-07-16:05:49:48:INFO] Number of hosts: 5, master IP address: 10.0.210.248, host IP address: 10.0.210.248.\u001b[0m\n",
      "\u001b[34m[2020-07-16:05:49:48:INFO] Finished Yarn configuration files setup.\n",
      "\u001b[0m\n",
      "\u001b[34mstarting namenode, logging to /opt/amazon/hadoop/logs/hadoop--namenode-ip-10-0-210-248.ec2.internal.out\u001b[0m\n",
      "\u001b[36mstarting nodemanager, logging to /opt/amazon/hadoop/logs/yarn--nodemanager-ip-10-0-247-228.ec2.internal.out\u001b[0m\n",
      "\u001b[35mstarting nodemanager, logging to /opt/amazon/hadoop/logs/yarn--nodemanager-ip-10-0-233-141.ec2.internal.out\u001b[0m\n",
      "\u001b[32mstarting nodemanager, logging to /opt/amazon/hadoop/logs/yarn--nodemanager-ip-10-0-233-159.ec2.internal.out\u001b[0m\n",
      "\u001b[36m[2020-07-16:05:49:53:INFO] File size need to be processed in the node: 1040.26mb. Available memory size in the node: 55928.15mb\u001b[0m\n",
      "\u001b[33mstarting nodemanager, logging to /opt/amazon/hadoop/logs/yarn--nodemanager-ip-10-0-199-231.ec2.internal.out\u001b[0m\n",
      "\u001b[35m[2020-07-16:05:49:54:INFO] File size need to be processed in the node: 1040.26mb. Available memory size in the node: 55926.86mb\u001b[0m\n",
      "\u001b[32m[2020-07-16:05:49:54:INFO] File size need to be processed in the node: 1040.26mb. Available memory size in the node: 55918.39mb\u001b[0m\n",
      "\u001b[34mstarting resourcemanager, logging to /opt/amazon/hadoop/logs/yarn--resourcemanager-ip-10-0-210-248.ec2.internal.out\u001b[0m\n",
      "\u001b[33m[2020-07-16:05:49:54:INFO] File size need to be processed in the node: 1040.26mb. Available memory size in the node: 55921.58mb\u001b[0m\n",
      "\u001b[34mstarting datanode, logging to /opt/amazon/hadoop/logs/hadoop--datanode-ip-10-0-210-248.ec2.internal.out\u001b[0m\n",
      "\u001b[34mstarting nodemanager, logging to /opt/amazon/hadoop/logs/yarn--nodemanager-ip-10-0-210-248.ec2.internal.out\u001b[0m\n",
      "\u001b[34m[2020-07-16:05:50:00:INFO] File size need to be processed in the node: 1040.26mb. Available memory size in the node: 55179.97mb\u001b[0m\n",
      "\u001b[34m[2020-07-16:05:50:00:INFO] HTTP server started....\u001b[0m\n",
      "\u001b[34m[2020-07-16:05:50:00:INFO] Memory/core ratio is 7.86\u001b[0m\n",
      "\u001b[34m[2020-07-16:05:50:00:INFO] Yarn setup: number of workers: 5, physical cores per worker: 8, physical memory per worker: 62.9g.\u001b[0m\n",
      "\u001b[34m[2020-07-16:05:50:00:INFO] Yarn job submitted successfully.\u001b[0m\n",
      "\u001b[34m2020-07-16 05:50:00,968 INFO start listen on 10.0.210.248:9091\u001b[0m\n",
      "\u001b[34m/xgboost/dmlc-core/tracker/dmlc_tracker/yarn.py:37: UserWarning: cannot find \"/xgboost/dmlc-core/tracker/dmlc_tracker/../yarn/dmlc-yarn.jar\", I will try to run build\n",
      "  warnings.warn(\"cannot find \\\"%s\\\", I will try to run build\" % YARN_JAR_PATH)\u001b[0m\n",
      "\u001b[34msrc/main/java/org/apache/hadoop/yarn/dmlc/Client.java:37: warning: Signal is internal proprietary API and may be removed in a future release\u001b[0m\n",
      "\u001b[34mimport sun.misc.Signal;\n",
      "               ^\u001b[0m\n",
      "\u001b[34msrc/main/java/org/apache/hadoop/yarn/dmlc/Client.java:38: warning: SignalHandler is internal proprietary API and may be removed in a future release\u001b[0m\n",
      "\u001b[34mimport sun.misc.SignalHandler;\n",
      "               ^\u001b[0m\n",
      "\u001b[34msrc/main/java/org/apache/hadoop/yarn/dmlc/Client.java:276: warning: Signal is internal proprietary API and may be removed in a future release\n",
      "        Signal intSignal = new Signal(\"INT\");\n",
      "        ^\u001b[0m\n",
      "\u001b[34msrc/main/java/org/apache/hadoop/yarn/dmlc/Client.java:276: warning: Signal is internal proprietary API and may be removed in a future release\n",
      "        Signal intSignal = new Signal(\"INT\");\n",
      "                               ^\u001b[0m\n",
      "\u001b[34msrc/main/java/org/apache/hadoop/yarn/dmlc/Client.java:277: warning: Signal is internal proprietary API and may be removed in a future release\n",
      "        Signal.handle(intSignal, handler);\n",
      "        ^\u001b[0m\n",
      "\u001b[34msrc/main/java/org/apache/hadoop/yarn/dmlc/Client.java:332: warning: SignalHandler is internal proprietary API and may be removed in a future release\n",
      "    class CtrlCHandler implements SignalHandler{\n",
      "                                  ^\u001b[0m\n",
      "\u001b[34msrc/main/java/org/apache/hadoop/yarn/dmlc/Client.java:339: warning: Signal is internal proprietary API and may be removed in a future release\n",
      "        public void handle(Signal signal){\n",
      "                           ^\u001b[0m\n",
      "\u001b[34mNote: src/main/java/org/apache/hadoop/yarn/dmlc/ApplicationMaster.java uses unchecked or unsafe operations.\u001b[0m\n",
      "\u001b[34mNote: Recompile with -Xlint:unchecked for details.\u001b[0m\n",
      "\u001b[34m7 warnings\u001b[0m\n",
      "\u001b[34m20/07/16 05:50:04 INFO client.RMProxy: Connecting to ResourceManager at algo-1/10.0.210.248:8032\u001b[0m\n",
      "\u001b[34m20/07/16 05:50:04 INFO dmlc.Client: HDFS temp directory do not exist, creating.. /tmp\u001b[0m\n",
      "\u001b[34m20/07/16 05:50:05 INFO dmlc.Client: jobname=DMLC[nworker=5]:python,username=root\u001b[0m\n",
      "\u001b[34m20/07/16 05:50:05 INFO dmlc.Client: Submitting application application_1594878596053_0001\u001b[0m\n",
      "\u001b[34m20/07/16 05:50:05 INFO impl.YarnClientImpl: Submitted application application_1594878596053_0001\u001b[0m\n",
      "\u001b[34m2020-07-16 05:50:12,708 INFO @tracker All of 5 nodes getting started\u001b[0m\n",
      "\u001b[34m2020-07-16 05:50:36,047 INFO [0]#011train-auc:0.881602#011validation-auc:0.880554\u001b[0m\n",
      "\u001b[34m2020-07-16 05:50:41,416 INFO [1]#011train-auc:0.884164#011validation-auc:0.88306\u001b[0m\n",
      "\u001b[34m2020-07-16 05:50:46,497 INFO [2]#011train-auc:0.885239#011validation-auc:0.884005\u001b[0m\n",
      "\u001b[34m2020-07-16 05:50:51,648 INFO [3]#011train-auc:0.88672#011validation-auc:0.885378\u001b[0m\n",
      "\u001b[34m2020-07-16 05:50:56,883 INFO [4]#011train-auc:0.888016#011validation-auc:0.886566\u001b[0m\n",
      "\u001b[34m2020-07-16 05:51:02,360 INFO [5]#011train-auc:0.889253#011validation-auc:0.887682\u001b[0m\n",
      "\u001b[34m2020-07-16 05:51:07,593 INFO [6]#011train-auc:0.890086#011validation-auc:0.888479\u001b[0m\n",
      "\u001b[34m2020-07-16 05:51:13,048 INFO [7]#011train-auc:0.891187#011validation-auc:0.889404\u001b[0m\n",
      "\u001b[34m2020-07-16 05:51:18,266 INFO [8]#011train-auc:0.891937#011validation-auc:0.890061\u001b[0m\n",
      "\u001b[34m2020-07-16 05:51:23,338 INFO [9]#011train-auc:0.892689#011validation-auc:0.890738\u001b[0m\n",
      "\u001b[34m2020-07-16 05:51:28,586 INFO [10]#011train-auc:0.893618#011validation-auc:0.891551\u001b[0m\n",
      "\u001b[34m2020-07-16 05:51:33,791 INFO [11]#011train-auc:0.894261#011validation-auc:0.892117\u001b[0m\n",
      "\u001b[34m2020-07-16 05:51:38,907 INFO [12]#011train-auc:0.894967#011validation-auc:0.892691\u001b[0m\n",
      "\u001b[34m2020-07-16 05:51:44,084 INFO [13]#011train-auc:0.895595#011validation-auc:0.893244\u001b[0m\n",
      "\u001b[34m2020-07-16 05:51:49,159 INFO [14]#011train-auc:0.896309#011validation-auc:0.893851\u001b[0m\n",
      "\u001b[34m2020-07-16 05:51:54,204 INFO [15]#011train-auc:0.896853#011validation-auc:0.894325\u001b[0m\n",
      "\u001b[34m2020-07-16 05:51:59,395 INFO [16]#011train-auc:0.897499#011validation-auc:0.894859\u001b[0m\n",
      "\u001b[34m2020-07-16 05:52:04,459 INFO [17]#011train-auc:0.89796#011validation-auc:0.895239\u001b[0m\n",
      "\u001b[34m2020-07-16 05:52:09,500 INFO [18]#011train-auc:0.898361#011validation-auc:0.895527\u001b[0m\n",
      "\u001b[34m2020-07-16 05:52:14,668 INFO [19]#011train-auc:0.898761#011validation-auc:0.895863\u001b[0m\n",
      "\u001b[34m2020-07-16 05:52:19,784 INFO [20]#011train-auc:0.899202#011validation-auc:0.896204\u001b[0m\n",
      "\u001b[34m2020-07-16 05:52:25,018 INFO [21]#011train-auc:0.899724#011validation-auc:0.896569\u001b[0m\n",
      "\u001b[34m2020-07-16 05:52:30,048 INFO [22]#011train-auc:0.900123#011validation-auc:0.896893\u001b[0m\n",
      "\u001b[34m2020-07-16 05:52:35,071 INFO [23]#011train-auc:0.900527#011validation-auc:0.897193\u001b[0m\n",
      "\u001b[34m2020-07-16 05:52:40,117 INFO [24]#011train-auc:0.900978#011validation-auc:0.897539\u001b[0m\n",
      "\u001b[34m2020-07-16 05:52:45,371 INFO [25]#011train-auc:0.901472#011validation-auc:0.897893\u001b[0m\n",
      "\u001b[34m2020-07-16 05:52:50,306 INFO [26]#011train-auc:0.901855#011validation-auc:0.898243\u001b[0m\n",
      "\u001b[34m2020-07-16 05:52:55,613 INFO [27]#011train-auc:0.902274#011validation-auc:0.898506\u001b[0m\n",
      "\u001b[34m2020-07-16 05:53:00,354 INFO [28]#011train-auc:0.902563#011validation-auc:0.898732\u001b[0m\n",
      "\u001b[34m2020-07-16 05:53:05,504 INFO [29]#011train-auc:0.90291#011validation-auc:0.898942\u001b[0m\n",
      "\u001b[34m2020-07-16 05:53:10,708 INFO [30]#011train-auc:0.903305#011validation-auc:0.899214\u001b[0m\n",
      "\u001b[34m2020-07-16 05:53:15,557 INFO [31]#011train-auc:0.903541#011validation-auc:0.8994\u001b[0m\n",
      "\u001b[34m2020-07-16 05:53:20,864 INFO [32]#011train-auc:0.903885#011validation-auc:0.899627\u001b[0m\n",
      "\u001b[34m2020-07-16 05:53:25,928 INFO [33]#011train-auc:0.904246#011validation-auc:0.899908\u001b[0m\n",
      "\u001b[34m2020-07-16 05:53:31,025 INFO [34]#011train-auc:0.904525#011validation-auc:0.900076\u001b[0m\n",
      "\u001b[34m2020-07-16 05:53:35,820 INFO [35]#011train-auc:0.904727#011validation-auc:0.900226\u001b[0m\n",
      "\u001b[34m2020-07-16 05:53:40,754 INFO [36]#011train-auc:0.905059#011validation-auc:0.900479\u001b[0m\n",
      "\u001b[34m2020-07-16 05:53:45,807 INFO [37]#011train-auc:0.905341#011validation-auc:0.900653\u001b[0m\n",
      "\u001b[34m2020-07-16 05:53:50,567 INFO [38]#011train-auc:0.905522#011validation-auc:0.900782\u001b[0m\n",
      "\u001b[34m2020-07-16 05:53:55,521 INFO [39]#011train-auc:0.905828#011validation-auc:0.901004\u001b[0m\n",
      "\u001b[34m2020-07-16 05:54:00,475 INFO [40]#011train-auc:0.906119#011validation-auc:0.901219\u001b[0m\n",
      "\u001b[34m2020-07-16 05:54:05,263 INFO [41]#011train-auc:0.906271#011validation-auc:0.901335\u001b[0m\n",
      "\u001b[34m2020-07-16 05:54:10,372 INFO [42]#011train-auc:0.906683#011validation-auc:0.901627\u001b[0m\n",
      "\u001b[34m2020-07-16 05:54:15,454 INFO [43]#011train-auc:0.906918#011validation-auc:0.901768\u001b[0m\n",
      "\u001b[34m2020-07-16 05:54:20,456 INFO [44]#011train-auc:0.907129#011validation-auc:0.901927\u001b[0m\n",
      "\u001b[34m2020-07-16 05:54:25,491 INFO [45]#011train-auc:0.907504#011validation-auc:0.902191\u001b[0m\n",
      "\u001b[34m2020-07-16 05:54:30,438 INFO [46]#011train-auc:0.907845#011validation-auc:0.902447\u001b[0m\n",
      "\u001b[34m2020-07-16 05:54:35,264 INFO [47]#011train-auc:0.908088#011validation-auc:0.902646\u001b[0m\n",
      "\u001b[34m2020-07-16 05:54:40,019 INFO [48]#011train-auc:0.908296#011validation-auc:0.902796\u001b[0m\n",
      "\u001b[34m2020-07-16 05:54:44,983 INFO [49]#011train-auc:0.908539#011validation-auc:0.902959\u001b[0m\n",
      "\u001b[34m2020-07-16 05:54:49,687 INFO [50]#011train-auc:0.908733#011validation-auc:0.903104\u001b[0m\n",
      "\u001b[34m2020-07-16 05:54:54,426 INFO [51]#011train-auc:0.908875#011validation-auc:0.903196\u001b[0m\n",
      "\u001b[34m2020-07-16 05:54:59,436 INFO [52]#011train-auc:0.909079#011validation-auc:0.903352\u001b[0m\n",
      "\u001b[34m2020-07-16 05:55:04,018 INFO [53]#011train-auc:0.909182#011validation-auc:0.903417\u001b[0m\n",
      "\u001b[34m2020-07-16 05:55:08,803 INFO [54]#011train-auc:0.909419#011validation-auc:0.903591\u001b[0m\n",
      "\u001b[34m2020-07-16 05:55:13,671 INFO [55]#011train-auc:0.909688#011validation-auc:0.90379\u001b[0m\n",
      "\u001b[34m2020-07-16 05:55:18,541 INFO [56]#011train-auc:0.90995#011validation-auc:0.903971\u001b[0m\n",
      "\u001b[34m2020-07-16 05:55:23,690 INFO [57]#011train-auc:0.910297#011validation-auc:0.904199\u001b[0m\n",
      "\u001b[34m2020-07-16 05:55:28,798 INFO [58]#011train-auc:0.910489#011validation-auc:0.904357\u001b[0m\n",
      "\u001b[34m2020-07-16 05:55:33,484 INFO [59]#011train-auc:0.910643#011validation-auc:0.904474\u001b[0m\n",
      "\u001b[34m2020-07-16 05:55:38,194 INFO [60]#011train-auc:0.910738#011validation-auc:0.904527\u001b[0m\n",
      "\u001b[34m2020-07-16 05:55:43,102 INFO [61]#011train-auc:0.910951#011validation-auc:0.904667\u001b[0m\n",
      "\u001b[34m2020-07-16 05:55:47,909 INFO [62]#011train-auc:0.911039#011validation-auc:0.904726\u001b[0m\n",
      "\u001b[34m2020-07-16 05:55:53,022 INFO [63]#011train-auc:0.911167#011validation-auc:0.904825\u001b[0m\n",
      "\u001b[34m2020-07-16 05:55:58,308 INFO [64]#011train-auc:0.911381#011validation-auc:0.90494\u001b[0m\n",
      "\u001b[34m2020-07-16 05:56:03,199 INFO [65]#011train-auc:0.911561#011validation-auc:0.905095\u001b[0m\n",
      "\u001b[34m2020-07-16 05:56:07,591 INFO [66]#011train-auc:0.911626#011validation-auc:0.905153\u001b[0m\n",
      "\u001b[34m2020-07-16 05:56:12,417 INFO [67]#011train-auc:0.91184#011validation-auc:0.905313\u001b[0m\n",
      "\u001b[34m2020-07-16 05:56:17,170 INFO [68]#011train-auc:0.911956#011validation-auc:0.905393\u001b[0m\n",
      "\u001b[34m2020-07-16 05:56:22,049 INFO [69]#011train-auc:0.912098#011validation-auc:0.905497\u001b[0m\n",
      "\u001b[34m2020-07-16 05:56:27,066 INFO [70]#011train-auc:0.91233#011validation-auc:0.905658\u001b[0m\n",
      "\u001b[34m2020-07-16 05:56:31,990 INFO [71]#011train-auc:0.912579#011validation-auc:0.905792\u001b[0m\n",
      "\u001b[34m2020-07-16 05:56:36,840 INFO [72]#011train-auc:0.912737#011validation-auc:0.905904\u001b[0m\n",
      "\u001b[34m2020-07-16 05:56:41,263 INFO [73]#011train-auc:0.912803#011validation-auc:0.905948\u001b[0m\n",
      "\u001b[34m2020-07-16 05:56:46,021 INFO [74]#011train-auc:0.913#011validation-auc:0.906106\u001b[0m\n",
      "\u001b[34m2020-07-16 05:56:50,951 INFO [75]#011train-auc:0.9132#011validation-auc:0.906202\u001b[0m\n",
      "\u001b[34m2020-07-16 05:56:55,818 INFO [76]#011train-auc:0.913414#011validation-auc:0.906355\u001b[0m\n",
      "\u001b[34m2020-07-16 05:57:00,600 INFO [77]#011train-auc:0.913571#011validation-auc:0.906456\u001b[0m\n",
      "\u001b[34m2020-07-16 05:57:05,762 INFO [78]#011train-auc:0.913856#011validation-auc:0.906672\u001b[0m\n",
      "\u001b[34m2020-07-16 05:57:10,578 INFO [79]#011train-auc:0.914017#011validation-auc:0.906793\u001b[0m\n",
      "\u001b[34m2020-07-16 05:57:15,453 INFO [80]#011train-auc:0.914233#011validation-auc:0.906926\u001b[0m\n",
      "\u001b[34m2020-07-16 05:57:20,349 INFO [81]#011train-auc:0.914385#011validation-auc:0.907039\u001b[0m\n",
      "\u001b[34m2020-07-16 05:57:25,540 INFO [82]#011train-auc:0.914632#011validation-auc:0.907222\u001b[0m\n",
      "\u001b[34m2020-07-16 05:57:30,479 INFO [83]#011train-auc:0.91486#011validation-auc:0.90738\u001b[0m\n",
      "\u001b[34m2020-07-16 05:57:35,327 INFO [84]#011train-auc:0.91505#011validation-auc:0.907497\u001b[0m\n",
      "\u001b[34m2020-07-16 05:57:40,226 INFO [85]#011train-auc:0.915239#011validation-auc:0.90763\u001b[0m\n",
      "\u001b[34m2020-07-16 05:57:45,389 INFO [86]#011train-auc:0.915526#011validation-auc:0.907789\u001b[0m\n",
      "\u001b[34m2020-07-16 05:57:50,460 INFO [87]#011train-auc:0.915794#011validation-auc:0.907967\u001b[0m\n",
      "\u001b[34m2020-07-16 05:57:55,365 INFO [88]#011train-auc:0.915914#011validation-auc:0.908055\u001b[0m\n",
      "\u001b[34m2020-07-16 05:58:00,244 INFO [89]#011train-auc:0.916114#011validation-auc:0.908203\u001b[0m\n",
      "\u001b[34m2020-07-16 05:58:05,251 INFO [90]#011train-auc:0.916253#011validation-auc:0.90829\u001b[0m\n",
      "\u001b[34m2020-07-16 05:58:09,851 INFO [91]#011train-auc:0.916372#011validation-auc:0.908376\u001b[0m\n",
      "\u001b[34m2020-07-16 05:58:14,587 INFO [92]#011train-auc:0.916478#011validation-auc:0.908453\u001b[0m\n",
      "\u001b[34m2020-07-16 05:58:19,468 INFO [93]#011train-auc:0.916706#011validation-auc:0.908605\u001b[0m\n",
      "\u001b[34m2020-07-16 05:58:24,489 INFO [94]#011train-auc:0.916817#011validation-auc:0.908693\u001b[0m\n",
      "\u001b[34m2020-07-16 05:58:28,987 INFO [95]#011train-auc:0.916854#011validation-auc:0.908719\u001b[0m\n",
      "\u001b[34m2020-07-16 05:58:33,392 INFO [96]#011train-auc:0.916898#011validation-auc:0.908749\u001b[0m\n",
      "\u001b[34m2020-07-16 05:58:38,517 INFO [97]#011train-auc:0.917246#011validation-auc:0.908989\u001b[0m\n",
      "\u001b[34m2020-07-16 05:58:43,330 INFO [98]#011train-auc:0.917393#011validation-auc:0.909092\u001b[0m\n",
      "\u001b[34m2020-07-16 05:58:48,137 INFO [99]#011train-auc:0.917523#011validation-auc:0.909196\u001b[0m\n",
      "\u001b[34m2020-07-16 05:58:48,331 INFO Finished training\u001b[0m\n",
      "\u001b[34m2020-07-16 05:58:48,332 INFO Finished training\u001b[0m\n",
      "\u001b[34m2020-07-16 05:58:48,333 INFO Finished training\u001b[0m\n",
      "\u001b[34m2020-07-16 05:58:48,336 INFO Finished training\u001b[0m\n",
      "\u001b[34m2020-07-16 05:58:48,341 INFO Finished training\u001b[0m\n",
      "\u001b[34m2020-07-16 05:58:48,342 INFO @tracker All nodes finishes job\u001b[0m\n",
      "\u001b[34m2020-07-16 05:58:48,342 INFO @tracker 515.63399291 secs between node start and job finish\u001b[0m\n",
      "\u001b[32m[2020-07-16:06:00:11:INFO] Master host is not alive. Training might have finished. Shutting down.... Check the logs for algo-1 machine.\u001b[0m\n",
      "\u001b[35m[2020-07-16:06:00:13:INFO] Master host is not alive. Training might have finished. Shutting down.... Check the logs for algo-1 machine.\u001b[0m\n",
      "\u001b[36m[2020-07-16:06:00:44:INFO] Master host is not alive. Training might have finished. Shutting down.... Check the logs for algo-1 machine.\u001b[0m\n",
      "\n",
      "2020-07-16 06:00:57 Uploading - Uploading generated training model\n",
      "2020-07-16 06:00:57 Completed - Training job completed\n",
      "\u001b[33m[2020-07-16:06:00:46:INFO] Master host is not alive. Training might have finished. Shutting down.... Check the logs for algo-1 machine.\u001b[0m\n",
      "Training seconds: 4110\n",
      "Billable seconds: 4110\n"
     ]
    }
   ],
   "source": [
    "model_50=fit_model(job_name=\"csv-weights-50\", s3_train_path=s3_input_train_50, s3_val_path=s3_input_val)"
   ]
  },
  {
   "cell_type": "code",
   "execution_count": 89,
   "metadata": {},
   "outputs": [
    {
     "name": "stderr",
     "output_type": "stream",
     "text": [
      "WARNING:root:Parameter image_name will be renamed to image_uri in SageMaker Python SDK v2.\n"
     ]
    },
    {
     "name": "stdout",
     "output_type": "stream",
     "text": [
      "2020-07-16 06:06:10 Starting - Starting the training job...\n",
      "2020-07-16 06:06:13 Starting - Launching requested ML instances......\n",
      "2020-07-16 06:07:28 Starting - Preparing the instances for training......\n",
      "2020-07-16 06:08:37 Downloading - Downloading input data...............\n",
      "2020-07-16 06:11:09 Training - Downloading the training image...\n",
      "2020-07-16 06:11:29 Training - Training image download completed. Training in progress.\u001b[33mArguments: train\u001b[0m\n",
      "\u001b[35mArguments: train\u001b[0m\n",
      "\u001b[35m[2020-07-16:06:11:30:INFO] Running distributed xgboost training.\u001b[0m\n",
      "\u001b[33m[2020-07-16:06:11:30:INFO] Running distributed xgboost training.\u001b[0m\n",
      "\u001b[32mArguments: train\u001b[0m\n",
      "\u001b[32m[2020-07-16:06:11:30:INFO] Running distributed xgboost training.\u001b[0m\n",
      "\u001b[34mArguments: train\u001b[0m\n",
      "\u001b[34m[2020-07-16:06:11:30:INFO] Running distributed xgboost training.\u001b[0m\n",
      "\u001b[36mArguments: train\u001b[0m\n",
      "\u001b[36m[2020-07-16:06:11:30:INFO] Running distributed xgboost training.\u001b[0m\n",
      "\u001b[35m[2020-07-16:06:11:33:INFO] Number of hosts: 5, master IP address: 10.2.94.27, host IP address: 10.2.104.46.\u001b[0m\n",
      "\u001b[35m[2020-07-16:06:11:33:INFO] Finished Yarn configuration files setup.\n",
      "\u001b[0m\n",
      "\u001b[35mstarting datanode, logging to /opt/amazon/hadoop/logs/hadoop--datanode-ip-10-2-104-46.ec2.internal.out\u001b[0m\n",
      "\u001b[33m[2020-07-16:06:11:33:INFO] Number of hosts: 5, master IP address: 10.2.94.27, host IP address: 10.2.70.14.\u001b[0m\n",
      "\u001b[33m[2020-07-16:06:11:33:INFO] Finished Yarn configuration files setup.\n",
      "\u001b[0m\n",
      "\u001b[33mstarting datanode, logging to /opt/amazon/hadoop/logs/hadoop--datanode-ip-10-2-70-14.ec2.internal.out\u001b[0m\n",
      "\u001b[32m[2020-07-16:06:11:33:INFO] Number of hosts: 5, master IP address: 10.2.94.27, host IP address: 10.2.116.238.\u001b[0m\n",
      "\u001b[32m[2020-07-16:06:11:33:INFO] Finished Yarn configuration files setup.\n",
      "\u001b[0m\n",
      "\u001b[32mstarting datanode, logging to /opt/amazon/hadoop/logs/hadoop--datanode-ip-10-2-116-238.ec2.internal.out\u001b[0m\n",
      "\u001b[34m[2020-07-16:06:11:33:INFO] Number of hosts: 5, master IP address: 10.2.94.27, host IP address: 10.2.94.27.\u001b[0m\n",
      "\u001b[34m[2020-07-16:06:11:33:INFO] Finished Yarn configuration files setup.\n",
      "\u001b[0m\n",
      "\u001b[36m[2020-07-16:06:11:33:INFO] Number of hosts: 5, master IP address: 10.2.94.27, host IP address: 10.2.97.41.\u001b[0m\n",
      "\u001b[36m[2020-07-16:06:11:34:INFO] Finished Yarn configuration files setup.\n",
      "\u001b[0m\n",
      "\u001b[36mstarting datanode, logging to /opt/amazon/hadoop/logs/hadoop--datanode-ip-10-2-97-41.ec2.internal.out\u001b[0m\n",
      "\u001b[35mstarting nodemanager, logging to /opt/amazon/hadoop/logs/yarn--nodemanager-ip-10-2-104-46.ec2.internal.out\u001b[0m\n",
      "\u001b[33mstarting nodemanager, logging to /opt/amazon/hadoop/logs/yarn--nodemanager-ip-10-2-70-14.ec2.internal.out\u001b[0m\n",
      "\u001b[32mstarting nodemanager, logging to /opt/amazon/hadoop/logs/yarn--nodemanager-ip-10-2-116-238.ec2.internal.out\u001b[0m\n",
      "\u001b[34mstarting namenode, logging to /opt/amazon/hadoop/logs/hadoop--namenode-ip-10-2-94-27.ec2.internal.out\u001b[0m\n",
      "\u001b[36mstarting nodemanager, logging to /opt/amazon/hadoop/logs/yarn--nodemanager-ip-10-2-97-41.ec2.internal.out\u001b[0m\n",
      "\u001b[35m[2020-07-16:06:11:38:INFO] File size need to be processed in the node: 1041.31mb. Available memory size in the node: 55915.36mb\u001b[0m\n",
      "\u001b[33m[2020-07-16:06:11:38:INFO] File size need to be processed in the node: 1041.31mb. Available memory size in the node: 55924.63mb\u001b[0m\n",
      "\u001b[32m[2020-07-16:06:11:38:INFO] File size need to be processed in the node: 1041.31mb. Available memory size in the node: 55918.96mb\u001b[0m\n",
      "\u001b[36m[2020-07-16:06:11:39:INFO] File size need to be processed in the node: 1041.31mb. Available memory size in the node: 55929.89mb\u001b[0m\n",
      "\u001b[34mstarting resourcemanager, logging to /opt/amazon/hadoop/logs/yarn--resourcemanager-ip-10-2-94-27.ec2.internal.out\u001b[0m\n",
      "\u001b[34mstarting datanode, logging to /opt/amazon/hadoop/logs/hadoop--datanode-ip-10-2-94-27.ec2.internal.out\u001b[0m\n",
      "\u001b[34mstarting nodemanager, logging to /opt/amazon/hadoop/logs/yarn--nodemanager-ip-10-2-94-27.ec2.internal.out\u001b[0m\n",
      "\u001b[34m[2020-07-16:06:11:47:INFO] File size need to be processed in the node: 1041.31mb. Available memory size in the node: 55193.28mb\u001b[0m\n",
      "\u001b[34m[2020-07-16:06:11:47:INFO] HTTP server started....\u001b[0m\n",
      "\u001b[34m[2020-07-16:06:11:47:INFO] Memory/core ratio is 7.86\u001b[0m\n",
      "\u001b[34m[2020-07-16:06:11:47:INFO] Yarn setup: number of workers: 5, physical cores per worker: 8, physical memory per worker: 62.9g.\u001b[0m\n",
      "\u001b[34m[2020-07-16:06:11:47:INFO] Yarn job submitted successfully.\u001b[0m\n",
      "\u001b[34m2020-07-16 06:11:47,958 INFO start listen on 10.2.94.27:9091\u001b[0m\n",
      "\u001b[34m/xgboost/dmlc-core/tracker/dmlc_tracker/yarn.py:37: UserWarning: cannot find \"/xgboost/dmlc-core/tracker/dmlc_tracker/../yarn/dmlc-yarn.jar\", I will try to run build\n",
      "  warnings.warn(\"cannot find \\\"%s\\\", I will try to run build\" % YARN_JAR_PATH)\u001b[0m\n",
      "\u001b[34msrc/main/java/org/apache/hadoop/yarn/dmlc/Client.java:37: warning: Signal is internal proprietary API and may be removed in a future release\u001b[0m\n",
      "\u001b[34mimport sun.misc.Signal;\n",
      "               ^\u001b[0m\n",
      "\u001b[34msrc/main/java/org/apache/hadoop/yarn/dmlc/Client.java:38: warning: SignalHandler is internal proprietary API and may be removed in a future release\u001b[0m\n",
      "\u001b[34mimport sun.misc.SignalHandler;\n",
      "               ^\u001b[0m\n",
      "\u001b[34msrc/main/java/org/apache/hadoop/yarn/dmlc/Client.java:276: warning: Signal is internal proprietary API and may be removed in a future release\n",
      "        Signal intSignal = new Signal(\"INT\");\n",
      "        ^\u001b[0m\n",
      "\u001b[34msrc/main/java/org/apache/hadoop/yarn/dmlc/Client.java:276: warning: Signal is internal proprietary API and may be removed in a future release\n",
      "        Signal intSignal = new Signal(\"INT\");\n",
      "                               ^\u001b[0m\n",
      "\u001b[34msrc/main/java/org/apache/hadoop/yarn/dmlc/Client.java:277: warning: Signal is internal proprietary API and may be removed in a future release\n",
      "        Signal.handle(intSignal, handler);\n",
      "        ^\u001b[0m\n",
      "\u001b[34msrc/main/java/org/apache/hadoop/yarn/dmlc/Client.java:332: warning: SignalHandler is internal proprietary API and may be removed in a future release\n",
      "    class CtrlCHandler implements SignalHandler{\n",
      "                                  ^\u001b[0m\n",
      "\u001b[34msrc/main/java/org/apache/hadoop/yarn/dmlc/Client.java:339: warning: Signal is internal proprietary API and may be removed in a future release\n",
      "        public void handle(Signal signal){\n",
      "                           ^\u001b[0m\n",
      "\u001b[34mNote: src/main/java/org/apache/hadoop/yarn/dmlc/ApplicationMaster.java uses unchecked or unsafe operations.\u001b[0m\n",
      "\u001b[34mNote: Recompile with -Xlint:unchecked for details.\u001b[0m\n",
      "\u001b[34m7 warnings\u001b[0m\n",
      "\u001b[34m20/07/16 06:11:51 INFO client.RMProxy: Connecting to ResourceManager at algo-1/10.2.94.27:8032\u001b[0m\n",
      "\u001b[34m20/07/16 06:11:51 INFO dmlc.Client: HDFS temp directory do not exist, creating.. /tmp\u001b[0m\n",
      "\u001b[34m20/07/16 06:11:52 INFO dmlc.Client: jobname=DMLC[nworker=5]:python,username=root\u001b[0m\n",
      "\u001b[34m20/07/16 06:11:52 INFO dmlc.Client: Submitting application application_1594879903062_0001\u001b[0m\n",
      "\u001b[34m20/07/16 06:11:52 INFO impl.YarnClientImpl: Submitted application application_1594879903062_0001\u001b[0m\n",
      "\u001b[34m2020-07-16 06:11:59,871 INFO @tracker All of 5 nodes getting started\u001b[0m\n",
      "\u001b[34m2020-07-16 06:12:23,374 INFO [0]#011train-auc:0.882692#011validation-auc:0.880079\u001b[0m\n",
      "\u001b[34m2020-07-16 06:12:28,552 INFO [1]#011train-auc:0.884398#011validation-auc:0.882038\u001b[0m\n",
      "\u001b[34m2020-07-16 06:12:33,646 INFO [2]#011train-auc:0.885701#011validation-auc:0.883786\u001b[0m\n",
      "\u001b[34m2020-07-16 06:12:38,733 INFO [3]#011train-auc:0.887204#011validation-auc:0.885366\u001b[0m\n",
      "\u001b[34m2020-07-16 06:12:43,869 INFO [4]#011train-auc:0.8882#011validation-auc:0.886214\u001b[0m\n",
      "\u001b[34m2020-07-16 06:12:49,134 INFO [5]#011train-auc:0.888858#011validation-auc:0.886855\u001b[0m\n",
      "\u001b[34m2020-07-16 06:12:54,327 INFO [6]#011train-auc:0.889593#011validation-auc:0.887599\u001b[0m\n",
      "\u001b[34m2020-07-16 06:12:59,503 INFO [7]#011train-auc:0.890109#011validation-auc:0.888209\u001b[0m\n",
      "\u001b[34m2020-07-16 06:13:04,790 INFO [8]#011train-auc:0.890803#011validation-auc:0.888981\u001b[0m\n",
      "\u001b[34m2020-07-16 06:13:09,899 INFO [9]#011train-auc:0.891441#011validation-auc:0.889782\u001b[0m\n",
      "\u001b[34m2020-07-16 06:13:15,021 INFO [10]#011train-auc:0.891928#011validation-auc:0.890388\u001b[0m\n",
      "\u001b[34m2020-07-16 06:13:20,177 INFO [11]#011train-auc:0.892637#011validation-auc:0.89121\u001b[0m\n",
      "\u001b[34m2020-07-16 06:13:25,414 INFO [12]#011train-auc:0.893197#011validation-auc:0.891842\u001b[0m\n",
      "\u001b[34m2020-07-16 06:13:30,499 INFO [13]#011train-auc:0.893742#011validation-auc:0.892403\u001b[0m\n",
      "\u001b[34m2020-07-16 06:13:35,501 INFO [14]#011train-auc:0.894273#011validation-auc:0.892993\u001b[0m\n",
      "\u001b[34m2020-07-16 06:13:40,557 INFO [15]#011train-auc:0.89476#011validation-auc:0.893542\u001b[0m\n",
      "\u001b[34m2020-07-16 06:13:45,630 INFO [16]#011train-auc:0.895142#011validation-auc:0.893898\u001b[0m\n",
      "\u001b[34m2020-07-16 06:13:50,560 INFO [17]#011train-auc:0.895505#011validation-auc:0.894294\u001b[0m\n",
      "\u001b[34m2020-07-16 06:13:55,610 INFO [18]#011train-auc:0.895816#011validation-auc:0.894646\u001b[0m\n",
      "\u001b[34m2020-07-16 06:14:00,681 INFO [19]#011train-auc:0.896208#011validation-auc:0.895065\u001b[0m\n",
      "\u001b[34m2020-07-16 06:14:06,043 INFO [20]#011train-auc:0.896561#011validation-auc:0.895433\u001b[0m\n",
      "\u001b[34m2020-07-16 06:14:11,064 INFO [21]#011train-auc:0.89694#011validation-auc:0.895745\u001b[0m\n",
      "\u001b[34m2020-07-16 06:14:16,200 INFO [22]#011train-auc:0.897245#011validation-auc:0.89604\u001b[0m\n",
      "\u001b[34m2020-07-16 06:14:21,250 INFO [23]#011train-auc:0.897745#011validation-auc:0.896397\u001b[0m\n",
      "\u001b[34m2020-07-16 06:14:26,273 INFO [24]#011train-auc:0.897959#011validation-auc:0.896672\u001b[0m\n",
      "\u001b[34m2020-07-16 06:14:31,503 INFO [25]#011train-auc:0.898249#011validation-auc:0.896981\u001b[0m\n",
      "\u001b[34m2020-07-16 06:14:36,471 INFO [26]#011train-auc:0.898585#011validation-auc:0.897272\u001b[0m\n",
      "\u001b[34m2020-07-16 06:14:41,602 INFO [27]#011train-auc:0.898998#011validation-auc:0.897535\u001b[0m\n",
      "\u001b[34m2020-07-16 06:14:46,669 INFO [28]#011train-auc:0.899319#011validation-auc:0.897839\u001b[0m\n",
      "\u001b[34m2020-07-16 06:14:51,385 INFO [29]#011train-auc:0.899471#011validation-auc:0.897974\u001b[0m\n",
      "\u001b[34m2020-07-16 06:14:56,152 INFO [30]#011train-auc:0.899653#011validation-auc:0.898192\u001b[0m\n",
      "\u001b[34m2020-07-16 06:15:01,161 INFO [31]#011train-auc:0.900063#011validation-auc:0.898467\u001b[0m\n",
      "\u001b[34m2020-07-16 06:15:06,550 INFO [32]#011train-auc:0.900351#011validation-auc:0.89877\u001b[0m\n",
      "\u001b[34m2020-07-16 06:15:11,559 INFO [33]#011train-auc:0.900661#011validation-auc:0.898948\u001b[0m\n",
      "\u001b[34m2020-07-16 06:15:16,306 INFO [34]#011train-auc:0.900835#011validation-auc:0.899107\u001b[0m\n",
      "\u001b[34m2020-07-16 06:15:21,182 INFO [35]#011train-auc:0.901103#011validation-auc:0.89934\u001b[0m\n",
      "\u001b[34m2020-07-16 06:15:25,851 INFO [36]#011train-auc:0.901305#011validation-auc:0.899493\u001b[0m\n",
      "\u001b[34m2020-07-16 06:15:30,973 INFO [37]#011train-auc:0.901607#011validation-auc:0.89982\u001b[0m\n",
      "\u001b[34m2020-07-16 06:15:36,173 INFO [38]#011train-auc:0.901825#011validation-auc:0.90006\u001b[0m\n",
      "\u001b[34m2020-07-16 06:15:41,152 INFO [39]#011train-auc:0.902021#011validation-auc:0.900184\u001b[0m\n",
      "\u001b[34m2020-07-16 06:15:45,969 INFO [40]#011train-auc:0.902146#011validation-auc:0.900276\u001b[0m\n",
      "\u001b[34m2020-07-16 06:15:50,765 INFO [41]#011train-auc:0.902346#011validation-auc:0.900472\u001b[0m\n",
      "\u001b[34m2020-07-16 06:15:55,578 INFO [42]#011train-auc:0.90255#011validation-auc:0.900628\u001b[0m\n",
      "\u001b[34m2020-07-16 06:16:00,619 INFO [43]#011train-auc:0.90278#011validation-auc:0.90084\u001b[0m\n",
      "\u001b[34m2020-07-16 06:16:05,594 INFO [44]#011train-auc:0.902902#011validation-auc:0.900945\u001b[0m\n",
      "\u001b[34m2020-07-16 06:16:10,361 INFO [45]#011train-auc:0.903099#011validation-auc:0.901134\u001b[0m\n",
      "\u001b[34m2020-07-16 06:16:15,115 INFO [46]#011train-auc:0.90327#011validation-auc:0.901304\u001b[0m\n",
      "\u001b[34m2020-07-16 06:16:19,800 INFO [47]#011train-auc:0.903381#011validation-auc:0.901392\u001b[0m\n",
      "\u001b[34m2020-07-16 06:16:24,901 INFO [48]#011train-auc:0.903683#011validation-auc:0.901674\u001b[0m\n",
      "\u001b[34m2020-07-16 06:16:29,853 INFO [49]#011train-auc:0.903832#011validation-auc:0.90178\u001b[0m\n",
      "\u001b[34m2020-07-16 06:16:34,676 INFO [50]#011train-auc:0.90399#011validation-auc:0.901887\u001b[0m\n",
      "\u001b[34m2020-07-16 06:16:39,652 INFO [51]#011train-auc:0.904204#011validation-auc:0.90207\u001b[0m\n",
      "\u001b[34m2020-07-16 06:16:44,973 INFO [52]#011train-auc:0.90452#011validation-auc:0.902426\u001b[0m\n",
      "\u001b[34m2020-07-16 06:16:49,802 INFO [53]#011train-auc:0.904672#011validation-auc:0.902549\u001b[0m\n",
      "\u001b[34m2020-07-16 06:16:54,575 INFO [54]#011train-auc:0.904895#011validation-auc:0.902747\u001b[0m\n",
      "\u001b[34m2020-07-16 06:16:59,084 INFO [55]#011train-auc:0.904962#011validation-auc:0.902815\u001b[0m\n",
      "\u001b[34m2020-07-16 06:17:03,727 INFO [56]#011train-auc:0.905212#011validation-auc:0.902935\u001b[0m\n",
      "\u001b[34m2020-07-16 06:17:08,879 INFO [57]#011train-auc:0.905406#011validation-auc:0.90309\u001b[0m\n",
      "\u001b[34m2020-07-16 06:17:13,762 INFO [58]#011train-auc:0.905527#011validation-auc:0.903163\u001b[0m\n",
      "\u001b[34m2020-07-16 06:17:18,554 INFO [59]#011train-auc:0.905689#011validation-auc:0.903296\u001b[0m\n",
      "\u001b[34m2020-07-16 06:17:23,579 INFO [60]#011train-auc:0.905966#011validation-auc:0.903489\u001b[0m\n",
      "\u001b[34m2020-07-16 06:17:28,689 INFO [61]#011train-auc:0.906129#011validation-auc:0.903642\u001b[0m\n",
      "\u001b[34m2020-07-16 06:17:33,696 INFO [62]#011train-auc:0.906218#011validation-auc:0.903729\u001b[0m\n",
      "\u001b[34m2020-07-16 06:17:38,866 INFO [63]#011train-auc:0.906401#011validation-auc:0.903855\u001b[0m\n",
      "\u001b[34m2020-07-16 06:17:43,771 INFO [64]#011train-auc:0.906702#011validation-auc:0.903984\u001b[0m\n",
      "\u001b[34m2020-07-16 06:17:48,725 INFO [65]#011train-auc:0.906869#011validation-auc:0.904169\u001b[0m\n",
      "\u001b[34m2020-07-16 06:17:53,589 INFO [66]#011train-auc:0.907042#011validation-auc:0.904307\u001b[0m\n",
      "\u001b[34m2020-07-16 06:17:58,672 INFO [67]#011train-auc:0.907341#011validation-auc:0.904617\u001b[0m\n",
      "\u001b[34m2020-07-16 06:18:03,546 INFO [68]#011train-auc:0.907567#011validation-auc:0.90475\u001b[0m\n",
      "\u001b[34m2020-07-16 06:18:08,499 INFO [69]#011train-auc:0.907675#011validation-auc:0.904831\u001b[0m\n",
      "\u001b[34m2020-07-16 06:18:13,350 INFO [70]#011train-auc:0.907803#011validation-auc:0.904945\u001b[0m\n",
      "\u001b[34m2020-07-16 06:18:17,825 INFO [71]#011train-auc:0.907918#011validation-auc:0.90505\u001b[0m\n",
      "\u001b[34m2020-07-16 06:18:22,602 INFO [72]#011train-auc:0.908015#011validation-auc:0.905138\u001b[0m\n",
      "\u001b[34m2020-07-16 06:18:27,102 INFO [73]#011train-auc:0.908095#011validation-auc:0.905203\u001b[0m\n",
      "\u001b[34m2020-07-16 06:18:31,723 INFO [74]#011train-auc:0.90822#011validation-auc:0.905306\u001b[0m\n",
      "\u001b[34m2020-07-16 06:18:36,741 INFO [75]#011train-auc:0.908353#011validation-auc:0.905444\u001b[0m\n",
      "\u001b[34m2020-07-16 06:18:41,252 INFO [76]#011train-auc:0.908481#011validation-auc:0.905534\u001b[0m\n",
      "\u001b[34m2020-07-16 06:18:45,950 INFO [77]#011train-auc:0.908548#011validation-auc:0.905615\u001b[0m\n",
      "\u001b[34m2020-07-16 06:18:50,970 INFO [78]#011train-auc:0.908731#011validation-auc:0.905779\u001b[0m\n",
      "\u001b[34m2020-07-16 06:18:55,792 INFO [79]#011train-auc:0.909064#011validation-auc:0.905921\u001b[0m\n",
      "\u001b[34m2020-07-16 06:19:00,618 INFO [80]#011train-auc:0.909269#011validation-auc:0.906074\u001b[0m\n",
      "\u001b[34m2020-07-16 06:19:05,567 INFO [81]#011train-auc:0.909423#011validation-auc:0.906196\u001b[0m\n",
      "\u001b[34m2020-07-16 06:19:10,767 INFO [82]#011train-auc:0.909629#011validation-auc:0.906327\u001b[0m\n",
      "\u001b[34m2020-07-16 06:19:15,428 INFO [83]#011train-auc:0.909834#011validation-auc:0.906448\u001b[0m\n",
      "\u001b[34m2020-07-16 06:19:19,828 INFO [84]#011train-auc:0.909873#011validation-auc:0.906479\u001b[0m\n",
      "\u001b[34m2020-07-16 06:19:24,650 INFO [85]#011train-auc:0.909989#011validation-auc:0.906606\u001b[0m\n",
      "\u001b[34m2020-07-16 06:19:29,462 INFO [86]#011train-auc:0.91014#011validation-auc:0.90671\u001b[0m\n",
      "\u001b[34m2020-07-16 06:19:34,027 INFO [87]#011train-auc:0.910201#011validation-auc:0.90674\u001b[0m\n",
      "\u001b[34m2020-07-16 06:19:38,383 INFO [88]#011train-auc:0.910224#011validation-auc:0.906758\u001b[0m\n",
      "\u001b[34m2020-07-16 06:19:43,202 INFO [89]#011train-auc:0.910359#011validation-auc:0.906872\u001b[0m\n",
      "\u001b[34m2020-07-16 06:19:48,194 INFO [90]#011train-auc:0.910503#011validation-auc:0.907012\u001b[0m\n",
      "\u001b[34m2020-07-16 06:19:53,189 INFO [91]#011train-auc:0.910662#011validation-auc:0.907108\u001b[0m\n",
      "\u001b[34m2020-07-16 06:19:58,093 INFO [92]#011train-auc:0.910816#011validation-auc:0.907217\u001b[0m\n",
      "\u001b[34m2020-07-16 06:20:03,046 INFO [93]#011train-auc:0.911046#011validation-auc:0.907355\u001b[0m\n",
      "\u001b[34m2020-07-16 06:20:08,087 INFO [94]#011train-auc:0.91116#011validation-auc:0.907454\u001b[0m\n",
      "\u001b[34m2020-07-16 06:20:13,075 INFO [95]#011train-auc:0.911256#011validation-auc:0.907547\u001b[0m\n",
      "\u001b[34m2020-07-16 06:20:18,003 INFO [96]#011train-auc:0.911399#011validation-auc:0.907674\u001b[0m\n",
      "\u001b[34m2020-07-16 06:20:22,781 INFO [97]#011train-auc:0.911564#011validation-auc:0.907779\u001b[0m\n",
      "\u001b[34m2020-07-16 06:20:27,585 INFO [98]#011train-auc:0.911659#011validation-auc:0.907863\u001b[0m\n",
      "\u001b[34m2020-07-16 06:20:32,092 INFO [99]#011train-auc:0.91169#011validation-auc:0.907896\u001b[0m\n",
      "\u001b[34m2020-07-16 06:20:32,286 INFO Finished training\u001b[0m\n",
      "\u001b[34m2020-07-16 06:20:32,287 INFO Finished training\u001b[0m\n",
      "\u001b[34m2020-07-16 06:20:32,287 INFO Finished training\u001b[0m\n",
      "\u001b[34m2020-07-16 06:20:32,292 INFO Finished training\u001b[0m\n",
      "\u001b[34m2020-07-16 06:20:32,294 INFO Finished training\u001b[0m\n",
      "\u001b[34m2020-07-16 06:20:32,296 INFO @tracker All nodes finishes job\u001b[0m\n",
      "\u001b[34m2020-07-16 06:20:32,296 INFO @tracker 512.424372911 secs between node start and job finish\u001b[0m\n",
      "\u001b[35m[2020-07-16:06:21:58:INFO] Master host is not alive. Training might have finished. Shutting down.... Check the logs for algo-1 machine.\u001b[0m\n",
      "\u001b[32m[2020-07-16:06:22:27:INFO] Master host is not alive. Training might have finished. Shutting down.... Check the logs for algo-1 machine.\u001b[0m\n",
      "\u001b[36m[2020-07-16:06:22:30:INFO] Master host is not alive. Training might have finished. Shutting down.... Check the logs for algo-1 machine.\u001b[0m\n",
      "\u001b[33m[2020-07-16:06:22:30:INFO] Master host is not alive. Training might have finished. Shutting down.... Check the logs for algo-1 machine.\u001b[0m\n",
      "\n",
      "2020-07-16 06:22:45 Uploading - Uploading generated training model\n",
      "2020-07-16 06:22:45 Completed - Training job completed\n",
      "Training seconds: 4240\n",
      "Billable seconds: 4240\n"
     ]
    }
   ],
   "source": [
    "model_75=fit_model(job_name=\"csv-weights-75\", s3_train_path=s3_input_train_75, s3_val_path=s3_input_val)"
   ]
  },
  {
   "cell_type": "markdown",
   "metadata": {},
   "source": [
    "# 6. Model Prediction"
   ]
  },
  {
   "cell_type": "markdown",
   "metadata": {},
   "source": [
    "##  Batch Prediction"
   ]
  },
  {
   "cell_type": "code",
   "execution_count": 77,
   "metadata": {},
   "outputs": [],
   "source": [
    "def batch_transform(model, s3_data_path, dataset_type=\"train\", bucket=BUCKET, prefix=INFERENCE_PREFIX):\n",
    "    model_transformer = model.transformer(instance_count=2,\n",
    "                                  instance_type='ml.m4.xlarge',\n",
    "                                  strategy='MultiRecord',\n",
    "                                  assemble_with='Line',\n",
    "                                  output_path='s3://{}/{}/transform/{}'.format(bucket, prefix, dataset_type)\n",
    "                                  , accept=\"text/csv\")\n",
    "\n",
    "    return model_transformer.transform(data=s3_data_path, content_type='text/csv', split_type='Line', input_filter='$[1:]', join_source='Input', output_filter='$[0,-1]')"
   ]
  },
  {
   "cell_type": "code",
   "execution_count": 211,
   "metadata": {},
   "outputs": [
    {
     "name": "stderr",
     "output_type": "stream",
     "text": [
      "WARNING:sagemaker:Parameter image will be renamed to image_uri in SageMaker Python SDK v2.\n",
      "WARNING:sagemaker:Parameter image will be renamed to image_uri in SageMaker Python SDK v2.\n",
      "WARNING:sagemaker:Using already existing model: xgboost-2020-07-16-18-20-32-559\n"
     ]
    }
   ],
   "source": [
    "batch_transform(model=model_01, s3_data_path=VAL_DATA_URL, dataset_type=\"val_01\")\n",
    "\n",
    "batch_transform(model=model_01, s3_data_path=TEST_DATA_URL, dataset_type=\"test_01\")"
   ]
  },
  {
   "cell_type": "code",
   "execution_count": 210,
   "metadata": {},
   "outputs": [
    {
     "name": "stderr",
     "output_type": "stream",
     "text": [
      "WARNING:sagemaker:Parameter image will be renamed to image_uri in SageMaker Python SDK v2.\n",
      "WARNING:sagemaker:Parameter image will be renamed to image_uri in SageMaker Python SDK v2.\n",
      "WARNING:sagemaker:Using already existing model: xgboost-2020-07-16-18-02-13-418\n"
     ]
    }
   ],
   "source": [
    "batch_transform(model=model_10, s3_data_path=VAL_DATA_URL, dataset_type=\"val_10\")\n",
    "\n",
    "batch_transform(model=model_10, s3_data_path=TEST_DATA_URL, dataset_type=\"test_10\")"
   ]
  },
  {
   "cell_type": "code",
   "execution_count": 84,
   "metadata": {},
   "outputs": [
    {
     "name": "stderr",
     "output_type": "stream",
     "text": [
      "WARNING:sagemaker:Using already existing model: xgboost-2020-07-16-05-44-05-295\n"
     ]
    }
   ],
   "source": [
    "batch_transform(model=model_25, s3_data_path=VAL_DATA_URL, dataset_type=\"val_25\")\n",
    "\n",
    "batch_transform(model=model_25, s3_data_path=TEST_DATA_URL, dataset_type=\"test_25\")"
   ]
  },
  {
   "cell_type": "code",
   "execution_count": 88,
   "metadata": {},
   "outputs": [
    {
     "name": "stderr",
     "output_type": "stream",
     "text": [
      "WARNING:sagemaker:Parameter image will be renamed to image_uri in SageMaker Python SDK v2.\n",
      "WARNING:sagemaker:Parameter image will be renamed to image_uri in SageMaker Python SDK v2.\n",
      "WARNING:sagemaker:Using already existing model: xgboost-2020-07-16-05-44-23-529\n"
     ]
    }
   ],
   "source": [
    "batch_transform(model=model_50, s3_data_path=VAL_DATA_URL, dataset_type=\"val_50\")\n",
    "\n",
    "batch_transform(model=model_50, s3_data_path=TEST_DATA_URL, dataset_type=\"test_50\")"
   ]
  },
  {
   "cell_type": "code",
   "execution_count": 90,
   "metadata": {},
   "outputs": [
    {
     "name": "stderr",
     "output_type": "stream",
     "text": [
      "WARNING:sagemaker:Parameter image will be renamed to image_uri in SageMaker Python SDK v2.\n",
      "WARNING:sagemaker:Parameter image will be renamed to image_uri in SageMaker Python SDK v2.\n",
      "WARNING:sagemaker:Using already existing model: xgboost-2020-07-16-06-06-10-735\n"
     ]
    }
   ],
   "source": [
    "batch_transform(model=model_75, s3_data_path=VAL_DATA_URL, dataset_type=\"val_75\")\n",
    "\n",
    "batch_transform(model=model_75, s3_data_path=TEST_DATA_URL, dataset_type=\"test_75\")"
   ]
  },
  {
   "cell_type": "code",
   "execution_count": 212,
   "metadata": {},
   "outputs": [
    {
     "name": "stderr",
     "output_type": "stream",
     "text": [
      "WARNING:sagemaker:Parameter image will be renamed to image_uri in SageMaker Python SDK v2.\n",
      "WARNING:sagemaker:Parameter image will be renamed to image_uri in SageMaker Python SDK v2.\n",
      "WARNING:sagemaker:Using already existing model: xgboost-2020-07-16-18-20-50-877\n"
     ]
    }
   ],
   "source": [
    "batch_transform(model=model_99, s3_data_path=VAL_DATA_URL, dataset_type=\"val_99\")\n",
    "\n",
    "batch_transform(model=model_99, s3_data_path=TEST_DATA_URL, dataset_type=\"test_99\")"
   ]
  },
  {
   "cell_type": "code",
   "execution_count": 48,
   "metadata": {},
   "outputs": [],
   "source": [
    "val_01_batch_output_file_name='s3://{}/{}/transform/val_01/{}.out'.format(BUCKET, INFERENCE_PREFIX, val_file_name)\n",
    "test_01_batch_output_file_name='s3://{}/{}/transform/test_01/{}.out'.format(BUCKET, INFERENCE_PREFIX, test_file_name)"
   ]
  },
  {
   "cell_type": "code",
   "execution_count": 49,
   "metadata": {},
   "outputs": [],
   "source": [
    "val_10_batch_output_file_name='s3://{}/{}/transform/val_10/{}.out'.format(BUCKET, INFERENCE_PREFIX, val_file_name)\n",
    "test_10_batch_output_file_name='s3://{}/{}/transform/test_10/{}.out'.format(BUCKET, INFERENCE_PREFIX, test_file_name)"
   ]
  },
  {
   "cell_type": "code",
   "execution_count": 50,
   "metadata": {},
   "outputs": [],
   "source": [
    "val_25_batch_output_file_name='s3://{}/{}/transform/val_25/{}.out'.format(BUCKET, INFERENCE_PREFIX, val_file_name)\n",
    "test_25_batch_output_file_name='s3://{}/{}/transform/test_25/{}.out'.format(BUCKET, INFERENCE_PREFIX, test_file_name)"
   ]
  },
  {
   "cell_type": "code",
   "execution_count": 51,
   "metadata": {},
   "outputs": [],
   "source": [
    "val_50_batch_output_file_name='s3://{}/{}/transform/val_50/{}.out'.format(BUCKET, INFERENCE_PREFIX, val_file_name)\n",
    "test_50_batch_output_file_name='s3://{}/{}/transform/test_50/{}.out'.format(BUCKET, INFERENCE_PREFIX, test_file_name)"
   ]
  },
  {
   "cell_type": "code",
   "execution_count": 52,
   "metadata": {},
   "outputs": [],
   "source": [
    "val_75_batch_output_file_name='s3://{}/{}/transform/val_75/{}.out'.format(BUCKET, INFERENCE_PREFIX, val_file_name)\n",
    "test_75_batch_output_file_name='s3://{}/{}/transform/test_75/{}.out'.format(BUCKET, INFERENCE_PREFIX, test_file_name)"
   ]
  },
  {
   "cell_type": "code",
   "execution_count": 53,
   "metadata": {},
   "outputs": [],
   "source": [
    "val_99_batch_output_file_name='s3://{}/{}/transform/val_99/{}.out'.format(BUCKET, INFERENCE_PREFIX, val_file_name)\n",
    "test_99_batch_output_file_name='s3://{}/{}/transform/test_99/{}.out'.format(BUCKET, INFERENCE_PREFIX, test_file_name)"
   ]
  },
  {
   "cell_type": "code",
   "execution_count": 54,
   "metadata": {},
   "outputs": [
    {
     "data": {
      "text/html": [
       "<div>\n",
       "<style scoped>\n",
       "    .dataframe tbody tr th:only-of-type {\n",
       "        vertical-align: middle;\n",
       "    }\n",
       "\n",
       "    .dataframe tbody tr th {\n",
       "        vertical-align: top;\n",
       "    }\n",
       "\n",
       "    .dataframe thead th {\n",
       "        text-align: right;\n",
       "    }\n",
       "</style>\n",
       "<table border=\"1\" class=\"dataframe\">\n",
       "  <thead>\n",
       "    <tr style=\"text-align: right;\">\n",
       "      <th></th>\n",
       "      <th>ACTUAL</th>\n",
       "      <th>PROBABILITY_01</th>\n",
       "    </tr>\n",
       "  </thead>\n",
       "  <tbody>\n",
       "    <tr>\n",
       "      <th>0</th>\n",
       "      <td>0</td>\n",
       "      <td>0.080114</td>\n",
       "    </tr>\n",
       "    <tr>\n",
       "      <th>1</th>\n",
       "      <td>0</td>\n",
       "      <td>0.044429</td>\n",
       "    </tr>\n",
       "    <tr>\n",
       "      <th>2</th>\n",
       "      <td>1</td>\n",
       "      <td>0.778404</td>\n",
       "    </tr>\n",
       "    <tr>\n",
       "      <th>3</th>\n",
       "      <td>1</td>\n",
       "      <td>0.886454</td>\n",
       "    </tr>\n",
       "    <tr>\n",
       "      <th>4</th>\n",
       "      <td>1</td>\n",
       "      <td>0.817366</td>\n",
       "    </tr>\n",
       "  </tbody>\n",
       "</table>\n",
       "</div>"
      ],
      "text/plain": [
       "   ACTUAL  PROBABILITY_01\n",
       "0       0        0.080114\n",
       "1       0        0.044429\n",
       "2       1        0.778404\n",
       "3       1        0.886454\n",
       "4       1        0.817366"
      ]
     },
     "execution_count": 54,
     "metadata": {},
     "output_type": "execute_result"
    }
   ],
   "source": [
    "df_val_01_batch_results_s3=pd.read_csv(val_01_batch_output_file_name, header=None, names=[\"ACTUAL\", \"PROBABILITY_01\"])\n",
    "\n",
    "df_val_01_batch_results_s3.head()"
   ]
  },
  {
   "cell_type": "code",
   "execution_count": 56,
   "metadata": {},
   "outputs": [
    {
     "data": {
      "text/html": [
       "<div>\n",
       "<style scoped>\n",
       "    .dataframe tbody tr th:only-of-type {\n",
       "        vertical-align: middle;\n",
       "    }\n",
       "\n",
       "    .dataframe tbody tr th {\n",
       "        vertical-align: top;\n",
       "    }\n",
       "\n",
       "    .dataframe thead th {\n",
       "        text-align: right;\n",
       "    }\n",
       "</style>\n",
       "<table border=\"1\" class=\"dataframe\">\n",
       "  <thead>\n",
       "    <tr style=\"text-align: right;\">\n",
       "      <th></th>\n",
       "      <th>ACTUAL</th>\n",
       "      <th>PROBABILITY_01</th>\n",
       "    </tr>\n",
       "  </thead>\n",
       "  <tbody>\n",
       "    <tr>\n",
       "      <th>0</th>\n",
       "      <td>1</td>\n",
       "      <td>0.906986</td>\n",
       "    </tr>\n",
       "    <tr>\n",
       "      <th>1</th>\n",
       "      <td>1</td>\n",
       "      <td>0.746571</td>\n",
       "    </tr>\n",
       "    <tr>\n",
       "      <th>2</th>\n",
       "      <td>1</td>\n",
       "      <td>0.764113</td>\n",
       "    </tr>\n",
       "    <tr>\n",
       "      <th>3</th>\n",
       "      <td>1</td>\n",
       "      <td>0.926163</td>\n",
       "    </tr>\n",
       "    <tr>\n",
       "      <th>4</th>\n",
       "      <td>1</td>\n",
       "      <td>0.638732</td>\n",
       "    </tr>\n",
       "  </tbody>\n",
       "</table>\n",
       "</div>"
      ],
      "text/plain": [
       "   ACTUAL  PROBABILITY_01\n",
       "0       1        0.906986\n",
       "1       1        0.746571\n",
       "2       1        0.764113\n",
       "3       1        0.926163\n",
       "4       1        0.638732"
      ]
     },
     "execution_count": 56,
     "metadata": {},
     "output_type": "execute_result"
    }
   ],
   "source": [
    "df_test_01_batch_results_s3=pd.read_csv(test_01_batch_output_file_name, header=None, names=[\"ACTUAL\", \"PROBABILITY_01\"])\n",
    "\n",
    "df_test_01_batch_results_s3.head()"
   ]
  },
  {
   "cell_type": "code",
   "execution_count": 57,
   "metadata": {},
   "outputs": [
    {
     "data": {
      "text/html": [
       "<div>\n",
       "<style scoped>\n",
       "    .dataframe tbody tr th:only-of-type {\n",
       "        vertical-align: middle;\n",
       "    }\n",
       "\n",
       "    .dataframe tbody tr th {\n",
       "        vertical-align: top;\n",
       "    }\n",
       "\n",
       "    .dataframe thead th {\n",
       "        text-align: right;\n",
       "    }\n",
       "</style>\n",
       "<table border=\"1\" class=\"dataframe\">\n",
       "  <thead>\n",
       "    <tr style=\"text-align: right;\">\n",
       "      <th></th>\n",
       "      <th>ACTUAL</th>\n",
       "      <th>PROBABILITY_10</th>\n",
       "    </tr>\n",
       "  </thead>\n",
       "  <tbody>\n",
       "    <tr>\n",
       "      <th>0</th>\n",
       "      <td>1</td>\n",
       "      <td>0.890552</td>\n",
       "    </tr>\n",
       "    <tr>\n",
       "      <th>1</th>\n",
       "      <td>1</td>\n",
       "      <td>0.817726</td>\n",
       "    </tr>\n",
       "    <tr>\n",
       "      <th>2</th>\n",
       "      <td>1</td>\n",
       "      <td>0.703000</td>\n",
       "    </tr>\n",
       "    <tr>\n",
       "      <th>3</th>\n",
       "      <td>1</td>\n",
       "      <td>0.921882</td>\n",
       "    </tr>\n",
       "    <tr>\n",
       "      <th>4</th>\n",
       "      <td>1</td>\n",
       "      <td>0.590999</td>\n",
       "    </tr>\n",
       "  </tbody>\n",
       "</table>\n",
       "</div>"
      ],
      "text/plain": [
       "   ACTUAL  PROBABILITY_10\n",
       "0       1        0.890552\n",
       "1       1        0.817726\n",
       "2       1        0.703000\n",
       "3       1        0.921882\n",
       "4       1        0.590999"
      ]
     },
     "execution_count": 57,
     "metadata": {},
     "output_type": "execute_result"
    }
   ],
   "source": [
    "df_test_10_batch_results_s3=pd.read_csv(test_10_batch_output_file_name, header=None, names=[\"ACTUAL\", \"PROBABILITY_10\"])\n",
    "\n",
    "df_test_10_batch_results_s3.head()"
   ]
  },
  {
   "cell_type": "code",
   "execution_count": 68,
   "metadata": {},
   "outputs": [
    {
     "data": {
      "text/html": [
       "<div>\n",
       "<style scoped>\n",
       "    .dataframe tbody tr th:only-of-type {\n",
       "        vertical-align: middle;\n",
       "    }\n",
       "\n",
       "    .dataframe tbody tr th {\n",
       "        vertical-align: top;\n",
       "    }\n",
       "\n",
       "    .dataframe thead th {\n",
       "        text-align: right;\n",
       "    }\n",
       "</style>\n",
       "<table border=\"1\" class=\"dataframe\">\n",
       "  <thead>\n",
       "    <tr style=\"text-align: right;\">\n",
       "      <th></th>\n",
       "      <th>ACTUAL</th>\n",
       "      <th>PROBABILITY_25</th>\n",
       "    </tr>\n",
       "  </thead>\n",
       "  <tbody>\n",
       "    <tr>\n",
       "      <th>0</th>\n",
       "      <td>0</td>\n",
       "      <td>0.101064</td>\n",
       "    </tr>\n",
       "    <tr>\n",
       "      <th>1</th>\n",
       "      <td>0</td>\n",
       "      <td>0.113517</td>\n",
       "    </tr>\n",
       "    <tr>\n",
       "      <th>2</th>\n",
       "      <td>1</td>\n",
       "      <td>0.803135</td>\n",
       "    </tr>\n",
       "    <tr>\n",
       "      <th>3</th>\n",
       "      <td>1</td>\n",
       "      <td>0.918991</td>\n",
       "    </tr>\n",
       "    <tr>\n",
       "      <th>4</th>\n",
       "      <td>1</td>\n",
       "      <td>0.776272</td>\n",
       "    </tr>\n",
       "  </tbody>\n",
       "</table>\n",
       "</div>"
      ],
      "text/plain": [
       "   ACTUAL  PROBABILITY_25\n",
       "0       0        0.101064\n",
       "1       0        0.113517\n",
       "2       1        0.803135\n",
       "3       1        0.918991\n",
       "4       1        0.776272"
      ]
     },
     "execution_count": 68,
     "metadata": {},
     "output_type": "execute_result"
    }
   ],
   "source": [
    "df_test_25_batch_results_s3=pd.read_csv(test_25_batch_output_file_name, header=None, names=[\"ACTUAL\", \"PROBABILITY_25\"])\n",
    "\n",
    "df_test_25_batch_results_s3.head()"
   ]
  },
  {
   "cell_type": "code",
   "execution_count": 70,
   "metadata": {},
   "outputs": [
    {
     "data": {
      "text/html": [
       "<div>\n",
       "<style scoped>\n",
       "    .dataframe tbody tr th:only-of-type {\n",
       "        vertical-align: middle;\n",
       "    }\n",
       "\n",
       "    .dataframe tbody tr th {\n",
       "        vertical-align: top;\n",
       "    }\n",
       "\n",
       "    .dataframe thead th {\n",
       "        text-align: right;\n",
       "    }\n",
       "</style>\n",
       "<table border=\"1\" class=\"dataframe\">\n",
       "  <thead>\n",
       "    <tr style=\"text-align: right;\">\n",
       "      <th></th>\n",
       "      <th>ACTUAL</th>\n",
       "      <th>PROBABILITY_50</th>\n",
       "    </tr>\n",
       "  </thead>\n",
       "  <tbody>\n",
       "    <tr>\n",
       "      <th>0</th>\n",
       "      <td>0</td>\n",
       "      <td>0.089866</td>\n",
       "    </tr>\n",
       "    <tr>\n",
       "      <th>1</th>\n",
       "      <td>0</td>\n",
       "      <td>0.042694</td>\n",
       "    </tr>\n",
       "    <tr>\n",
       "      <th>2</th>\n",
       "      <td>1</td>\n",
       "      <td>0.728799</td>\n",
       "    </tr>\n",
       "    <tr>\n",
       "      <th>3</th>\n",
       "      <td>1</td>\n",
       "      <td>0.903947</td>\n",
       "    </tr>\n",
       "    <tr>\n",
       "      <th>4</th>\n",
       "      <td>1</td>\n",
       "      <td>0.799724</td>\n",
       "    </tr>\n",
       "  </tbody>\n",
       "</table>\n",
       "</div>"
      ],
      "text/plain": [
       "   ACTUAL  PROBABILITY_50\n",
       "0       0        0.089866\n",
       "1       0        0.042694\n",
       "2       1        0.728799\n",
       "3       1        0.903947\n",
       "4       1        0.799724"
      ]
     },
     "execution_count": 70,
     "metadata": {},
     "output_type": "execute_result"
    }
   ],
   "source": [
    "df_test_50_batch_results_s3=pd.read_csv(test_50_batch_output_file_name, header=None, names=[\"ACTUAL\", \"PROBABILITY_50\"])\n",
    "\n",
    "df_test_50_batch_results_s3.head()"
   ]
  },
  {
   "cell_type": "code",
   "execution_count": 71,
   "metadata": {},
   "outputs": [
    {
     "data": {
      "text/plain": [
       "(616006, 2)"
      ]
     },
     "execution_count": 71,
     "metadata": {},
     "output_type": "execute_result"
    }
   ],
   "source": [
    "df_test_50_batch_results_s3.shape"
   ]
  },
  {
   "cell_type": "code",
   "execution_count": 72,
   "metadata": {},
   "outputs": [
    {
     "data": {
      "text/html": [
       "<div>\n",
       "<style scoped>\n",
       "    .dataframe tbody tr th:only-of-type {\n",
       "        vertical-align: middle;\n",
       "    }\n",
       "\n",
       "    .dataframe tbody tr th {\n",
       "        vertical-align: top;\n",
       "    }\n",
       "\n",
       "    .dataframe thead th {\n",
       "        text-align: right;\n",
       "    }\n",
       "</style>\n",
       "<table border=\"1\" class=\"dataframe\">\n",
       "  <thead>\n",
       "    <tr style=\"text-align: right;\">\n",
       "      <th></th>\n",
       "      <th>ACTUAL</th>\n",
       "      <th>PROBABILITY_75</th>\n",
       "    </tr>\n",
       "  </thead>\n",
       "  <tbody>\n",
       "    <tr>\n",
       "      <th>0</th>\n",
       "      <td>0</td>\n",
       "      <td>0.092495</td>\n",
       "    </tr>\n",
       "    <tr>\n",
       "      <th>1</th>\n",
       "      <td>0</td>\n",
       "      <td>0.038197</td>\n",
       "    </tr>\n",
       "    <tr>\n",
       "      <th>2</th>\n",
       "      <td>1</td>\n",
       "      <td>0.786436</td>\n",
       "    </tr>\n",
       "    <tr>\n",
       "      <th>3</th>\n",
       "      <td>1</td>\n",
       "      <td>0.896250</td>\n",
       "    </tr>\n",
       "    <tr>\n",
       "      <th>4</th>\n",
       "      <td>1</td>\n",
       "      <td>0.776982</td>\n",
       "    </tr>\n",
       "  </tbody>\n",
       "</table>\n",
       "</div>"
      ],
      "text/plain": [
       "   ACTUAL  PROBABILITY_75\n",
       "0       0        0.092495\n",
       "1       0        0.038197\n",
       "2       1        0.786436\n",
       "3       1        0.896250\n",
       "4       1        0.776982"
      ]
     },
     "execution_count": 72,
     "metadata": {},
     "output_type": "execute_result"
    }
   ],
   "source": [
    "df_test_75_batch_results_s3=pd.read_csv(test_75_batch_output_file_name, header=None, names=[\"ACTUAL\", \"PROBABILITY_75\"])\n",
    "\n",
    "df_test_75_batch_results_s3.head()"
   ]
  },
  {
   "cell_type": "code",
   "execution_count": 75,
   "metadata": {},
   "outputs": [
    {
     "data": {
      "text/html": [
       "<div>\n",
       "<style scoped>\n",
       "    .dataframe tbody tr th:only-of-type {\n",
       "        vertical-align: middle;\n",
       "    }\n",
       "\n",
       "    .dataframe tbody tr th {\n",
       "        vertical-align: top;\n",
       "    }\n",
       "\n",
       "    .dataframe thead th {\n",
       "        text-align: right;\n",
       "    }\n",
       "</style>\n",
       "<table border=\"1\" class=\"dataframe\">\n",
       "  <thead>\n",
       "    <tr style=\"text-align: right;\">\n",
       "      <th></th>\n",
       "      <th>ACTUAL</th>\n",
       "      <th>PROBABILITY_99</th>\n",
       "    </tr>\n",
       "  </thead>\n",
       "  <tbody>\n",
       "    <tr>\n",
       "      <th>0</th>\n",
       "      <td>1</td>\n",
       "      <td>0.829689</td>\n",
       "    </tr>\n",
       "    <tr>\n",
       "      <th>1</th>\n",
       "      <td>1</td>\n",
       "      <td>0.871813</td>\n",
       "    </tr>\n",
       "    <tr>\n",
       "      <th>2</th>\n",
       "      <td>1</td>\n",
       "      <td>0.817325</td>\n",
       "    </tr>\n",
       "    <tr>\n",
       "      <th>3</th>\n",
       "      <td>1</td>\n",
       "      <td>0.893623</td>\n",
       "    </tr>\n",
       "    <tr>\n",
       "      <th>4</th>\n",
       "      <td>1</td>\n",
       "      <td>0.640096</td>\n",
       "    </tr>\n",
       "  </tbody>\n",
       "</table>\n",
       "</div>"
      ],
      "text/plain": [
       "   ACTUAL  PROBABILITY_99\n",
       "0       1        0.829689\n",
       "1       1        0.871813\n",
       "2       1        0.817325\n",
       "3       1        0.893623\n",
       "4       1        0.640096"
      ]
     },
     "execution_count": 75,
     "metadata": {},
     "output_type": "execute_result"
    }
   ],
   "source": [
    "df_test_99_batch_results_s3=pd.read_csv(test_99_batch_output_file_name, header=None, names=[\"ACTUAL\", \"PROBABILITY_99\"])\n",
    "\n",
    "df_test_99_batch_results_s3.head()"
   ]
  },
  {
   "cell_type": "code",
   "execution_count": 240,
   "metadata": {},
   "outputs": [],
   "source": [
    "df_test_batch_results_s3=df_test_25_batch_results_s3.copy()"
   ]
  },
  {
   "cell_type": "code",
   "execution_count": 241,
   "metadata": {},
   "outputs": [],
   "source": [
    "df_test_batch_results_s3[[\"FT_SEGMENT\"]]=df_test_side_info_s3[[\"FT_SEGMENT\"]]"
   ]
  },
  {
   "cell_type": "code",
   "execution_count": 242,
   "metadata": {},
   "outputs": [
    {
     "data": {
      "text/html": [
       "<div>\n",
       "<style scoped>\n",
       "    .dataframe tbody tr th:only-of-type {\n",
       "        vertical-align: middle;\n",
       "    }\n",
       "\n",
       "    .dataframe tbody tr th {\n",
       "        vertical-align: top;\n",
       "    }\n",
       "\n",
       "    .dataframe thead th {\n",
       "        text-align: right;\n",
       "    }\n",
       "</style>\n",
       "<table border=\"1\" class=\"dataframe\">\n",
       "  <thead>\n",
       "    <tr style=\"text-align: right;\">\n",
       "      <th></th>\n",
       "      <th>ACTUAL</th>\n",
       "      <th>PROBABILITY_25</th>\n",
       "      <th>FT_SEGMENT</th>\n",
       "    </tr>\n",
       "  </thead>\n",
       "  <tbody>\n",
       "    <tr>\n",
       "      <th>0</th>\n",
       "      <td>1</td>\n",
       "      <td>0.892717</td>\n",
       "      <td>04: Hooked &amp; Ongoing</td>\n",
       "    </tr>\n",
       "    <tr>\n",
       "      <th>1</th>\n",
       "      <td>1</td>\n",
       "      <td>0.862303</td>\n",
       "      <td>01: Friends &amp; BBT Fan</td>\n",
       "    </tr>\n",
       "    <tr>\n",
       "      <th>2</th>\n",
       "      <td>1</td>\n",
       "      <td>0.728982</td>\n",
       "      <td>12: Never Stream</td>\n",
       "    </tr>\n",
       "    <tr>\n",
       "      <th>3</th>\n",
       "      <td>1</td>\n",
       "      <td>0.925202</td>\n",
       "      <td>05: Hooked On Library</td>\n",
       "    </tr>\n",
       "    <tr>\n",
       "      <th>4</th>\n",
       "      <td>1</td>\n",
       "      <td>0.617099</td>\n",
       "      <td>09: Mobile First</td>\n",
       "    </tr>\n",
       "  </tbody>\n",
       "</table>\n",
       "</div>"
      ],
      "text/plain": [
       "   ACTUAL  PROBABILITY_25             FT_SEGMENT\n",
       "0       1        0.892717   04: Hooked & Ongoing\n",
       "1       1        0.862303  01: Friends & BBT Fan\n",
       "2       1        0.728982       12: Never Stream\n",
       "3       1        0.925202  05: Hooked On Library\n",
       "4       1        0.617099       09: Mobile First"
      ]
     },
     "execution_count": 242,
     "metadata": {},
     "output_type": "execute_result"
    }
   ],
   "source": [
    "df_test_batch_results_s3.head()"
   ]
  },
  {
   "cell_type": "code",
   "execution_count": 243,
   "metadata": {},
   "outputs": [],
   "source": [
    "df_test_batch_results_s3[[\"PROBABILITY_01\"]]=df_test_01_batch_results_s3[[\"PROBABILITY_01\"]]\n",
    "df_test_batch_results_s3[[\"PROBABILITY_10\"]]=df_test_10_batch_results_s3[[\"PROBABILITY_10\"]]\n",
    "df_test_batch_results_s3[[\"PROBABILITY_99\"]]=df_test_99_batch_results_s3[[\"PROBABILITY_99\"]]\n",
    "\n",
    "df_test_batch_results_s3[[\"PROBABILITY_50\"]]=df_test_50_batch_results_s3[[\"PROBABILITY_50\"]]\n",
    "df_test_batch_results_s3[[\"PROBABILITY_75\"]]=df_test_75_batch_results_s3[[\"PROBABILITY_75\"]]\n",
    "\n",
    "assert df_test_batch_results_s3.ACTUAL.isnull().sum()==0\n",
    "assert df_test_batch_results_s3.PROBABILITY_01.isnull().sum()==0\n",
    "assert df_test_batch_results_s3.PROBABILITY_10.isnull().sum()==0\n",
    "assert df_test_batch_results_s3.PROBABILITY_99.isnull().sum()==0\n",
    "assert df_test_batch_results_s3.PROBABILITY_25.isnull().sum()==0\n",
    "assert df_test_batch_results_s3.PROBABILITY_50.isnull().sum()==0\n",
    "assert df_test_batch_results_s3.PROBABILITY_75.isnull().sum()==0"
   ]
  },
  {
   "cell_type": "markdown",
   "metadata": {},
   "source": [
    "# 7. Model Evaluation"
   ]
  },
  {
   "cell_type": "markdown",
   "metadata": {},
   "source": [
    "## Find the optimal threshold using AUC curve"
   ]
  },
  {
   "cell_type": "code",
   "execution_count": 246,
   "metadata": {},
   "outputs": [],
   "source": [
    "THRESHOLD=0.5\n"
   ]
  },
  {
   "cell_type": "code",
   "execution_count": 247,
   "metadata": {},
   "outputs": [],
   "source": [
    "test_01_pred=np.where(df_test_batch_results_s3[[\"PROBABILITY_01\"]] > THRESHOLD, 1, 0)\n",
    "\n",
    "df_test_batch_results_s3[\"PREDICTED_01\"]=test_01_pred\n",
    "\n",
    "assert df_test_batch_results_s3.PREDICTED_01.isnull().sum()==0"
   ]
  },
  {
   "cell_type": "code",
   "execution_count": 248,
   "metadata": {},
   "outputs": [],
   "source": [
    "test_10_pred=np.where(df_test_batch_results_s3[[\"PROBABILITY_10\"]] > THRESHOLD, 1, 0)\n",
    "\n",
    "df_test_batch_results_s3[\"PREDICTED_10\"]=test_10_pred\n",
    "\n",
    "assert df_test_batch_results_s3.PREDICTED_10.isnull().sum()==0"
   ]
  },
  {
   "cell_type": "code",
   "execution_count": 249,
   "metadata": {},
   "outputs": [],
   "source": [
    "test_99_pred=np.where(df_test_batch_results_s3[[\"PROBABILITY_99\"]] > THRESHOLD, 1, 0)\n",
    "\n",
    "df_test_batch_results_s3[\"PREDICTED_99\"]=test_99_pred\n",
    "\n",
    "assert df_test_batch_results_s3.PREDICTED_99.isnull().sum()==0"
   ]
  },
  {
   "cell_type": "code",
   "execution_count": 250,
   "metadata": {},
   "outputs": [],
   "source": [
    "test_25_pred=np.where(df_test_batch_results_s3[[\"PROBABILITY_25\"]] > THRESHOLD, 1, 0)\n",
    "\n",
    "df_test_batch_results_s3[\"PREDICTED_25\"]=test_25_pred\n",
    "\n",
    "assert df_test_batch_results_s3.PREDICTED_25.isnull().sum()==0"
   ]
  },
  {
   "cell_type": "code",
   "execution_count": 251,
   "metadata": {},
   "outputs": [],
   "source": [
    "test_50_pred=np.where(df_test_batch_results_s3[[\"PROBABILITY_50\"]] > THRESHOLD, 1, 0)\n",
    "\n",
    "df_test_batch_results_s3[\"PREDICTED_50\"]=test_50_pred\n",
    "\n",
    "assert df_test_batch_results_s3.PREDICTED_50.isnull().sum()==0"
   ]
  },
  {
   "cell_type": "code",
   "execution_count": 252,
   "metadata": {},
   "outputs": [],
   "source": [
    "test_75_pred=np.where(df_test_batch_results_s3[[\"PROBABILITY_75\"]] > THRESHOLD, 1, 0)\n",
    "\n",
    "df_test_batch_results_s3[\"PREDICTED_75\"]=test_75_pred\n",
    "\n",
    "assert df_test_batch_results_s3.PREDICTED_75.isnull().sum()==0"
   ]
  },
  {
   "cell_type": "code",
   "execution_count": 253,
   "metadata": {
    "scrolled": true
   },
   "outputs": [
    {
     "data": {
      "text/html": [
       "<div>\n",
       "<style scoped>\n",
       "    .dataframe tbody tr th:only-of-type {\n",
       "        vertical-align: middle;\n",
       "    }\n",
       "\n",
       "    .dataframe tbody tr th {\n",
       "        vertical-align: top;\n",
       "    }\n",
       "\n",
       "    .dataframe thead th {\n",
       "        text-align: right;\n",
       "    }\n",
       "</style>\n",
       "<table border=\"1\" class=\"dataframe\">\n",
       "  <thead>\n",
       "    <tr style=\"text-align: right;\">\n",
       "      <th></th>\n",
       "      <th>ACTUAL</th>\n",
       "      <th>PROBABILITY_25</th>\n",
       "      <th>FT_SEGMENT</th>\n",
       "      <th>PROBABILITY_01</th>\n",
       "      <th>PROBABILITY_10</th>\n",
       "      <th>PROBABILITY_99</th>\n",
       "      <th>PROBABILITY_50</th>\n",
       "      <th>PROBABILITY_75</th>\n",
       "      <th>PREDICTED_01</th>\n",
       "      <th>PREDICTED_10</th>\n",
       "      <th>PREDICTED_99</th>\n",
       "      <th>PREDICTED_25</th>\n",
       "      <th>PREDICTED_50</th>\n",
       "      <th>PREDICTED_75</th>\n",
       "    </tr>\n",
       "  </thead>\n",
       "  <tbody>\n",
       "    <tr>\n",
       "      <th>0</th>\n",
       "      <td>1</td>\n",
       "      <td>0.892717</td>\n",
       "      <td>04: Hooked &amp; Ongoing</td>\n",
       "      <td>0.906986</td>\n",
       "      <td>0.890552</td>\n",
       "      <td>0.829689</td>\n",
       "      <td>0.917956</td>\n",
       "      <td>0.895725</td>\n",
       "      <td>1</td>\n",
       "      <td>1</td>\n",
       "      <td>1</td>\n",
       "      <td>1</td>\n",
       "      <td>1</td>\n",
       "      <td>1</td>\n",
       "    </tr>\n",
       "    <tr>\n",
       "      <th>1</th>\n",
       "      <td>1</td>\n",
       "      <td>0.862303</td>\n",
       "      <td>01: Friends &amp; BBT Fan</td>\n",
       "      <td>0.746571</td>\n",
       "      <td>0.817726</td>\n",
       "      <td>0.871813</td>\n",
       "      <td>0.806593</td>\n",
       "      <td>0.859296</td>\n",
       "      <td>1</td>\n",
       "      <td>1</td>\n",
       "      <td>1</td>\n",
       "      <td>1</td>\n",
       "      <td>1</td>\n",
       "      <td>1</td>\n",
       "    </tr>\n",
       "    <tr>\n",
       "      <th>2</th>\n",
       "      <td>1</td>\n",
       "      <td>0.728982</td>\n",
       "      <td>12: Never Stream</td>\n",
       "      <td>0.764113</td>\n",
       "      <td>0.703000</td>\n",
       "      <td>0.817325</td>\n",
       "      <td>0.789017</td>\n",
       "      <td>0.808102</td>\n",
       "      <td>1</td>\n",
       "      <td>1</td>\n",
       "      <td>1</td>\n",
       "      <td>1</td>\n",
       "      <td>1</td>\n",
       "      <td>1</td>\n",
       "    </tr>\n",
       "    <tr>\n",
       "      <th>3</th>\n",
       "      <td>1</td>\n",
       "      <td>0.925202</td>\n",
       "      <td>05: Hooked On Library</td>\n",
       "      <td>0.926163</td>\n",
       "      <td>0.921882</td>\n",
       "      <td>0.893623</td>\n",
       "      <td>0.930162</td>\n",
       "      <td>0.936535</td>\n",
       "      <td>1</td>\n",
       "      <td>1</td>\n",
       "      <td>1</td>\n",
       "      <td>1</td>\n",
       "      <td>1</td>\n",
       "      <td>1</td>\n",
       "    </tr>\n",
       "    <tr>\n",
       "      <th>4</th>\n",
       "      <td>1</td>\n",
       "      <td>0.617099</td>\n",
       "      <td>09: Mobile First</td>\n",
       "      <td>0.638732</td>\n",
       "      <td>0.590999</td>\n",
       "      <td>0.640096</td>\n",
       "      <td>0.549491</td>\n",
       "      <td>0.524490</td>\n",
       "      <td>1</td>\n",
       "      <td>1</td>\n",
       "      <td>1</td>\n",
       "      <td>1</td>\n",
       "      <td>1</td>\n",
       "      <td>1</td>\n",
       "    </tr>\n",
       "  </tbody>\n",
       "</table>\n",
       "</div>"
      ],
      "text/plain": [
       "   ACTUAL  PROBABILITY_25             FT_SEGMENT  PROBABILITY_01  \\\n",
       "0       1        0.892717   04: Hooked & Ongoing        0.906986   \n",
       "1       1        0.862303  01: Friends & BBT Fan        0.746571   \n",
       "2       1        0.728982       12: Never Stream        0.764113   \n",
       "3       1        0.925202  05: Hooked On Library        0.926163   \n",
       "4       1        0.617099       09: Mobile First        0.638732   \n",
       "\n",
       "   PROBABILITY_10  PROBABILITY_99  PROBABILITY_50  PROBABILITY_75  \\\n",
       "0        0.890552        0.829689        0.917956        0.895725   \n",
       "1        0.817726        0.871813        0.806593        0.859296   \n",
       "2        0.703000        0.817325        0.789017        0.808102   \n",
       "3        0.921882        0.893623        0.930162        0.936535   \n",
       "4        0.590999        0.640096        0.549491        0.524490   \n",
       "\n",
       "   PREDICTED_01  PREDICTED_10  PREDICTED_99  PREDICTED_25  PREDICTED_50  \\\n",
       "0             1             1             1             1             1   \n",
       "1             1             1             1             1             1   \n",
       "2             1             1             1             1             1   \n",
       "3             1             1             1             1             1   \n",
       "4             1             1             1             1             1   \n",
       "\n",
       "   PREDICTED_75  \n",
       "0             1  \n",
       "1             1  \n",
       "2             1  \n",
       "3             1  \n",
       "4             1  "
      ]
     },
     "execution_count": 253,
     "metadata": {},
     "output_type": "execute_result"
    }
   ],
   "source": [
    "df_test_batch_results_s3.head()"
   ]
  },
  {
   "cell_type": "code",
   "execution_count": 2,
   "metadata": {},
   "outputs": [],
   "source": [
    "def plot_confusion_matrix(mtx):\n",
    "    sn.set(font_scale=1.4) \n",
    "    sn.heatmap(pd.DataFrame(mtx), annot=True, annot_kws={\"size\": 12}, fmt='g') \n",
    "    plt.show() "
   ]
  },
  {
   "cell_type": "markdown",
   "metadata": {},
   "source": [
    "## 7.1 AUC"
   ]
  },
  {
   "cell_type": "code",
   "execution_count": 227,
   "metadata": {},
   "outputs": [],
   "source": [
    "val_01_batch_auc=roc_auc_score(df_val_01_batch_results_s3[\"ACTUAL\"],df_val_01_batch_results_s3[\"PROBABILITY_01\"]) \n",
    "test_01_batch_auc=roc_auc_score(df_test_01_batch_results_s3[\"ACTUAL\"],df_test_01_batch_results_s3[\"PROBABILITY_01\"])"
   ]
  },
  {
   "cell_type": "code",
   "execution_count": 228,
   "metadata": {},
   "outputs": [],
   "source": [
    "test_10_batch_auc=roc_auc_score(df_test_10_batch_results_s3[\"ACTUAL\"],df_test_10_batch_results_s3[\"PROBABILITY_10\"])"
   ]
  },
  {
   "cell_type": "code",
   "execution_count": 229,
   "metadata": {},
   "outputs": [],
   "source": [
    "val_25_batch_auc=roc_auc_score(df_val_25_batch_results_s3[\"ACTUAL\"],df_val_25_batch_results_s3[\"PROBABILITY_25\"]) \n",
    "test_25_batch_auc=roc_auc_score(df_test_25_batch_results_s3[\"ACTUAL\"],df_test_25_batch_results_s3[\"PROBABILITY_25\"])"
   ]
  },
  {
   "cell_type": "code",
   "execution_count": 132,
   "metadata": {},
   "outputs": [],
   "source": [
    "test_50_batch_auc=roc_auc_score(df_test_50_batch_results_s3[\"ACTUAL\"],df_test_50_batch_results_s3[\"PROBABILITY_50\"])"
   ]
  },
  {
   "cell_type": "code",
   "execution_count": 133,
   "metadata": {},
   "outputs": [],
   "source": [
    "test_75_batch_auc=roc_auc_score(df_test_75_batch_results_s3[\"ACTUAL\"],df_test_75_batch_results_s3[\"PROBABILITY_75\"])"
   ]
  },
  {
   "cell_type": "code",
   "execution_count": 236,
   "metadata": {},
   "outputs": [],
   "source": [
    "test_99_batch_auc=roc_auc_score(df_test_99_batch_results_s3[\"ACTUAL\"],df_test_99_batch_results_s3[\"PROBABILITY_99\"])"
   ]
  },
  {
   "cell_type": "code",
   "execution_count": 231,
   "metadata": {},
   "outputs": [
    {
     "data": {
      "text/plain": [
       "0.908855001190498"
      ]
     },
     "execution_count": 231,
     "metadata": {},
     "output_type": "execute_result"
    }
   ],
   "source": [
    "test_01_batch_auc"
   ]
  },
  {
   "cell_type": "code",
   "execution_count": 232,
   "metadata": {},
   "outputs": [
    {
     "data": {
      "text/plain": [
       "0.9099662875329954"
      ]
     },
     "execution_count": 232,
     "metadata": {},
     "output_type": "execute_result"
    }
   ],
   "source": [
    "test_10_batch_auc"
   ]
  },
  {
   "cell_type": "code",
   "execution_count": 135,
   "metadata": {},
   "outputs": [
    {
     "data": {
      "text/plain": [
       "0.910506254744957"
      ]
     },
     "execution_count": 135,
     "metadata": {},
     "output_type": "execute_result"
    }
   ],
   "source": [
    "test_25_batch_auc"
   ]
  },
  {
   "cell_type": "code",
   "execution_count": 233,
   "metadata": {},
   "outputs": [
    {
     "data": {
      "text/plain": [
       "0.9098799900066254"
      ]
     },
     "execution_count": 233,
     "metadata": {},
     "output_type": "execute_result"
    }
   ],
   "source": [
    "test_50_batch_auc"
   ]
  },
  {
   "cell_type": "code",
   "execution_count": 234,
   "metadata": {},
   "outputs": [
    {
     "data": {
      "text/plain": [
       "0.9086022323527512"
      ]
     },
     "execution_count": 234,
     "metadata": {},
     "output_type": "execute_result"
    }
   ],
   "source": [
    "test_75_batch_auc"
   ]
  },
  {
   "cell_type": "code",
   "execution_count": 237,
   "metadata": {},
   "outputs": [
    {
     "data": {
      "text/plain": [
       "0.8978237646640321"
      ]
     },
     "execution_count": 237,
     "metadata": {},
     "output_type": "execute_result"
    }
   ],
   "source": [
    "test_99_batch_auc"
   ]
  },
  {
   "cell_type": "code",
   "execution_count": null,
   "metadata": {},
   "outputs": [],
   "source": []
  },
  {
   "cell_type": "markdown",
   "metadata": {},
   "source": [
    "## 7.2 Classification Report"
   ]
  },
  {
   "cell_type": "code",
   "execution_count": 257,
   "metadata": {},
   "outputs": [
    {
     "name": "stdout",
     "output_type": "stream",
     "text": [
      "              precision    recall  f1-score   support\n",
      "\n",
      "           0       0.89      0.73      0.80    296077\n",
      "           1       0.82      0.93      0.87    388374\n",
      "\n",
      "    accuracy                           0.84    684451\n",
      "   macro avg       0.85      0.83      0.84    684451\n",
      "weighted avg       0.85      0.84      0.84    684451\n",
      "\n"
     ]
    }
   ],
   "source": [
    "test_01_classification_report=classification_report(df_test_batch_results_s3[\"ACTUAL\"]\n",
    "                                          , df_test_batch_results_s3[\"PREDICTED_01\"])\n",
    "\n",
    "print(test_01_classification_report)"
   ]
  },
  {
   "cell_type": "code",
   "execution_count": 258,
   "metadata": {},
   "outputs": [
    {
     "name": "stdout",
     "output_type": "stream",
     "text": [
      "              precision    recall  f1-score   support\n",
      "\n",
      "           0       0.89      0.73      0.80    296077\n",
      "           1       0.82      0.93      0.87    388374\n",
      "\n",
      "    accuracy                           0.84    684451\n",
      "   macro avg       0.85      0.83      0.84    684451\n",
      "weighted avg       0.85      0.84      0.84    684451\n",
      "\n"
     ]
    }
   ],
   "source": [
    "test_10_classification_report=classification_report(df_test_batch_results_s3[\"ACTUAL\"]\n",
    "                                          , df_test_batch_results_s3[\"PREDICTED_10\"])\n",
    "\n",
    "print(test_10_classification_report)"
   ]
  },
  {
   "cell_type": "code",
   "execution_count": 152,
   "metadata": {},
   "outputs": [
    {
     "name": "stdout",
     "output_type": "stream",
     "text": [
      "              precision    recall  f1-score   support\n",
      "\n",
      "           0       0.89      0.73      0.80    296077\n",
      "           1       0.82      0.93      0.87    388374\n",
      "\n",
      "    accuracy                           0.84    684451\n",
      "   macro avg       0.85      0.83      0.84    684451\n",
      "weighted avg       0.85      0.84      0.84    684451\n",
      "\n"
     ]
    }
   ],
   "source": [
    "test_25_classification_report=classification_report(df_test_batch_results_s3[\"ACTUAL\"]\n",
    "                                          , df_test_batch_results_s3[\"PREDICTED_25\"])\n",
    "\n",
    "print(test_25_classification_report)"
   ]
  },
  {
   "cell_type": "code",
   "execution_count": 153,
   "metadata": {},
   "outputs": [
    {
     "name": "stdout",
     "output_type": "stream",
     "text": [
      "              precision    recall  f1-score   support\n",
      "\n",
      "           0       0.89      0.73      0.80    296077\n",
      "           1       0.82      0.93      0.87    388374\n",
      "\n",
      "    accuracy                           0.84    684451\n",
      "   macro avg       0.85      0.83      0.84    684451\n",
      "weighted avg       0.85      0.84      0.84    684451\n",
      "\n"
     ]
    }
   ],
   "source": [
    "test_50_classification_report=classification_report(df_test_batch_results_s3[\"ACTUAL\"]\n",
    "                                          , df_test_batch_results_s3[\"PREDICTED_50\"])\n",
    "\n",
    "print(test_50_classification_report)"
   ]
  },
  {
   "cell_type": "code",
   "execution_count": 154,
   "metadata": {},
   "outputs": [
    {
     "name": "stdout",
     "output_type": "stream",
     "text": [
      "              precision    recall  f1-score   support\n",
      "\n",
      "           0       0.89      0.73      0.80    296077\n",
      "           1       0.82      0.93      0.87    388374\n",
      "\n",
      "    accuracy                           0.84    684451\n",
      "   macro avg       0.85      0.83      0.84    684451\n",
      "weighted avg       0.85      0.84      0.84    684451\n",
      "\n"
     ]
    }
   ],
   "source": [
    "test_75_classification_report=classification_report(df_test_batch_results_s3[\"ACTUAL\"]\n",
    "                                          , df_test_batch_results_s3[\"PREDICTED_75\"])\n",
    "\n",
    "print(test_75_classification_report)"
   ]
  },
  {
   "cell_type": "code",
   "execution_count": 259,
   "metadata": {},
   "outputs": [
    {
     "name": "stdout",
     "output_type": "stream",
     "text": [
      "              precision    recall  f1-score   support\n",
      "\n",
      "           0       0.88      0.73      0.80    296077\n",
      "           1       0.82      0.93      0.87    388374\n",
      "\n",
      "    accuracy                           0.84    684451\n",
      "   macro avg       0.85      0.83      0.83    684451\n",
      "weighted avg       0.85      0.84      0.84    684451\n",
      "\n"
     ]
    }
   ],
   "source": [
    "test_99_classification_report=classification_report(df_test_batch_results_s3[\"ACTUAL\"]\n",
    "                                          , df_test_batch_results_s3[\"PREDICTED_99\"])\n",
    "\n",
    "print(test_99_classification_report)"
   ]
  },
  {
   "cell_type": "markdown",
   "metadata": {},
   "source": [
    "## 7.3 Accuracy"
   ]
  },
  {
   "cell_type": "code",
   "execution_count": 260,
   "metadata": {},
   "outputs": [],
   "source": [
    "test_01_accuracy_score=accuracy_score(df_test_batch_results_s3[\"ACTUAL\"]\n",
    "                                          , df_test_batch_results_s3[\"PREDICTED_01\"])\n",
    "test_10_accuracy_score=accuracy_score(df_test_batch_results_s3[\"ACTUAL\"]\n",
    "                                          , df_test_batch_results_s3[\"PREDICTED_10\"])\n",
    "test_99_accuracy_score=accuracy_score(df_test_batch_results_s3[\"ACTUAL\"]\n",
    "                                          , df_test_batch_results_s3[\"PREDICTED_99\"])"
   ]
  },
  {
   "cell_type": "code",
   "execution_count": 155,
   "metadata": {},
   "outputs": [],
   "source": [
    "test_25_accuracy_score=accuracy_score(df_test_batch_results_s3[\"ACTUAL\"]\n",
    "                                          , df_test_batch_results_s3[\"PREDICTED_25\"])\n",
    "test_50_accuracy_score=accuracy_score(df_test_batch_results_s3[\"ACTUAL\"]\n",
    "                                          , df_test_batch_results_s3[\"PREDICTED_50\"])\n",
    "test_75_accuracy_score=accuracy_score(df_test_batch_results_s3[\"ACTUAL\"]\n",
    "                                          , df_test_batch_results_s3[\"PREDICTED_75\"])"
   ]
  },
  {
   "cell_type": "code",
   "execution_count": 261,
   "metadata": {},
   "outputs": [
    {
     "data": {
      "text/plain": [
       "0.8431575087186665"
      ]
     },
     "execution_count": 261,
     "metadata": {},
     "output_type": "execute_result"
    }
   ],
   "source": [
    "test_01_accuracy_score"
   ]
  },
  {
   "cell_type": "code",
   "execution_count": 262,
   "metadata": {},
   "outputs": [
    {
     "data": {
      "text/plain": [
       "0.8441685379961458"
      ]
     },
     "execution_count": 262,
     "metadata": {},
     "output_type": "execute_result"
    }
   ],
   "source": [
    "test_10_accuracy_score"
   ]
  },
  {
   "cell_type": "code",
   "execution_count": 156,
   "metadata": {},
   "outputs": [
    {
     "data": {
      "text/plain": [
       "0.844310257417989"
      ]
     },
     "execution_count": 156,
     "metadata": {},
     "output_type": "execute_result"
    }
   ],
   "source": [
    "test_25_accuracy_score"
   ]
  },
  {
   "cell_type": "code",
   "execution_count": 157,
   "metadata": {},
   "outputs": [
    {
     "data": {
      "text/plain": [
       "0.8443540881670127"
      ]
     },
     "execution_count": 157,
     "metadata": {},
     "output_type": "execute_result"
    }
   ],
   "source": [
    "test_50_accuracy_score"
   ]
  },
  {
   "cell_type": "code",
   "execution_count": 158,
   "metadata": {},
   "outputs": [
    {
     "data": {
      "text/plain": [
       "0.8440487339488144"
      ]
     },
     "execution_count": 158,
     "metadata": {},
     "output_type": "execute_result"
    }
   ],
   "source": [
    "test_75_accuracy_score"
   ]
  },
  {
   "cell_type": "code",
   "execution_count": 263,
   "metadata": {},
   "outputs": [
    {
     "data": {
      "text/plain": [
       "0.840139031135903"
      ]
     },
     "execution_count": 263,
     "metadata": {},
     "output_type": "execute_result"
    }
   ],
   "source": [
    "test_99_accuracy_score"
   ]
  },
  {
   "cell_type": "markdown",
   "metadata": {},
   "source": [
    "## 7.4 Confusion Matrix"
   ]
  },
  {
   "cell_type": "code",
   "execution_count": 264,
   "metadata": {},
   "outputs": [],
   "source": [
    "test_01_confusion_matrix=confusion_matrix(df_test_batch_results_s3[\"ACTUAL\"]\n",
    "                                          , df_test_batch_results_s3[\"PREDICTED_01\"])"
   ]
  },
  {
   "cell_type": "code",
   "execution_count": 265,
   "metadata": {},
   "outputs": [],
   "source": [
    "test_10_confusion_matrix=confusion_matrix(df_test_batch_results_s3[\"ACTUAL\"]\n",
    "                                          , df_test_batch_results_s3[\"PREDICTED_10\"])"
   ]
  },
  {
   "cell_type": "code",
   "execution_count": 159,
   "metadata": {},
   "outputs": [],
   "source": [
    "test_25_confusion_matrix=confusion_matrix(df_test_batch_results_s3[\"ACTUAL\"]\n",
    "                                          , df_test_batch_results_s3[\"PREDICTED_25\"])"
   ]
  },
  {
   "cell_type": "code",
   "execution_count": 266,
   "metadata": {},
   "outputs": [],
   "source": [
    "test_50_confusion_matrix=confusion_matrix(df_test_batch_results_s3[\"ACTUAL\"]\n",
    "                                          , df_test_batch_results_s3[\"PREDICTED_50\"])"
   ]
  },
  {
   "cell_type": "code",
   "execution_count": 267,
   "metadata": {},
   "outputs": [],
   "source": [
    "test_75_confusion_matrix=confusion_matrix(df_test_batch_results_s3[\"ACTUAL\"]\n",
    "                                          , df_test_batch_results_s3[\"PREDICTED_75\"])"
   ]
  },
  {
   "cell_type": "code",
   "execution_count": 268,
   "metadata": {},
   "outputs": [],
   "source": [
    "test_99_confusion_matrix=confusion_matrix(df_test_batch_results_s3[\"ACTUAL\"]\n",
    "                                          , df_test_batch_results_s3[\"PREDICTED_99\"])"
   ]
  },
  {
   "cell_type": "markdown",
   "metadata": {},
   "source": [
    "# 8.1 Segment Summary"
   ]
  },
  {
   "cell_type": "markdown",
   "metadata": {},
   "source": [
    "## 8.1.1 Segment Accuracy"
   ]
  },
  {
   "cell_type": "code",
   "execution_count": 269,
   "metadata": {},
   "outputs": [],
   "source": [
    "df_test_batch_results_s3=df_test_batch_results_s3[df_test_batch_results_s3.FT_SEGMENT!=\"missing\"]\n",
    "\n",
    "df_segment=df_test_batch_results_s3.groupby(SEGMENT_COL).agg({SEGMENT_COL:[\"count\"]}).reset_index().rename(columns={\"count\":f\"COUNT_{SEGMENT_COL}\"})\n",
    "df_segment.columns=df_segment.columns.values[1]\n",
    "\n",
    "df_segment.sort_values(SEGMENT_COL, inplace=True)"
   ]
  },
  {
   "cell_type": "code",
   "execution_count": 271,
   "metadata": {},
   "outputs": [],
   "source": [
    "#df_test_batch_results_s3[SEGMENT_COL]=df_test_batch_results_s3[SEGMENT_COL].apply(lambda x : x.split(\":\")[1])\n",
    "\n",
    "df_test_batch_results_s3_step_1=df_test_batch_results_s3.merge(df_segment, on=SEGMENT_COL, how=\"left\")"
   ]
  },
  {
   "cell_type": "code",
   "execution_count": 327,
   "metadata": {},
   "outputs": [],
   "source": [
    "df_test_batch_results_s3_model_01=df_test_batch_results_s3_step_1[[\"ACTUAL\", SEGMENT_COL, \"PREDICTED_01\", \"PROBABILITY_01\"]]\n",
    "df_test_batch_results_s3_model_10=df_test_batch_results_s3_step_1[[\"ACTUAL\", SEGMENT_COL, \"PREDICTED_10\", \"PROBABILITY_10\"]]\n",
    "df_test_batch_results_s3_model_99=df_test_batch_results_s3_step_1[[\"ACTUAL\", SEGMENT_COL, \"PREDICTED_99\", \"PROBABILITY_99\"]]"
   ]
  },
  {
   "cell_type": "code",
   "execution_count": 328,
   "metadata": {},
   "outputs": [
    {
     "data": {
      "text/html": [
       "<div>\n",
       "<style scoped>\n",
       "    .dataframe tbody tr th:only-of-type {\n",
       "        vertical-align: middle;\n",
       "    }\n",
       "\n",
       "    .dataframe tbody tr th {\n",
       "        vertical-align: top;\n",
       "    }\n",
       "\n",
       "    .dataframe thead th {\n",
       "        text-align: right;\n",
       "    }\n",
       "</style>\n",
       "<table border=\"1\" class=\"dataframe\">\n",
       "  <thead>\n",
       "    <tr style=\"text-align: right;\">\n",
       "      <th></th>\n",
       "      <th>FT_SEGMENT</th>\n",
       "      <th>COUNT_FT_SEGMENT</th>\n",
       "      <th>MODEL_01_ACC</th>\n",
       "      <th>MODEL_10_ACC</th>\n",
       "      <th>MODEL_25_ACC</th>\n",
       "      <th>MODEL_50_ACC</th>\n",
       "      <th>MODEL_75_ACC</th>\n",
       "      <th>MODEL_99_ACC</th>\n",
       "    </tr>\n",
       "  </thead>\n",
       "  <tbody>\n",
       "    <tr>\n",
       "      <th>0</th>\n",
       "      <td>01: Friends &amp; BBT Fan</td>\n",
       "      <td>42499</td>\n",
       "      <td>0.896868</td>\n",
       "      <td>0.896656</td>\n",
       "      <td>0.896374</td>\n",
       "      <td>0.895527</td>\n",
       "      <td>0.895198</td>\n",
       "      <td>0.892115</td>\n",
       "    </tr>\n",
       "    <tr>\n",
       "      <th>1</th>\n",
       "      <td>02: Talk Show &amp; News Fan</td>\n",
       "      <td>9790</td>\n",
       "      <td>0.891624</td>\n",
       "      <td>0.893973</td>\n",
       "      <td>0.891420</td>\n",
       "      <td>0.888560</td>\n",
       "      <td>0.885495</td>\n",
       "      <td>0.877017</td>\n",
       "    </tr>\n",
       "    <tr>\n",
       "      <th>2</th>\n",
       "      <td>03: Series Viewer</td>\n",
       "      <td>65403</td>\n",
       "      <td>0.878293</td>\n",
       "      <td>0.878538</td>\n",
       "      <td>0.878584</td>\n",
       "      <td>0.876733</td>\n",
       "      <td>0.874562</td>\n",
       "      <td>0.869440</td>\n",
       "    </tr>\n",
       "    <tr>\n",
       "      <th>3</th>\n",
       "      <td>04: Hooked &amp; Ongoing</td>\n",
       "      <td>16172</td>\n",
       "      <td>0.881771</td>\n",
       "      <td>0.881029</td>\n",
       "      <td>0.882142</td>\n",
       "      <td>0.880472</td>\n",
       "      <td>0.877690</td>\n",
       "      <td>0.874969</td>\n",
       "    </tr>\n",
       "    <tr>\n",
       "      <th>4</th>\n",
       "      <td>05: Hooked On Library</td>\n",
       "      <td>79133</td>\n",
       "      <td>0.875412</td>\n",
       "      <td>0.875867</td>\n",
       "      <td>0.876057</td>\n",
       "      <td>0.875400</td>\n",
       "      <td>0.873454</td>\n",
       "      <td>0.869789</td>\n",
       "    </tr>\n",
       "    <tr>\n",
       "      <th>5</th>\n",
       "      <td>06: Series Dabbler</td>\n",
       "      <td>38691</td>\n",
       "      <td>0.879223</td>\n",
       "      <td>0.879042</td>\n",
       "      <td>0.878189</td>\n",
       "      <td>0.877568</td>\n",
       "      <td>0.875863</td>\n",
       "      <td>0.870719</td>\n",
       "    </tr>\n",
       "    <tr>\n",
       "      <th>6</th>\n",
       "      <td>07: All Caught Up</td>\n",
       "      <td>33872</td>\n",
       "      <td>0.880255</td>\n",
       "      <td>0.881495</td>\n",
       "      <td>0.880196</td>\n",
       "      <td>0.879606</td>\n",
       "      <td>0.877480</td>\n",
       "      <td>0.873553</td>\n",
       "    </tr>\n",
       "    <tr>\n",
       "      <th>7</th>\n",
       "      <td>08: Series Abandoner</td>\n",
       "      <td>35706</td>\n",
       "      <td>0.841343</td>\n",
       "      <td>0.838290</td>\n",
       "      <td>0.837534</td>\n",
       "      <td>0.836694</td>\n",
       "      <td>0.831289</td>\n",
       "      <td>0.815185</td>\n",
       "    </tr>\n",
       "    <tr>\n",
       "      <th>8</th>\n",
       "      <td>09: Mobile First</td>\n",
       "      <td>66415</td>\n",
       "      <td>0.807980</td>\n",
       "      <td>0.806264</td>\n",
       "      <td>0.806489</td>\n",
       "      <td>0.802996</td>\n",
       "      <td>0.801596</td>\n",
       "      <td>0.781917</td>\n",
       "    </tr>\n",
       "    <tr>\n",
       "      <th>9</th>\n",
       "      <td>10: Movie Exclusive</td>\n",
       "      <td>97978</td>\n",
       "      <td>0.841515</td>\n",
       "      <td>0.841771</td>\n",
       "      <td>0.840066</td>\n",
       "      <td>0.839076</td>\n",
       "      <td>0.836320</td>\n",
       "      <td>0.825747</td>\n",
       "    </tr>\n",
       "    <tr>\n",
       "      <th>10</th>\n",
       "      <td>11: Special Interest</td>\n",
       "      <td>24939</td>\n",
       "      <td>0.795180</td>\n",
       "      <td>0.810538</td>\n",
       "      <td>0.813906</td>\n",
       "      <td>0.825614</td>\n",
       "      <td>0.838686</td>\n",
       "      <td>0.865351</td>\n",
       "    </tr>\n",
       "    <tr>\n",
       "      <th>11</th>\n",
       "      <td>12: Never Stream</td>\n",
       "      <td>173851</td>\n",
       "      <td>0.802170</td>\n",
       "      <td>0.804574</td>\n",
       "      <td>0.806127</td>\n",
       "      <td>0.808457</td>\n",
       "      <td>0.811586</td>\n",
       "      <td>0.816141</td>\n",
       "    </tr>\n",
       "    <tr>\n",
       "      <th>12</th>\n",
       "      <td>13: Overall</td>\n",
       "      <td>684449</td>\n",
       "      <td>0.843158</td>\n",
       "      <td>0.844169</td>\n",
       "      <td>0.844310</td>\n",
       "      <td>0.844354</td>\n",
       "      <td>0.844049</td>\n",
       "      <td>0.840139</td>\n",
       "    </tr>\n",
       "  </tbody>\n",
       "</table>\n",
       "</div>"
      ],
      "text/plain": [
       "                  FT_SEGMENT  COUNT_FT_SEGMENT  MODEL_01_ACC  MODEL_10_ACC  \\\n",
       "0      01: Friends & BBT Fan             42499      0.896868      0.896656   \n",
       "1   02: Talk Show & News Fan              9790      0.891624      0.893973   \n",
       "2          03: Series Viewer             65403      0.878293      0.878538   \n",
       "3       04: Hooked & Ongoing             16172      0.881771      0.881029   \n",
       "4      05: Hooked On Library             79133      0.875412      0.875867   \n",
       "5         06: Series Dabbler             38691      0.879223      0.879042   \n",
       "6          07: All Caught Up             33872      0.880255      0.881495   \n",
       "7       08: Series Abandoner             35706      0.841343      0.838290   \n",
       "8           09: Mobile First             66415      0.807980      0.806264   \n",
       "9        10: Movie Exclusive             97978      0.841515      0.841771   \n",
       "10      11: Special Interest             24939      0.795180      0.810538   \n",
       "11          12: Never Stream            173851      0.802170      0.804574   \n",
       "12               13: Overall            684449      0.843158      0.844169   \n",
       "\n",
       "    MODEL_25_ACC  MODEL_50_ACC  MODEL_75_ACC  MODEL_99_ACC  \n",
       "0       0.896374      0.895527      0.895198      0.892115  \n",
       "1       0.891420      0.888560      0.885495      0.877017  \n",
       "2       0.878584      0.876733      0.874562      0.869440  \n",
       "3       0.882142      0.880472      0.877690      0.874969  \n",
       "4       0.876057      0.875400      0.873454      0.869789  \n",
       "5       0.878189      0.877568      0.875863      0.870719  \n",
       "6       0.880196      0.879606      0.877480      0.873553  \n",
       "7       0.837534      0.836694      0.831289      0.815185  \n",
       "8       0.806489      0.802996      0.801596      0.781917  \n",
       "9       0.840066      0.839076      0.836320      0.825747  \n",
       "10      0.813906      0.825614      0.838686      0.865351  \n",
       "11      0.806127      0.808457      0.811586      0.816141  \n",
       "12      0.844310      0.844354      0.844049      0.840139  "
      ]
     },
     "execution_count": 328,
     "metadata": {},
     "output_type": "execute_result"
    }
   ],
   "source": [
    "df_test_batch_results_s3_model_25=df_test_batch_results_s3_step_1[[\"ACTUAL\", SEGMENT_COL, \"PREDICTED_25\", \"PROBABILITY_25\"]]\n",
    "df_test_batch_results_s3_model_50=df_test_batch_results_s3_step_1[[\"ACTUAL\", SEGMENT_COL, \"PREDICTED_50\", \"PROBABILITY_50\"]]\n",
    "df_test_batch_results_s3_model_75=df_test_batch_results_s3_step_1[[\"ACTUAL\", SEGMENT_COL, \"PREDICTED_75\", \"PROBABILITY_75\"]]\n",
    "\n",
    "col_names=[\"ACTUAL\", SEGMENT_COL, \"PREDICTED\", \"PROBABILITY\"]\n",
    "df_test_batch_results_s3_model_01.columns=col_names\n",
    "df_test_batch_results_s3_model_10.columns=col_names\n",
    "df_test_batch_results_s3_model_99.columns=col_names\n",
    "\n",
    "df_test_batch_results_s3_model_25.columns=col_names\n",
    "df_test_batch_results_s3_model_50.columns=col_names\n",
    "df_test_batch_results_s3_model_75.columns=col_names\n",
    "\n",
    "def report_aggregate_accuracy(data):\n",
    "    return data.groupby(SEGMENT_COL).apply(lambda group: accuracy_score(group.ACTUAL, group.PREDICTED)).reset_index().rename(columns={0:\"ACCURACY\"})\n",
    "\n",
    "df_acc_result_model_01=report_aggregate_accuracy(df_test_batch_results_s3_model_01)\n",
    "df_acc_result_model_10=report_aggregate_accuracy(df_test_batch_results_s3_model_10)\n",
    "df_acc_result_model_99=report_aggregate_accuracy(df_test_batch_results_s3_model_99)\n",
    "\n",
    "df_acc_result_model_01.columns=[SEGMENT_COL,\"MODEL_01_ACC\"]\n",
    "df_acc_result_model_10.columns=[SEGMENT_COL,\"MODEL_10_ACC\"]\n",
    "df_acc_result_model_99.columns=[SEGMENT_COL,\"MODEL_99_ACC\"]\n",
    "\n",
    "df_acc_result_model_25=report_aggregate_accuracy(df_test_batch_results_s3_model_25)\n",
    "df_acc_result_model_50=report_aggregate_accuracy(df_test_batch_results_s3_model_50)\n",
    "df_acc_result_model_75=report_aggregate_accuracy(df_test_batch_results_s3_model_75)\n",
    "\n",
    "df_acc_result_model_25.columns=[SEGMENT_COL,\"MODEL_25_ACC\"]\n",
    "df_acc_result_model_50.columns=[SEGMENT_COL,\"MODEL_50_ACC\"]\n",
    "df_acc_result_model_75.columns=[SEGMENT_COL,\"MODEL_75_ACC\"]\n",
    "\n",
    "df_test_acc_final=df_segment.merge(df_acc_result_model_01, on=SEGMENT_COL, how=\"left\").merge(df_acc_result_model_10, on=SEGMENT_COL, how=\"left\").merge(df_acc_result_model_25, on=SEGMENT_COL, how=\"left\").merge(df_acc_result_model_50, on=SEGMENT_COL, how=\"left\").merge(df_acc_result_model_75, on=SEGMENT_COL, how=\"left\").merge(df_acc_result_model_99, on=SEGMENT_COL, how=\"left\")\n",
    "\n",
    "\n",
    "df_test_acc_final.loc[len(df_test_acc_final)] = [\"13: Overall\"\n",
    "                                                  , df_test_batch_results_s3.shape[0]\n",
    "                                                  , test_01_accuracy_score\n",
    "                                                  , test_10_accuracy_score\n",
    "                                                  , test_25_accuracy_score\n",
    "                                                  , test_50_accuracy_score\n",
    "                                                  , test_75_accuracy_score\n",
    "                                                  , test_99_accuracy_score\n",
    "                                                ]\n",
    "df_test_acc_final"
   ]
  },
  {
   "cell_type": "code",
   "execution_count": null,
   "metadata": {},
   "outputs": [],
   "source": []
  },
  {
   "cell_type": "code",
   "execution_count": 275,
   "metadata": {},
   "outputs": [],
   "source": [
    "RESULT_FILE_NAME=f\"csv_weights_unbalanced_data_result_{TIME_STR}.csv\"\n"
   ]
  },
  {
   "cell_type": "code",
   "execution_count": null,
   "metadata": {},
   "outputs": [],
   "source": [
    "df_test_acc_final.to_csv(RESULT_FILE_NAME, index=False)"
   ]
  },
  {
   "cell_type": "markdown",
   "metadata": {},
   "source": [
    "## 8.1.2 Segment AUC"
   ]
  },
  {
   "cell_type": "code",
   "execution_count": 326,
   "metadata": {},
   "outputs": [],
   "source": [
    "def roc_auc_score_with_value_error_handler(y_true, y_pred):\n",
    "    try:\n",
    "        return roc_auc_score(y_true, y_pred)\n",
    "    except:\n",
    "        return np.nan\n",
    "\n",
    "def report_aggregate_roc_auc(data):\n",
    "    return data.groupby(SEGMENT_COL).apply(lambda group: roc_auc_score_with_value_error_handler(group.ACTUAL, group.PROBABILITY)).reset_index().rename(columns={0:\"AUC\"})"
   ]
  },
  {
   "cell_type": "code",
   "execution_count": 329,
   "metadata": {},
   "outputs": [
    {
     "data": {
      "text/html": [
       "<div>\n",
       "<style scoped>\n",
       "    .dataframe tbody tr th:only-of-type {\n",
       "        vertical-align: middle;\n",
       "    }\n",
       "\n",
       "    .dataframe tbody tr th {\n",
       "        vertical-align: top;\n",
       "    }\n",
       "\n",
       "    .dataframe thead th {\n",
       "        text-align: right;\n",
       "    }\n",
       "</style>\n",
       "<table border=\"1\" class=\"dataframe\">\n",
       "  <thead>\n",
       "    <tr style=\"text-align: right;\">\n",
       "      <th></th>\n",
       "      <th>FT_SEGMENT</th>\n",
       "      <th>COUNT_FT_SEGMENT</th>\n",
       "      <th>MODEL_01_AUC</th>\n",
       "      <th>MODEL_10_AUC</th>\n",
       "      <th>MODEL_25_AUC</th>\n",
       "      <th>MODEL_50_AUC</th>\n",
       "      <th>MODEL_75_AUC</th>\n",
       "      <th>MODEL_99_AUC</th>\n",
       "    </tr>\n",
       "  </thead>\n",
       "  <tbody>\n",
       "    <tr>\n",
       "      <th>0</th>\n",
       "      <td>01: Friends &amp; BBT Fan</td>\n",
       "      <td>42499</td>\n",
       "      <td>0.912866</td>\n",
       "      <td>0.911331</td>\n",
       "      <td>0.912266</td>\n",
       "      <td>0.909608</td>\n",
       "      <td>0.906954</td>\n",
       "      <td>0.889402</td>\n",
       "    </tr>\n",
       "    <tr>\n",
       "      <th>1</th>\n",
       "      <td>02: Talk Show &amp; News Fan</td>\n",
       "      <td>9790</td>\n",
       "      <td>0.936001</td>\n",
       "      <td>0.936079</td>\n",
       "      <td>0.935345</td>\n",
       "      <td>0.931045</td>\n",
       "      <td>0.923469</td>\n",
       "      <td>0.880753</td>\n",
       "    </tr>\n",
       "    <tr>\n",
       "      <th>2</th>\n",
       "      <td>03: Series Viewer</td>\n",
       "      <td>65403</td>\n",
       "      <td>0.902958</td>\n",
       "      <td>0.903697</td>\n",
       "      <td>0.905200</td>\n",
       "      <td>0.900372</td>\n",
       "      <td>0.893115</td>\n",
       "      <td>0.862412</td>\n",
       "    </tr>\n",
       "    <tr>\n",
       "      <th>3</th>\n",
       "      <td>04: Hooked &amp; Ongoing</td>\n",
       "      <td>16172</td>\n",
       "      <td>0.923039</td>\n",
       "      <td>0.924454</td>\n",
       "      <td>0.922715</td>\n",
       "      <td>0.920564</td>\n",
       "      <td>0.914354</td>\n",
       "      <td>0.888077</td>\n",
       "    </tr>\n",
       "    <tr>\n",
       "      <th>4</th>\n",
       "      <td>05: Hooked On Library</td>\n",
       "      <td>79133</td>\n",
       "      <td>0.902296</td>\n",
       "      <td>0.902238</td>\n",
       "      <td>0.903125</td>\n",
       "      <td>0.898632</td>\n",
       "      <td>0.895904</td>\n",
       "      <td>0.872248</td>\n",
       "    </tr>\n",
       "    <tr>\n",
       "      <th>5</th>\n",
       "      <td>06: Series Dabbler</td>\n",
       "      <td>38691</td>\n",
       "      <td>0.918775</td>\n",
       "      <td>0.920215</td>\n",
       "      <td>0.919491</td>\n",
       "      <td>0.916813</td>\n",
       "      <td>0.913274</td>\n",
       "      <td>0.889444</td>\n",
       "    </tr>\n",
       "    <tr>\n",
       "      <th>6</th>\n",
       "      <td>07: All Caught Up</td>\n",
       "      <td>33872</td>\n",
       "      <td>0.932265</td>\n",
       "      <td>0.933639</td>\n",
       "      <td>0.933189</td>\n",
       "      <td>0.930221</td>\n",
       "      <td>0.927044</td>\n",
       "      <td>0.909321</td>\n",
       "    </tr>\n",
       "    <tr>\n",
       "      <th>7</th>\n",
       "      <td>08: Series Abandoner</td>\n",
       "      <td>35706</td>\n",
       "      <td>0.913783</td>\n",
       "      <td>0.912385</td>\n",
       "      <td>0.911504</td>\n",
       "      <td>0.908337</td>\n",
       "      <td>0.902715</td>\n",
       "      <td>0.878446</td>\n",
       "    </tr>\n",
       "    <tr>\n",
       "      <th>8</th>\n",
       "      <td>09: Mobile First</td>\n",
       "      <td>66415</td>\n",
       "      <td>0.888009</td>\n",
       "      <td>0.887382</td>\n",
       "      <td>0.886484</td>\n",
       "      <td>0.884815</td>\n",
       "      <td>0.880468</td>\n",
       "      <td>0.852399</td>\n",
       "    </tr>\n",
       "    <tr>\n",
       "      <th>9</th>\n",
       "      <td>10: Movie Exclusive</td>\n",
       "      <td>97978</td>\n",
       "      <td>0.908977</td>\n",
       "      <td>0.909103</td>\n",
       "      <td>0.908193</td>\n",
       "      <td>0.906830</td>\n",
       "      <td>0.902652</td>\n",
       "      <td>0.886324</td>\n",
       "    </tr>\n",
       "    <tr>\n",
       "      <th>10</th>\n",
       "      <td>11: Special Interest</td>\n",
       "      <td>24939</td>\n",
       "      <td>0.879631</td>\n",
       "      <td>0.888455</td>\n",
       "      <td>0.891859</td>\n",
       "      <td>0.901512</td>\n",
       "      <td>0.914691</td>\n",
       "      <td>0.933099</td>\n",
       "    </tr>\n",
       "    <tr>\n",
       "      <th>11</th>\n",
       "      <td>12: Never Stream</td>\n",
       "      <td>173851</td>\n",
       "      <td>0.878546</td>\n",
       "      <td>0.882681</td>\n",
       "      <td>0.885207</td>\n",
       "      <td>0.889435</td>\n",
       "      <td>0.894024</td>\n",
       "      <td>0.900154</td>\n",
       "    </tr>\n",
       "    <tr>\n",
       "      <th>12</th>\n",
       "      <td>13: Overall</td>\n",
       "      <td>684449</td>\n",
       "      <td>0.908855</td>\n",
       "      <td>0.909966</td>\n",
       "      <td>0.910506</td>\n",
       "      <td>0.909880</td>\n",
       "      <td>0.908602</td>\n",
       "      <td>0.897824</td>\n",
       "    </tr>\n",
       "  </tbody>\n",
       "</table>\n",
       "</div>"
      ],
      "text/plain": [
       "                  FT_SEGMENT  COUNT_FT_SEGMENT  MODEL_01_AUC  MODEL_10_AUC  \\\n",
       "0      01: Friends & BBT Fan             42499      0.912866      0.911331   \n",
       "1   02: Talk Show & News Fan              9790      0.936001      0.936079   \n",
       "2          03: Series Viewer             65403      0.902958      0.903697   \n",
       "3       04: Hooked & Ongoing             16172      0.923039      0.924454   \n",
       "4      05: Hooked On Library             79133      0.902296      0.902238   \n",
       "5         06: Series Dabbler             38691      0.918775      0.920215   \n",
       "6          07: All Caught Up             33872      0.932265      0.933639   \n",
       "7       08: Series Abandoner             35706      0.913783      0.912385   \n",
       "8           09: Mobile First             66415      0.888009      0.887382   \n",
       "9        10: Movie Exclusive             97978      0.908977      0.909103   \n",
       "10      11: Special Interest             24939      0.879631      0.888455   \n",
       "11          12: Never Stream            173851      0.878546      0.882681   \n",
       "12               13: Overall            684449      0.908855      0.909966   \n",
       "\n",
       "    MODEL_25_AUC  MODEL_50_AUC  MODEL_75_AUC  MODEL_99_AUC  \n",
       "0       0.912266      0.909608      0.906954      0.889402  \n",
       "1       0.935345      0.931045      0.923469      0.880753  \n",
       "2       0.905200      0.900372      0.893115      0.862412  \n",
       "3       0.922715      0.920564      0.914354      0.888077  \n",
       "4       0.903125      0.898632      0.895904      0.872248  \n",
       "5       0.919491      0.916813      0.913274      0.889444  \n",
       "6       0.933189      0.930221      0.927044      0.909321  \n",
       "7       0.911504      0.908337      0.902715      0.878446  \n",
       "8       0.886484      0.884815      0.880468      0.852399  \n",
       "9       0.908193      0.906830      0.902652      0.886324  \n",
       "10      0.891859      0.901512      0.914691      0.933099  \n",
       "11      0.885207      0.889435      0.894024      0.900154  \n",
       "12      0.910506      0.909880      0.908602      0.897824  "
      ]
     },
     "execution_count": 329,
     "metadata": {},
     "output_type": "execute_result"
    }
   ],
   "source": [
    "df_auc_result_model_01=report_aggregate_roc_auc(df_test_batch_results_s3_model_01)\n",
    "df_auc_result_model_10=report_aggregate_roc_auc(df_test_batch_results_s3_model_10)\n",
    "df_auc_result_model_99=report_aggregate_roc_auc(df_test_batch_results_s3_model_99)\n",
    "\n",
    "df_auc_result_model_01.columns=[SEGMENT_COL,\"MODEL_01_AUC\"]\n",
    "df_auc_result_model_10.columns=[SEGMENT_COL,\"MODEL_10_AUC\"]\n",
    "df_auc_result_model_99.columns=[SEGMENT_COL,\"MODEL_99_AUC\"]\n",
    "\n",
    "df_auc_result_model_25=report_aggregate_roc_auc(df_test_batch_results_s3_model_25)\n",
    "df_auc_result_model_50=report_aggregate_roc_auc(df_test_batch_results_s3_model_50)\n",
    "df_auc_result_model_75=report_aggregate_roc_auc(df_test_batch_results_s3_model_75)\n",
    "\n",
    "df_auc_result_model_25.columns=[SEGMENT_COL,\"MODEL_25_AUC\"]\n",
    "df_auc_result_model_50.columns=[SEGMENT_COL,\"MODEL_50_AUC\"]\n",
    "df_auc_result_model_75.columns=[SEGMENT_COL,\"MODEL_75_AUC\"]\n",
    "\n",
    "df_test_auc_final=df_segment.merge(df_auc_result_model_01, on=SEGMENT_COL, how=\"left\").merge(df_auc_result_model_10, on=SEGMENT_COL, how=\"left\").merge(df_auc_result_model_25, on=SEGMENT_COL, how=\"left\").merge(df_auc_result_model_50, on=SEGMENT_COL, how=\"left\").merge(df_auc_result_model_75, on=SEGMENT_COL, how=\"left\").merge(df_auc_result_model_99, on=SEGMENT_COL, how=\"left\")\n",
    "\n",
    "\n",
    "df_test_auc_final.loc[len(df_test_auc_final)] = [\"13: Overall\"\n",
    "                                                  , df_test_batch_results_s3.shape[0]\n",
    "                                                  , test_01_batch_auc\n",
    "                                                  , test_10_batch_auc\n",
    "                                                  , test_25_batch_auc\n",
    "                                                  , test_50_batch_auc\n",
    "                                                  , test_75_batch_auc\n",
    "                                                  , test_99_batch_auc\n",
    "                                                ]\n",
    "df_test_auc_final"
   ]
  },
  {
   "cell_type": "markdown",
   "metadata": {},
   "source": [
    "# 8.2 Accuracy on balanced test dataset"
   ]
  },
  {
   "cell_type": "code",
   "execution_count": 277,
   "metadata": {},
   "outputs": [],
   "source": [
    "def create_balanced_test_data_set(data, random_state=RANDOM_STATE):\n",
    "    df_majority=data[data.ACTUAL==1]\n",
    "    df_minority=data[data.ACTUAL==0]\n",
    "    num_minority_class=df_minority.shape[0]\n",
    "    df_majority_frac=df_majority.sample(num_minority_class, random_state=random_state)\n",
    "    df_balanced_test=df_minority.append(df_majority_frac)\n",
    "    return df_balanced_test\n",
    "    \n",
    "df_balanced_test_batch_results_s3=create_balanced_test_data_set(df_test_batch_results_s3)"
   ]
  },
  {
   "cell_type": "code",
   "execution_count": 279,
   "metadata": {},
   "outputs": [],
   "source": [
    "balanced_test_01_accuracy_score=accuracy_score(df_balanced_test_batch_results_s3[\"ACTUAL\"]\n",
    "                                          , df_balanced_test_batch_results_s3[\"PREDICTED_01\"])\n",
    "balanced_test_10_accuracy_score=accuracy_score(df_balanced_test_batch_results_s3[\"ACTUAL\"]\n",
    "                                          , df_balanced_test_batch_results_s3[\"PREDICTED_10\"])\n",
    "balanced_test_99_accuracy_score=accuracy_score(df_balanced_test_batch_results_s3[\"ACTUAL\"]\n",
    "                                          , df_balanced_test_batch_results_s3[\"PREDICTED_99\"])\n",
    "\n",
    "balanced_test_25_accuracy_score=accuracy_score(df_balanced_test_batch_results_s3[\"ACTUAL\"]\n",
    "                                          , df_balanced_test_batch_results_s3[\"PREDICTED_25\"])\n",
    "balanced_test_50_accuracy_score=accuracy_score(df_balanced_test_batch_results_s3[\"ACTUAL\"]\n",
    "                                          , df_balanced_test_batch_results_s3[\"PREDICTED_50\"])\n",
    "balanced_test_75_accuracy_score=accuracy_score(df_balanced_test_batch_results_s3[\"ACTUAL\"]\n",
    "                                          , df_balanced_test_batch_results_s3[\"PREDICTED_75\"])"
   ]
  },
  {
   "cell_type": "code",
   "execution_count": 281,
   "metadata": {},
   "outputs": [
    {
     "data": {
      "text/plain": [
       "1    388373\n",
       "0    296076\n",
       "Name: ACTUAL, dtype: int64"
      ]
     },
     "execution_count": 281,
     "metadata": {},
     "output_type": "execute_result"
    }
   ],
   "source": [
    "df_test_batch_results_s3.ACTUAL.value_counts()"
   ]
  },
  {
   "cell_type": "code",
   "execution_count": 282,
   "metadata": {},
   "outputs": [
    {
     "data": {
      "text/plain": [
       "1    296076\n",
       "0    296076\n",
       "Name: ACTUAL, dtype: int64"
      ]
     },
     "execution_count": 282,
     "metadata": {},
     "output_type": "execute_result"
    }
   ],
   "source": [
    "df_balanced_test_batch_results_s3.ACTUAL.value_counts()"
   ]
  },
  {
   "cell_type": "code",
   "execution_count": 286,
   "metadata": {},
   "outputs": [],
   "source": [
    "df_balanced_test_batch_results_s3=df_balanced_test_batch_results_s3[df_balanced_test_batch_results_s3.FT_SEGMENT!=\"missing\"]\n",
    "\n",
    "df_balanced_segment=df_balanced_test_batch_results_s3.groupby(SEGMENT_COL).agg({SEGMENT_COL:[\"count\"]}).reset_index().rename(columns={\"count\":f\"COUNT_{SEGMENT_COL}\"})\n",
    "df_balanced_segment.columns=df_balanced_segment.columns.values[1]\n",
    "\n",
    "df_balanced_segment.sort_values(SEGMENT_COL, inplace=True)"
   ]
  },
  {
   "cell_type": "code",
   "execution_count": 287,
   "metadata": {},
   "outputs": [],
   "source": [
    "#df_balanced_test_batch_results_s3[SEGMENT_COL]=df_balanced_test_batch_results_s3[SEGMENT_COL].apply(lambda x : x.split(\":\")[1])\n",
    "\n",
    "df_balanced_test_batch_results_s3_step_1=df_balanced_test_batch_results_s3.merge(df_segment, on=SEGMENT_COL, how=\"left\")"
   ]
  },
  {
   "cell_type": "code",
   "execution_count": 288,
   "metadata": {},
   "outputs": [],
   "source": [
    "df_balanced_test_batch_results_s3_model_01=df_balanced_test_batch_results_s3_step_1[[\"ACTUAL\", SEGMENT_COL, \"PREDICTED_01\"]]\n",
    "df_balanced_test_batch_results_s3_model_10=df_balanced_test_batch_results_s3_step_1[[\"ACTUAL\", SEGMENT_COL, \"PREDICTED_10\"]]\n",
    "df_balanced_test_batch_results_s3_model_99=df_balanced_test_batch_results_s3_step_1[[\"ACTUAL\", SEGMENT_COL, \"PREDICTED_99\"]]"
   ]
  },
  {
   "cell_type": "code",
   "execution_count": null,
   "metadata": {},
   "outputs": [],
   "source": [
    "\n",
    "df_balanced_test_batch_results_s3_model_25=df_balanced_test_batch_results_s3_step_1[[\"ACTUAL\", SEGMENT_COL, \"PREDICTED_25\"]]\n",
    "df_balanced_test_batch_results_s3_model_50=df_balanced_test_batch_results_s3_step_1[[\"ACTUAL\", SEGMENT_COL, \"PREDICTED_50\"]]\n",
    "df_balanced_test_batch_results_s3_model_75=df_balanced_test_batch_results_s3_step_1[[\"ACTUAL\", SEGMENT_COL, \"PREDICTED_75\"]]\n",
    "\n",
    "col_names=[\"ACTUAL\", SEGMENT_COL, \"PREDICTED\"]\n",
    "\n",
    "df_balanced_test_batch_results_s3_model_01.columns=col_names\n",
    "df_balanced_test_batch_results_s3_model_10.columns=col_names\n",
    "df_balanced_test_batch_results_s3_model_99.columns=col_names\n",
    "\n",
    "df_balanced_test_batch_results_s3_model_25.columns=col_names\n",
    "df_balanced_test_batch_results_s3_model_50.columns=col_names\n",
    "df_balanced_test_batch_results_s3_model_75.columns=col_names\n",
    "\n",
    "def report_aggregate_accuracy(data):\n",
    "    return data.groupby(SEGMENT_COL).apply(lambda group: accuracy_score(group.ACTUAL, group.PREDICTED)).reset_index().rename(columns={0:\"ACCURACY\"})\n",
    "\n",
    "df_balanced_acc_result_model_01=report_aggregate_accuracy(df_balanced_test_batch_results_s3_model_01)\n",
    "df_balanced_acc_result_model_10=report_aggregate_accuracy(df_balanced_test_batch_results_s3_model_10)\n",
    "df_balanced_acc_result_model_99=report_aggregate_accuracy(df_balanced_test_batch_results_s3_model_99)\n",
    "\n",
    "df_balanced_acc_result_model_01.columns=[SEGMENT_COL,\"MODEL_01_ACC\"]\n",
    "df_balanced_acc_result_model_10.columns=[SEGMENT_COL,\"MODEL_10_ACC\"]\n",
    "df_balanced_acc_result_model_99.columns=[SEGMENT_COL,\"MODEL_99_ACC\"]\n",
    "\n",
    "df_balanced_acc_result_model_25=report_aggregate_accuracy(df_balanced_test_batch_results_s3_model_25)\n",
    "df_balanced_acc_result_model_50=report_aggregate_accuracy(df_balanced_test_batch_results_s3_model_50)\n",
    "df_balanced_acc_result_model_75=report_aggregate_accuracy(df_balanced_test_batch_results_s3_model_75)\n",
    "\n",
    "df_balanced_acc_result_model_25.columns=[SEGMENT_COL,\"MODEL_25_ACC\"]\n",
    "df_balanced_acc_result_model_50.columns=[SEGMENT_COL,\"MODEL_50_ACC\"]\n",
    "df_balanced_acc_result_model_75.columns=[SEGMENT_COL,\"MODEL_75_ACC\"]\n",
    "\n",
    "df_balanced_test_acc_final=df_balanced_segment.merge(df_balanced_acc_result_model_01, on=SEGMENT_COL, how=\"left\").merge(df_balanced_acc_result_model_10, on=SEGMENT_COL, how=\"left\").merge(df_balanced_acc_result_model_25, on=SEGMENT_COL, how=\"left\").merge(df_balanced_acc_result_model_50, on=SEGMENT_COL, how=\"left\").merge(df_balanced_acc_result_model_75, on=SEGMENT_COL, how=\"left\").merge(df_balanced_acc_result_model_99, on=SEGMENT_COL, how=\"left\")\n",
    "\n",
    "\n",
    "df_balanced_test_acc_final.loc[len(df_balanced_test_acc_final)] = [\"13: Overall\"\n",
    "                                                  , df_balanced_test_batch_results_s3.shape[0]\n",
    "                                                  , balanced_test_01_accuracy_score\n",
    "                                                  , balanced_test_10_accuracy_score\n",
    "                                                  , balanced_test_25_accuracy_score\n",
    "                                                  , balanced_test_50_accuracy_score\n",
    "                                                  , balanced_test_75_accuracy_score\n",
    "                                                  , balanced_test_99_accuracy_score\n",
    "                                                ]\n",
    "\n",
    "df_balanced_test_acc_final"
   ]
  },
  {
   "cell_type": "code",
   "execution_count": 180,
   "metadata": {},
   "outputs": [],
   "source": [
    "BALANCED_RESULT_FILE_NAME=f\"csv_weights_balanced_data_result_{TIME_STR}.csv\"\n",
    "df_balanced_test_acc_final.to_csv(BALANCED_RESULT_FILE_NAME, index=False)"
   ]
  },
  {
   "cell_type": "markdown",
   "metadata": {},
   "source": [
    "## 8.3 Confusion Matrix by Segment"
   ]
  },
  {
   "cell_type": "code",
   "execution_count": 299,
   "metadata": {},
   "outputs": [
    {
     "data": {
      "text/plain": [
       "12: Never Stream            173851\n",
       "10: Movie Exclusive          97978\n",
       "05: Hooked On Library        79133\n",
       "09: Mobile First             66415\n",
       "03: Series Viewer            65403\n",
       "01: Friends & BBT Fan        42499\n",
       "06: Series Dabbler           38691\n",
       "08: Series Abandoner         35706\n",
       "07: All Caught Up            33872\n",
       "11: Special Interest         24939\n",
       "04: Hooked & Ongoing         16172\n",
       "02: Talk Show & News Fan      9790\n",
       "Name: FT_SEGMENT, dtype: int64"
      ]
     },
     "execution_count": 299,
     "metadata": {},
     "output_type": "execute_result"
    }
   ],
   "source": [
    "df_test_batch_results_s3.FT_SEGMENT.value_counts(dropna=False)"
   ]
  },
  {
   "cell_type": "code",
   "execution_count": 315,
   "metadata": {},
   "outputs": [],
   "source": [
    "df_test_batch_results_s3_friends_and_bbt_fan=df_test_batch_results_s3[df_test_batch_results_s3.FT_SEGMENT==\"01: Friends & BBT Fan\"]"
   ]
  },
  {
   "cell_type": "code",
   "execution_count": 314,
   "metadata": {},
   "outputs": [],
   "source": [
    "df_test_batch_results_s3_talk_show_n_news_fan=df_test_batch_results_s3[df_test_batch_results_s3.FT_SEGMENT==\"02: Talk Show & News Fan\"]"
   ]
  },
  {
   "cell_type": "code",
   "execution_count": 313,
   "metadata": {},
   "outputs": [],
   "source": [
    "df_test_batch_results_s3_series_viewer=df_test_batch_results_s3[df_test_batch_results_s3.FT_SEGMENT==\"03: Series Viewer\"]"
   ]
  },
  {
   "cell_type": "code",
   "execution_count": 312,
   "metadata": {},
   "outputs": [],
   "source": [
    "df_test_batch_results_s3_hooked_and_ongoing=df_test_batch_results_s3[df_test_batch_results_s3.FT_SEGMENT==\"04: Hooked & Ongoing\"]"
   ]
  },
  {
   "cell_type": "code",
   "execution_count": 309,
   "metadata": {},
   "outputs": [],
   "source": [
    "df_test_batch_results_s3_hooked_on_library=df_test_batch_results_s3[df_test_batch_results_s3.FT_SEGMENT==\"05: Hooked On Library\"]"
   ]
  },
  {
   "cell_type": "code",
   "execution_count": 308,
   "metadata": {},
   "outputs": [],
   "source": [
    "df_test_batch_results_s3_series_dabbler=df_test_batch_results_s3[df_test_batch_results_s3.FT_SEGMENT==\"06: Series Dabbler\"]"
   ]
  },
  {
   "cell_type": "code",
   "execution_count": 307,
   "metadata": {},
   "outputs": [],
   "source": [
    "df_test_batch_results_s3_all_caught_up=df_test_batch_results_s3[df_test_batch_results_s3.FT_SEGMENT==\"07: All Caught Up\"]"
   ]
  },
  {
   "cell_type": "code",
   "execution_count": 306,
   "metadata": {},
   "outputs": [],
   "source": [
    "df_test_batch_results_s3_series_abandoner=df_test_batch_results_s3[df_test_batch_results_s3.FT_SEGMENT==\"08: Series Abandoner\"]"
   ]
  },
  {
   "cell_type": "code",
   "execution_count": 304,
   "metadata": {},
   "outputs": [],
   "source": [
    "df_test_batch_results_s3_mobile_first=df_test_batch_results_s3[df_test_batch_results_s3.FT_SEGMENT==\"09: Mobile First\"]"
   ]
  },
  {
   "cell_type": "code",
   "execution_count": 302,
   "metadata": {},
   "outputs": [],
   "source": [
    "df_test_batch_results_s3_movie_exclusive=df_test_batch_results_s3[df_test_batch_results_s3.FT_SEGMENT==\"10: Movie Exclusive\"]"
   ]
  },
  {
   "cell_type": "code",
   "execution_count": 300,
   "metadata": {},
   "outputs": [],
   "source": [
    "df_test_batch_results_s3_spl_interest=df_test_batch_results_s3[df_test_batch_results_s3.FT_SEGMENT==\"11: Special Interest\"]"
   ]
  },
  {
   "cell_type": "code",
   "execution_count": 297,
   "metadata": {},
   "outputs": [],
   "source": [
    "df_test_batch_results_s3_never_stream=df_test_batch_results_s3[df_test_batch_results_s3.FT_SEGMENT==\"12: Never Stream\"]"
   ]
  },
  {
   "cell_type": "code",
   "execution_count": 317,
   "metadata": {},
   "outputs": [
    {
     "data": {
      "text/plain": [
       "(42499, 14)"
      ]
     },
     "execution_count": 317,
     "metadata": {},
     "output_type": "execute_result"
    }
   ],
   "source": [
    "df_test_batch_results_s3_friends_and_bbt_fan.shape"
   ]
  },
  {
   "cell_type": "code",
   "execution_count": 318,
   "metadata": {},
   "outputs": [
    {
     "data": {
      "text/plain": [
       "(9790, 14)"
      ]
     },
     "execution_count": 318,
     "metadata": {},
     "output_type": "execute_result"
    }
   ],
   "source": [
    "df_test_batch_results_s3_talk_show_n_news_fan.shape"
   ]
  },
  {
   "cell_type": "code",
   "execution_count": 319,
   "metadata": {},
   "outputs": [
    {
     "data": {
      "text/plain": [
       "(65403, 14)"
      ]
     },
     "execution_count": 319,
     "metadata": {},
     "output_type": "execute_result"
    }
   ],
   "source": [
    "df_test_batch_results_s3_series_viewer.shape"
   ]
  },
  {
   "cell_type": "code",
   "execution_count": 305,
   "metadata": {},
   "outputs": [
    {
     "data": {
      "text/plain": [
       "(66415, 14)"
      ]
     },
     "execution_count": 305,
     "metadata": {},
     "output_type": "execute_result"
    }
   ],
   "source": [
    "df_test_batch_results_s3_mobile_first.shape"
   ]
  },
  {
   "cell_type": "code",
   "execution_count": 303,
   "metadata": {},
   "outputs": [
    {
     "data": {
      "text/plain": [
       "(97978, 14)"
      ]
     },
     "execution_count": 303,
     "metadata": {},
     "output_type": "execute_result"
    }
   ],
   "source": [
    "df_test_batch_results_s3_movie_exclusive.shape"
   ]
  },
  {
   "cell_type": "code",
   "execution_count": 301,
   "metadata": {},
   "outputs": [
    {
     "data": {
      "text/plain": [
       "(24939, 14)"
      ]
     },
     "execution_count": 301,
     "metadata": {},
     "output_type": "execute_result"
    }
   ],
   "source": [
    "df_test_batch_results_s3_spl_interest.shape"
   ]
  },
  {
   "cell_type": "code",
   "execution_count": 298,
   "metadata": {},
   "outputs": [
    {
     "data": {
      "text/plain": [
       "(173851, 14)"
      ]
     },
     "execution_count": 298,
     "metadata": {},
     "output_type": "execute_result"
    }
   ],
   "source": [
    "df_test_batch_results_s3_never_stream.shape"
   ]
  },
  {
   "cell_type": "markdown",
   "metadata": {},
   "source": [
    "## 8.3.1 : Friends & BBT Fan"
   ]
  },
  {
   "cell_type": "code",
   "execution_count": 322,
   "metadata": {},
   "outputs": [],
   "source": [
    "friends_bbt_test_01_confusion_matrix=confusion_matrix(df_test_batch_results_s3_friends_and_bbt_fan[\"ACTUAL\"]\n",
    "                                          , df_test_batch_results_s3_friends_and_bbt_fan[\"PREDICTED_01\"])\n",
    "\n",
    "never_stream_test_01_confusion_matrix=confusion_matrix(df_test_batch_results_s3_never_stream[\"ACTUAL\"]\n",
    "                                          , df_test_batch_results_s3_never_stream[\"PREDICTED_01\"])"
   ]
  },
  {
   "cell_type": "code",
   "execution_count": 323,
   "metadata": {},
   "outputs": [
    {
     "data": {
      "text/plain": [
       "array([[ 8268,  3618],\n",
       "       [  765, 29848]])"
      ]
     },
     "execution_count": 323,
     "metadata": {},
     "output_type": "execute_result"
    }
   ],
   "source": [
    "friends_bbt_test_01_confusion_matrix"
   ]
  },
  {
   "cell_type": "code",
   "execution_count": 325,
   "metadata": {},
   "outputs": [
    {
     "data": {
      "text/plain": [
       "array([[70818, 22904],\n",
       "       [11489, 68640]])"
      ]
     },
     "execution_count": 325,
     "metadata": {},
     "output_type": "execute_result"
    }
   ],
   "source": [
    "never_stream_test_01_confusion_matrix"
   ]
  },
  {
   "cell_type": "code",
   "execution_count": 330,
   "metadata": {},
   "outputs": [],
   "source": [
    "friends_bbt_test_99_confusion_matrix=confusion_matrix(df_test_batch_results_s3_friends_and_bbt_fan[\"ACTUAL\"]\n",
    "                                          , df_test_batch_results_s3_friends_and_bbt_fan[\"PREDICTED_99\"])\n",
    "\n",
    "never_stream_test_99_confusion_matrix=confusion_matrix(df_test_batch_results_s3_never_stream[\"ACTUAL\"]\n",
    "                                          , df_test_batch_results_s3_never_stream[\"PREDICTED_99\"])"
   ]
  },
  {
   "cell_type": "code",
   "execution_count": 331,
   "metadata": {},
   "outputs": [
    {
     "data": {
      "text/plain": [
       "array([[ 8169,  3717],\n",
       "       [  868, 29745]])"
      ]
     },
     "execution_count": 331,
     "metadata": {},
     "output_type": "execute_result"
    }
   ],
   "source": [
    "friends_bbt_test_99_confusion_matrix"
   ]
  },
  {
   "cell_type": "code",
   "execution_count": 332,
   "metadata": {},
   "outputs": [
    {
     "data": {
      "text/plain": [
       "array([[73335, 20387],\n",
       "       [11577, 68552]])"
      ]
     },
     "execution_count": 332,
     "metadata": {},
     "output_type": "execute_result"
    }
   ],
   "source": [
    "never_stream_test_99_confusion_matrix"
   ]
  }
 ],
 "metadata": {
  "kernelspec": {
   "display_name": "conda_python3",
   "language": "python",
   "name": "conda_python3"
  },
  "language_info": {
   "codemirror_mode": {
    "name": "ipython",
    "version": 3
   },
   "file_extension": ".py",
   "mimetype": "text/x-python",
   "name": "python",
   "nbconvert_exporter": "python",
   "pygments_lexer": "ipython3",
   "version": "3.6.10"
  }
 },
 "nbformat": 4,
 "nbformat_minor": 4
}
